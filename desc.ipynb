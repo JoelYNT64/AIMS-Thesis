{
 "cells": [
  {
   "cell_type": "code",
   "execution_count": 1,
   "id": "391d117f",
   "metadata": {},
   "outputs": [],
   "source": [
    "import numpy as np\n",
    "import matplotlib.pyplot as plt\n",
    "import pandas as pd\n",
    "plt.style.use(\"seaborn\")\n",
    "import prince"
   ]
  },
  {
   "cell_type": "markdown",
   "id": "f4c80fd8",
   "metadata": {},
   "source": [
    "## Data"
   ]
  },
  {
   "cell_type": "code",
   "execution_count": 2,
   "id": "3e5d3d4a",
   "metadata": {},
   "outputs": [],
   "source": [
    "ind= pd.read_csv(\"../Datasets/India_2021_desc.csv\")\n",
    "ind_a= pd.read_csv(\"../Datasets/India_2021_access.csv\")\n",
    "ind_u= pd.read_csv(\"../Datasets/India_2021_usage.csv\")\n",
    "\n",
    "alg= pd.read_csv('../Datasets/Algeria_2021_desc.csv')\n",
    "alg_a= pd.read_csv('../Datasets/Algeria_2021_access.csv')\n",
    "alg_u= pd.read_csv('../Datasets/Algeria_2021_usage.csv')\n",
    "\n",
    "nor= pd.read_csv(\"../Datasets/Norway_2021_desc.csv\")\n",
    "nor_a= pd.read_csv(\"../Datasets/Norway_2021_access.csv\")\n",
    "nor_u= pd.read_csv(\"../Datasets/Norway_2021_usage.csv\")\n",
    "\n",
    "sa= pd.read_csv('../Datasets/South Africa_2021_desc.csv')\n",
    "sa_a= pd.read_csv('../Datasets/South Africa_2021_access.csv')\n",
    "sa_u= pd.read_csv('../Datasets/South Africa_2021_usage.csv')\n",
    "\n",
    "cam= pd.read_csv(\"../Datasets/Cameroon_2021_desc.csv\")\n",
    "cam_a= pd.read_csv(\"../Datasets/Cameroon_2021_access.csv\")\n",
    "cam_u= pd.read_csv(\"../Datasets/Cameroon_2021_usage.csv\")\n",
    "\n",
    "ken= pd.read_csv('../Datasets/Kenya_2021_desc.csv')\n",
    "ken_a= pd.read_csv('../Datasets/Kenya_2021_access.csv')\n",
    "ken_u= pd.read_csv('../Datasets/Kenya_2021_usage.csv')\n",
    "\n",
    "jap= pd.read_csv(\"../Datasets/Japan_2021_desc.csv\")\n",
    "jap_a= pd.read_csv(\"../Datasets/Japan_2021_access.csv\")\n",
    "jap_u= pd.read_csv(\"../Datasets/Japan_2021_usage.csv\")\n",
    "\n",
    "bra= pd.read_csv('../Datasets/Brazil_2021_desc.csv')\n",
    "bra_a= pd.read_csv('../Datasets/Brazil_2021_access.csv')\n",
    "bra_u= pd.read_csv('../Datasets/Brazil_2021_usage.csv')"
   ]
  },
  {
   "cell_type": "code",
   "execution_count": 3,
   "id": "ec7afdda",
   "metadata": {},
   "outputs": [],
   "source": [
    "ctry= [alg, bra, cam, ind, jap, ken, nor, sa]\n",
    "ctry_a= [alg_a, bra_a, cam_a, ind_a, jap_a, ken_a, nor_a, sa_a]\n",
    "ctry_u= [alg_u, bra_u, cam_u, ind_u, jap_u, ken_u, nor_u, sa_u]\n",
    "ctry_name= ['Algeria', 'Brazil', 'Cameroon', 'India', 'Japan', 'Kenya', 'Norway', \n",
    "            'South Africa']\n",
    "df= pd.concat(ctry, axis=0)\n",
    "df_a= pd.concat(ctry_a, axis=0)\n",
    "df_u= pd.concat(ctry_u, axis=0)"
   ]
  },
  {
   "cell_type": "code",
   "execution_count": 4,
   "id": "8487c29a",
   "metadata": {},
   "outputs": [
    {
     "data": {
      "text/html": [
       "<div>\n",
       "<style scoped>\n",
       "    .dataframe tbody tr th:only-of-type {\n",
       "        vertical-align: middle;\n",
       "    }\n",
       "\n",
       "    .dataframe tbody tr th {\n",
       "        vertical-align: top;\n",
       "    }\n",
       "\n",
       "    .dataframe thead th {\n",
       "        text-align: right;\n",
       "    }\n",
       "</style>\n",
       "<table border=\"1\" class=\"dataframe\">\n",
       "  <thead>\n",
       "    <tr style=\"text-align: right;\">\n",
       "      <th></th>\n",
       "      <th>wgt</th>\n",
       "      <th>female</th>\n",
       "      <th>age</th>\n",
       "      <th>educ</th>\n",
       "      <th>inc_q</th>\n",
       "      <th>fin4</th>\n",
       "      <th>fin5</th>\n",
       "      <th>fin8</th>\n",
       "      <th>fin9</th>\n",
       "      <th>fin10</th>\n",
       "      <th>...</th>\n",
       "      <th>fin31b</th>\n",
       "      <th>fin32</th>\n",
       "      <th>fin37</th>\n",
       "      <th>fin38</th>\n",
       "      <th>saved</th>\n",
       "      <th>borrowed</th>\n",
       "      <th>anydigpayment</th>\n",
       "      <th>merchantpay_dig</th>\n",
       "      <th>fin34a</th>\n",
       "      <th>economy</th>\n",
       "    </tr>\n",
       "  </thead>\n",
       "  <tbody>\n",
       "    <tr>\n",
       "      <th>0</th>\n",
       "      <td>1.120227</td>\n",
       "      <td>1</td>\n",
       "      <td>1.0</td>\n",
       "      <td>2</td>\n",
       "      <td>5</td>\n",
       "      <td>No</td>\n",
       "      <td>No</td>\n",
       "      <td>NaN</td>\n",
       "      <td>Yes</td>\n",
       "      <td>Yes</td>\n",
       "      <td>...</td>\n",
       "      <td>NaN</td>\n",
       "      <td>No</td>\n",
       "      <td>2</td>\n",
       "      <td>No</td>\n",
       "      <td>1</td>\n",
       "      <td>2</td>\n",
       "      <td>2</td>\n",
       "      <td>2.0</td>\n",
       "      <td>0</td>\n",
       "      <td>Algeria</td>\n",
       "    </tr>\n",
       "    <tr>\n",
       "      <th>1</th>\n",
       "      <td>2.020042</td>\n",
       "      <td>2</td>\n",
       "      <td>5.0</td>\n",
       "      <td>1</td>\n",
       "      <td>1</td>\n",
       "      <td>NaN</td>\n",
       "      <td>No</td>\n",
       "      <td>NaN</td>\n",
       "      <td>Yes</td>\n",
       "      <td>Yes</td>\n",
       "      <td>...</td>\n",
       "      <td>No</td>\n",
       "      <td>Yes</td>\n",
       "      <td>1</td>\n",
       "      <td>No</td>\n",
       "      <td>2</td>\n",
       "      <td>1</td>\n",
       "      <td>1</td>\n",
       "      <td>2.0</td>\n",
       "      <td>1</td>\n",
       "      <td>Algeria</td>\n",
       "    </tr>\n",
       "    <tr>\n",
       "      <th>2</th>\n",
       "      <td>0.315414</td>\n",
       "      <td>2</td>\n",
       "      <td>2.0</td>\n",
       "      <td>3</td>\n",
       "      <td>5</td>\n",
       "      <td>Yes</td>\n",
       "      <td>Yes</td>\n",
       "      <td>NaN</td>\n",
       "      <td>Yes</td>\n",
       "      <td>Yes</td>\n",
       "      <td>...</td>\n",
       "      <td>No</td>\n",
       "      <td>Yes</td>\n",
       "      <td>2</td>\n",
       "      <td>No</td>\n",
       "      <td>1</td>\n",
       "      <td>1</td>\n",
       "      <td>1</td>\n",
       "      <td>1.0</td>\n",
       "      <td>1</td>\n",
       "      <td>Algeria</td>\n",
       "    </tr>\n",
       "    <tr>\n",
       "      <th>3</th>\n",
       "      <td>0.366572</td>\n",
       "      <td>2</td>\n",
       "      <td>1.0</td>\n",
       "      <td>2</td>\n",
       "      <td>1</td>\n",
       "      <td>NaN</td>\n",
       "      <td>NaN</td>\n",
       "      <td>NaN</td>\n",
       "      <td>NaN</td>\n",
       "      <td>NaN</td>\n",
       "      <td>...</td>\n",
       "      <td>No</td>\n",
       "      <td>Yes</td>\n",
       "      <td>1</td>\n",
       "      <td>No</td>\n",
       "      <td>1</td>\n",
       "      <td>1</td>\n",
       "      <td>2</td>\n",
       "      <td>2.0</td>\n",
       "      <td>0</td>\n",
       "      <td>Algeria</td>\n",
       "    </tr>\n",
       "    <tr>\n",
       "      <th>4</th>\n",
       "      <td>0.229559</td>\n",
       "      <td>2</td>\n",
       "      <td>5.0</td>\n",
       "      <td>2</td>\n",
       "      <td>4</td>\n",
       "      <td>No</td>\n",
       "      <td>Yes</td>\n",
       "      <td>NaN</td>\n",
       "      <td>Yes</td>\n",
       "      <td>Yes</td>\n",
       "      <td>...</td>\n",
       "      <td>No</td>\n",
       "      <td>No</td>\n",
       "      <td>2</td>\n",
       "      <td>No</td>\n",
       "      <td>1</td>\n",
       "      <td>2</td>\n",
       "      <td>1</td>\n",
       "      <td>1.0</td>\n",
       "      <td>0</td>\n",
       "      <td>Algeria</td>\n",
       "    </tr>\n",
       "    <tr>\n",
       "      <th>...</th>\n",
       "      <td>...</td>\n",
       "      <td>...</td>\n",
       "      <td>...</td>\n",
       "      <td>...</td>\n",
       "      <td>...</td>\n",
       "      <td>...</td>\n",
       "      <td>...</td>\n",
       "      <td>...</td>\n",
       "      <td>...</td>\n",
       "      <td>...</td>\n",
       "      <td>...</td>\n",
       "      <td>...</td>\n",
       "      <td>...</td>\n",
       "      <td>...</td>\n",
       "      <td>...</td>\n",
       "      <td>...</td>\n",
       "      <td>...</td>\n",
       "      <td>...</td>\n",
       "      <td>...</td>\n",
       "      <td>...</td>\n",
       "      <td>...</td>\n",
       "    </tr>\n",
       "    <tr>\n",
       "      <th>1009</th>\n",
       "      <td>1.115406</td>\n",
       "      <td>2</td>\n",
       "      <td>2.0</td>\n",
       "      <td>2</td>\n",
       "      <td>4</td>\n",
       "      <td>NaN</td>\n",
       "      <td>NaN</td>\n",
       "      <td>NaN</td>\n",
       "      <td>NaN</td>\n",
       "      <td>NaN</td>\n",
       "      <td>...</td>\n",
       "      <td>NaN</td>\n",
       "      <td>No</td>\n",
       "      <td>2</td>\n",
       "      <td>No</td>\n",
       "      <td>2</td>\n",
       "      <td>2</td>\n",
       "      <td>2</td>\n",
       "      <td>2.0</td>\n",
       "      <td>0</td>\n",
       "      <td>South Africa</td>\n",
       "    </tr>\n",
       "    <tr>\n",
       "      <th>1010</th>\n",
       "      <td>0.523865</td>\n",
       "      <td>1</td>\n",
       "      <td>2.0</td>\n",
       "      <td>2</td>\n",
       "      <td>4</td>\n",
       "      <td>Yes</td>\n",
       "      <td>Yes</td>\n",
       "      <td>NaN</td>\n",
       "      <td>Yes</td>\n",
       "      <td>Yes</td>\n",
       "      <td>...</td>\n",
       "      <td>Yes</td>\n",
       "      <td>Yes</td>\n",
       "      <td>2</td>\n",
       "      <td>No</td>\n",
       "      <td>1</td>\n",
       "      <td>1</td>\n",
       "      <td>1</td>\n",
       "      <td>1.0</td>\n",
       "      <td>1</td>\n",
       "      <td>South Africa</td>\n",
       "    </tr>\n",
       "    <tr>\n",
       "      <th>1011</th>\n",
       "      <td>3.632846</td>\n",
       "      <td>2</td>\n",
       "      <td>1.0</td>\n",
       "      <td>2</td>\n",
       "      <td>2</td>\n",
       "      <td>NaN</td>\n",
       "      <td>Yes</td>\n",
       "      <td>NaN</td>\n",
       "      <td>Yes</td>\n",
       "      <td>No</td>\n",
       "      <td>...</td>\n",
       "      <td>NaN</td>\n",
       "      <td>No</td>\n",
       "      <td>2</td>\n",
       "      <td>No</td>\n",
       "      <td>1</td>\n",
       "      <td>1</td>\n",
       "      <td>1</td>\n",
       "      <td>2.0</td>\n",
       "      <td>0</td>\n",
       "      <td>South Africa</td>\n",
       "    </tr>\n",
       "    <tr>\n",
       "      <th>1012</th>\n",
       "      <td>1.511462</td>\n",
       "      <td>1</td>\n",
       "      <td>1.0</td>\n",
       "      <td>2</td>\n",
       "      <td>5</td>\n",
       "      <td>Yes</td>\n",
       "      <td>Yes</td>\n",
       "      <td>NaN</td>\n",
       "      <td>Yes</td>\n",
       "      <td>Yes</td>\n",
       "      <td>...</td>\n",
       "      <td>NaN</td>\n",
       "      <td>No</td>\n",
       "      <td>2</td>\n",
       "      <td>No</td>\n",
       "      <td>2</td>\n",
       "      <td>1</td>\n",
       "      <td>1</td>\n",
       "      <td>1.0</td>\n",
       "      <td>0</td>\n",
       "      <td>South Africa</td>\n",
       "    </tr>\n",
       "    <tr>\n",
       "      <th>1013</th>\n",
       "      <td>0.946625</td>\n",
       "      <td>1</td>\n",
       "      <td>2.0</td>\n",
       "      <td>2</td>\n",
       "      <td>5</td>\n",
       "      <td>Yes</td>\n",
       "      <td>Yes</td>\n",
       "      <td>NaN</td>\n",
       "      <td>Yes</td>\n",
       "      <td>Yes</td>\n",
       "      <td>...</td>\n",
       "      <td>No</td>\n",
       "      <td>No</td>\n",
       "      <td>2</td>\n",
       "      <td>No</td>\n",
       "      <td>1</td>\n",
       "      <td>2</td>\n",
       "      <td>1</td>\n",
       "      <td>1.0</td>\n",
       "      <td>0</td>\n",
       "      <td>South Africa</td>\n",
       "    </tr>\n",
       "  </tbody>\n",
       "</table>\n",
       "<p>10029 rows × 36 columns</p>\n",
       "</div>"
      ],
      "text/plain": [
       "           wgt  female  age  educ  inc_q fin4 fin5 fin8 fin9 fin10  ...  \\\n",
       "0     1.120227       1  1.0     2      5   No   No  NaN  Yes   Yes  ...   \n",
       "1     2.020042       2  5.0     1      1  NaN   No  NaN  Yes   Yes  ...   \n",
       "2     0.315414       2  2.0     3      5  Yes  Yes  NaN  Yes   Yes  ...   \n",
       "3     0.366572       2  1.0     2      1  NaN  NaN  NaN  NaN   NaN  ...   \n",
       "4     0.229559       2  5.0     2      4   No  Yes  NaN  Yes   Yes  ...   \n",
       "...        ...     ...  ...   ...    ...  ...  ...  ...  ...   ...  ...   \n",
       "1009  1.115406       2  2.0     2      4  NaN  NaN  NaN  NaN   NaN  ...   \n",
       "1010  0.523865       1  2.0     2      4  Yes  Yes  NaN  Yes   Yes  ...   \n",
       "1011  3.632846       2  1.0     2      2  NaN  Yes  NaN  Yes    No  ...   \n",
       "1012  1.511462       1  1.0     2      5  Yes  Yes  NaN  Yes   Yes  ...   \n",
       "1013  0.946625       1  2.0     2      5  Yes  Yes  NaN  Yes   Yes  ...   \n",
       "\n",
       "     fin31b  fin32 fin37 fin38 saved borrowed anydigpayment merchantpay_dig  \\\n",
       "0       NaN     No     2    No     1        2             2             2.0   \n",
       "1        No    Yes     1    No     2        1             1             2.0   \n",
       "2        No    Yes     2    No     1        1             1             1.0   \n",
       "3        No    Yes     1    No     1        1             2             2.0   \n",
       "4        No     No     2    No     1        2             1             1.0   \n",
       "...     ...    ...   ...   ...   ...      ...           ...             ...   \n",
       "1009    NaN     No     2    No     2        2             2             2.0   \n",
       "1010    Yes    Yes     2    No     1        1             1             1.0   \n",
       "1011    NaN     No     2    No     1        1             1             2.0   \n",
       "1012    NaN     No     2    No     2        1             1             1.0   \n",
       "1013     No     No     2    No     1        2             1             1.0   \n",
       "\n",
       "     fin34a       economy  \n",
       "0         0       Algeria  \n",
       "1         1       Algeria  \n",
       "2         1       Algeria  \n",
       "3         0       Algeria  \n",
       "4         0       Algeria  \n",
       "...     ...           ...  \n",
       "1009      0  South Africa  \n",
       "1010      1  South Africa  \n",
       "1011      0  South Africa  \n",
       "1012      0  South Africa  \n",
       "1013      0  South Africa  \n",
       "\n",
       "[10029 rows x 36 columns]"
      ]
     },
     "execution_count": 4,
     "metadata": {},
     "output_type": "execute_result"
    }
   ],
   "source": [
    "df_u= pd.concat([df_u, df[\"economy\"]], axis=1)\n",
    "df_u"
   ]
  },
  {
   "cell_type": "markdown",
   "id": "50c062e4",
   "metadata": {},
   "source": [
    "## Gender"
   ]
  },
  {
   "cell_type": "code",
   "execution_count": 5,
   "id": "d41f1219",
   "metadata": {},
   "outputs": [],
   "source": [
    "counts = df.groupby(['economy', 'fin34a', 'female']).size().reset_index(name='count')\n",
    "total_counts = counts.groupby(['economy', 'fin34a'])['count'].transform('sum')\n",
    "counts['percentage'] = (counts['count'] / total_counts) * 100\n",
    "counts= counts[counts[\"fin34a\"]== 1]\n",
    "pivot_table = counts.pivot(index=['economy'], columns='female', \n",
    "                           values='percentage')"
   ]
  },
  {
   "cell_type": "code",
   "execution_count": 6,
   "id": "1572b1dc",
   "metadata": {},
   "outputs": [
    {
     "data": {
      "image/png": "[encoded data removed]",
      "text/plain": [
       "<Figure size 1152x576 with 1 Axes>"
      ]
     },
     "metadata": {
      "needs_background": "light"
     },
     "output_type": "display_data"
    }
   ],
   "source": [
    "#colors = ['#800000', '#008000']\n",
    "fig, ax = plt.subplots(figsize=(16, 8))\n",
    "pivot_table.plot(kind='bar', stacked=False, ax= ax)#color= colors, ax=ax)\n",
    "\n",
    "# Set the plot title and axis labels\n",
    "plt.xlabel('Country')\n",
    "plt.ylabel('Percentage')\n",
    "legend_labels = ['Female', 'Male']\n",
    "ax.legend(legend_labels)\n",
    "plt.ylim([0, 80])\n",
    "\n",
    "# Rotate the x-axis labels for better readability if needed\n",
    "plt.xticks(rotation=0)\n",
    "plt.savefig('../../images/desc_gender.png', bbox_inches='tight')\n",
    "# Display the plot\n",
    "plt.show()"
   ]
  },
  {
   "cell_type": "code",
   "execution_count": 7,
   "id": "e2e115cf",
   "metadata": {},
   "outputs": [
    {
     "data": {
      "image/png": "[encoded data removed]",
      "text/plain": [
       "<Figure size 1152x576 with 1 Axes>"
      ]
     },
     "metadata": {
      "needs_background": "light"
     },
     "output_type": "display_data"
    }
   ],
   "source": [
    "df_u= df_u[df_u[\"fin32\"]==\"Yes\"]\n",
    "counts = df_u.groupby(['economy', 'female']).size().reset_index(name='count')\n",
    "total_counts = counts.groupby(['economy'])['count'].transform('sum')\n",
    "counts['percentage'] = (counts['count'] / total_counts) * 100\n",
    "pivot_table = counts.pivot(index=['economy'], columns='female', \n",
    "                           values='percentage')\n",
    "fig, ax = plt.subplots(figsize=(16, 8))\n",
    "pivot_table.plot(kind='bar', stacked=False, ax= ax)#color= colors, ax=ax)\n",
    "\n",
    "# Set the plot title and axis labels\n",
    "plt.xlabel('Country')\n",
    "plt.ylabel('Percentage')\n",
    "legend_labels = ['Female', 'Male']\n",
    "ax.legend(legend_labels)\n",
    "plt.ylim([0, 80])\n",
    "\n",
    "# Rotate the x-axis labels for better readability if needed\n",
    "plt.xticks(rotation=0)\n",
    "plt.savefig('../../images/des_gender.png', bbox_inches='tight')\n",
    "# Display the plot\n",
    "plt.show()"
   ]
  },
  {
   "cell_type": "markdown",
   "id": "ac225022",
   "metadata": {},
   "source": [
    "## Age"
   ]
  },
  {
   "cell_type": "code",
   "execution_count": 8,
   "id": "1c2a8c6b",
   "metadata": {},
   "outputs": [],
   "source": [
    "counts = df.groupby(['economy', 'fin34a', 'age']).size().reset_index(name='count')\n",
    "total_counts = counts.groupby(['economy', 'fin34a'])['count'].transform('sum')\n",
    "counts['percentage'] = (counts['count'] / total_counts) * 100\n",
    "counts= counts[counts[\"fin34a\"]== 1]\n",
    "pivot_table = counts.pivot(index=['economy'], columns='age', \n",
    "                           values='percentage')"
   ]
  },
  {
   "cell_type": "code",
   "execution_count": 9,
   "id": "f32ecff2",
   "metadata": {},
   "outputs": [
    {
     "data": {
      "image/png": "[encoded data removed]",
      "text/plain": [
       "<Figure size 1152x576 with 1 Axes>"
      ]
     },
     "metadata": {
      "needs_background": "light"
     },
     "output_type": "display_data"
    }
   ],
   "source": [
    "fig, ax = plt.subplots(figsize=(16, 8))\n",
    "pivot_table.plot(kind='bar', stacked=False, ax= ax)#color= colors, ax=ax)\n",
    "\n",
    "# Set the plot title and axis labels\n",
    "plt.xlabel('Country')\n",
    "plt.ylabel('Percentage')\n",
    "legend_labels = ['15-24', '25-34', '35-44', '45-54', '55-64', '65+']\n",
    "ax.legend(legend_labels)\n",
    "plt.ylim([0, 50])\n",
    "\n",
    "# Rotate the x-axis labels for better readability if needed\n",
    "plt.xticks(rotation=0)\n",
    "plt.savefig('../../images/desc_age.png', bbox_inches='tight')\n",
    "# Display the plot\n",
    "plt.show()"
   ]
  },
  {
   "cell_type": "code",
   "execution_count": 10,
   "id": "fe9851f1",
   "metadata": {},
   "outputs": [
    {
     "data": {
      "image/png": "[encoded data removed]",
      "text/plain": [
       "<Figure size 1152x576 with 1 Axes>"
      ]
     },
     "metadata": {
      "needs_background": "light"
     },
     "output_type": "display_data"
    }
   ],
   "source": [
    "counts = df_u.groupby(['economy', 'age']).size().reset_index(name='count')\n",
    "total_counts = counts.groupby(['economy'])['count'].transform('sum')\n",
    "counts['percentage'] = (counts['count'] / total_counts) * 100\n",
    "pivot_table = counts.pivot(index=['economy'], columns='age', \n",
    "                           values='percentage')\n",
    "fig, ax = plt.subplots(figsize=(16, 8))\n",
    "pivot_table.plot(kind='bar', stacked=False, ax= ax)#color= colors, ax=ax)\n",
    "\n",
    "# Set the plot title and axis labels\n",
    "plt.xlabel('Country')\n",
    "plt.ylabel('Percentage')\n",
    "legend_labels = ['15-24', '25-34', '35-44', '45-54', '55-64', '65+']\n",
    "ax.legend(legend_labels)\n",
    "plt.ylim([0, 50])\n",
    "\n",
    "# Rotate the x-axis labels for better readability if needed\n",
    "plt.xticks(rotation=0)\n",
    "plt.savefig('../../images/des_age.png', bbox_inches='tight')\n",
    "# Display the plot\n",
    "plt.show()"
   ]
  },
  {
   "cell_type": "markdown",
   "id": "07feda12",
   "metadata": {},
   "source": [
    "## Education Level"
   ]
  },
  {
   "cell_type": "code",
   "execution_count": 11,
   "id": "69c9503c",
   "metadata": {},
   "outputs": [],
   "source": [
    "counts = df.groupby(['economy', 'fin34a', 'educ']).size().reset_index(name='count')\n",
    "total_counts = counts.groupby(['economy', 'fin34a'])['count'].transform('sum')\n",
    "counts['percentage'] = (counts['count'] / total_counts) * 100\n",
    "counts= counts[counts[\"fin34a\"]== 1]\n",
    "pivot_table = counts.pivot(index=['economy'], columns='educ', \n",
    "                           values='percentage')"
   ]
  },
  {
   "cell_type": "code",
   "execution_count": 12,
   "id": "c9b5ba81",
   "metadata": {},
   "outputs": [
    {
     "data": {
      "image/png": "[encoded data removed]",
      "text/plain": [
       "<Figure size 1152x576 with 1 Axes>"
      ]
     },
     "metadata": {
      "needs_background": "light"
     },
     "output_type": "display_data"
    }
   ],
   "source": [
    "#colors = ['#800000', '#000080']\n",
    "fig, ax = plt.subplots(figsize=(16, 8))\n",
    "pivot_table.plot(kind='bar', stacked=False, ax=ax)\n",
    "\n",
    "# Set the plot title and axis labels\n",
    "plt.xlabel('Country and Education Level')\n",
    "plt.ylabel('Percentage')\n",
    "legend_labels = ['Primary School', 'High School', 'University']\n",
    "ax.legend(legend_labels)\n",
    "\n",
    "\n",
    "# Rotate the x-axis labels for better readability if needed\n",
    "plt.xticks(rotation=0)\n",
    "plt.savefig('../../images/desc_educ.png', bbox_inches='tight')\n",
    "# Display the plot\n",
    "plt.show()"
   ]
  },
  {
   "cell_type": "code",
   "execution_count": 13,
   "id": "d7738cc4",
   "metadata": {},
   "outputs": [
    {
     "data": {
      "image/png": "[encoded data removed]",
      "text/plain": [
       "<Figure size 1152x576 with 1 Axes>"
      ]
     },
     "metadata": {
      "needs_background": "light"
     },
     "output_type": "display_data"
    }
   ],
   "source": [
    "counts = df_u.groupby(['economy', 'educ']).size().reset_index(name='count')\n",
    "total_counts = counts.groupby(['economy'])['count'].transform('sum')\n",
    "counts['percentage'] = (counts['count'] / total_counts) * 100\n",
    "pivot_table = counts.pivot(index=['economy'], columns='educ', \n",
    "                           values='percentage')\n",
    "fig, ax = plt.subplots(figsize=(16, 8))\n",
    "pivot_table.plot(kind='bar', stacked=False, ax= ax)#color= colors, ax=ax)\n",
    "\n",
    "# Set the plot title and axis labels\n",
    "plt.xlabel('Country')\n",
    "plt.ylabel('Percentage')\n",
    "legend_labels = ['Primary School', 'High School', 'University']\n",
    "ax.legend(legend_labels)\n",
    "plt.ylim([0, 80])\n",
    "\n",
    "# Rotate the x-axis labels for better readability if needed\n",
    "plt.xticks(rotation=0)\n",
    "plt.savefig('../../images/des_educ.png', bbox_inches='tight')\n",
    "# Display the plot\n",
    "plt.show()"
   ]
  },
  {
   "cell_type": "markdown",
   "id": "0d78bdfb",
   "metadata": {},
   "source": [
    "# Income Level"
   ]
  },
  {
   "cell_type": "code",
   "execution_count": 14,
   "id": "d98dbef1",
   "metadata": {},
   "outputs": [],
   "source": [
    "counts = df.groupby(['economy', 'fin34a', 'inc_q']).size().reset_index(name='count')\n",
    "total_counts = counts.groupby(['economy', 'fin34a'])['count'].transform('sum')\n",
    "counts['percentage'] = (counts['count'] / total_counts) * 100\n",
    "counts= counts[counts[\"fin34a\"]== 1]\n",
    "pivot_table = counts.pivot(index=['economy'], columns='inc_q', \n",
    "                           values='percentage')"
   ]
  },
  {
   "cell_type": "code",
   "execution_count": 15,
   "id": "a0266496",
   "metadata": {},
   "outputs": [
    {
     "data": {
      "image/png": "[encoded data removed]",
      "text/plain": [
       "<Figure size 1152x576 with 1 Axes>"
      ]
     },
     "metadata": {
      "needs_background": "light"
     },
     "output_type": "display_data"
    }
   ],
   "source": [
    "#colors = ['#800000', '#000080']\n",
    "fig, ax = plt.subplots(figsize=(16, 8))\n",
    "pivot_table.plot(kind='bar', stacked=False, ax=ax)\n",
    "\n",
    "# Set the plot title and axis labels\n",
    "plt.xlabel('Country and Income Level')\n",
    "plt.ylabel('Percentage')\n",
    "legend_labels = ['Poorest 20%', 'Second 20%', 'Middle 20%', 'Fourth 20%', 'Richest 20%']\n",
    "ax.legend(legend_labels)\n",
    "plt.ylim([0, 50])\n",
    "\n",
    "# Rotate the x-axis labels for better readability if needed\n",
    "plt.xticks(rotation=0)\n",
    "plt.savefig('../../images/desc_inc.png', bbox_inches='tight')\n",
    "# Display the plot\n",
    "plt.show()"
   ]
  },
  {
   "cell_type": "code",
   "execution_count": 16,
   "id": "af941f94",
   "metadata": {},
   "outputs": [
    {
     "data": {
      "image/png": "[encoded data removed]",
      "text/plain": [
       "<Figure size 1152x576 with 1 Axes>"
      ]
     },
     "metadata": {
      "needs_background": "light"
     },
     "output_type": "display_data"
    }
   ],
   "source": [
    "counts = df_u.groupby(['economy', 'inc_q']).size().reset_index(name='count')\n",
    "total_counts = counts.groupby(['economy'])['count'].transform('sum')\n",
    "counts['percentage'] = (counts['count'] / total_counts) * 100\n",
    "pivot_table = counts.pivot(index=['economy'], columns='inc_q', \n",
    "                           values='percentage')\n",
    "fig, ax = plt.subplots(figsize=(16, 8))\n",
    "pivot_table.plot(kind='bar', stacked=False, ax= ax)#color= colors, ax=ax)\n",
    "\n",
    "# Set the plot title and axis labels\n",
    "plt.xlabel('Country')\n",
    "plt.ylabel('Percentage')\n",
    "legend_labels = ['Poorest 20%', 'Second 20%', 'Middle 20%', 'Fourth 20%', 'Richest 20%']\n",
    "ax.legend(legend_labels)\n",
    "plt.ylim([0, 50])\n",
    "\n",
    "# Rotate the x-axis labels for better readability if needed\n",
    "plt.xticks(rotation=0)\n",
    "plt.savefig('../../images/des_inc.png', bbox_inches='tight')\n",
    "# Display the plot\n",
    "plt.show()"
   ]
  },
  {
   "cell_type": "markdown",
   "id": "a1d33e42",
   "metadata": {},
   "source": [
    "## MCA"
   ]
  },
  {
   "cell_type": "code",
   "execution_count": 17,
   "id": "5350296a",
   "metadata": {},
   "outputs": [
    {
     "name": "stdout",
     "output_type": "stream",
     "text": [
      "      countries  accuracy\n",
      "0       Algeria     93.53\n",
      "1        Brazil     94.03\n",
      "2      Cameroon     91.00\n",
      "3         India     97.33\n",
      "4         Japan     92.08\n",
      "5         Kenya     95.00\n",
      "6        Norway     97.01\n",
      "7  South Africa     96.55\n"
     ]
    }
   ],
   "source": [
    "import pandas as pd\n",
    "\n",
    "data = {\n",
    "    \"countries\": [\"Algeria\", \"Brazil\", \"Cameroon\", \"India\", \"Japan\", \"Kenya\", \"Norway\", \"South Africa\"],\n",
    "    \"accuracy\": [93.53, 94.03, 91., 97.33, 92.08, 95., 97.01, 96.55]\n",
    "}\n",
    "\n",
    "df = pd.DataFrame(data)\n",
    "\n",
    "print(df)\n"
   ]
  },
  {
   "cell_type": "code",
   "execution_count": 23,
   "id": "4a44c482",
   "metadata": {},
   "outputs": [
    {
     "data": {
      "text/plain": [
       "['Algeria',\n",
       " 'Brazil',\n",
       " 'Cameroon',\n",
       " 'India',\n",
       " 'Japan',\n",
       " 'Kenya',\n",
       " 'Norway',\n",
       " 'South Africa']"
      ]
     },
     "execution_count": 23,
     "metadata": {},
     "output_type": "execute_result"
    }
   ],
   "source": [
    "list(df[\"countries\"])"
   ]
  },
  {
   "cell_type": "code",
   "execution_count": 28,
   "id": "a401a216",
   "metadata": {},
   "outputs": [
    {
     "data": {
      "image/png": "[encoded data removed]",
      "text/plain": [
       "<Figure size 1152x576 with 1 Axes>"
      ]
     },
     "metadata": {
      "needs_background": "light"
     },
     "output_type": "display_data"
    }
   ],
   "source": [
    "fig, ax = plt.subplots(figsize=(16, 8))\n",
    "df.plot(kind='bar', stacked=False, ax=ax)\n",
    "plt.xlabel(\"Country\")\n",
    "plt.ylabel(\"Accuracy\")\n",
    "plt.title(\"Prediction Accuracy\")\n",
    "plt.xticks(list(range(8)), list(df[\"countries\"]), rotation=0)\n",
    "plt.ylim([88, 100])\n",
    "# Show the plot\n",
    "plt.show()"
   ]
  },
  {
   "cell_type": "code",
   "execution_count": null,
   "id": "f3145169",
   "metadata": {},
   "outputs": [],
   "source": []
  }
 ],
 "metadata": {
  "kernelspec": {
   "display_name": "Python 3 (ipykernel)",
   "language": "python",
   "name": "python3"
  },
  "language_info": {
   "codemirror_mode": {
    "name": "ipython",
    "version": 3
   },
   "file_extension": ".py",
   "mimetype": "text/x-python",
   "name": "python",
   "nbconvert_exporter": "python",
   "pygments_lexer": "ipython3",
   "version": "3.9.13"
  }
 },
 "nbformat": 4,
 "nbformat_minor": 5
}
