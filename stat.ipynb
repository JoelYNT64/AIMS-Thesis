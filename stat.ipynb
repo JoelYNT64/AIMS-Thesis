{
 "cells": [
  {
   "cell_type": "code",
   "execution_count": 1,
   "id": "391d117f",
   "metadata": {},
   "outputs": [
    {
     "name": "stderr",
     "output_type": "stream",
     "text": [
      "C:\\Users\\ASUS\\anaconda3\\lib\\site-packages\\scipy\\__init__.py:155: UserWarning: A NumPy version >=1.18.5 and <1.25.0 is required for this version of SciPy (detected version 1.25.2\n",
      "  warnings.warn(f\"A NumPy version >={np_minversion} and <{np_maxversion}\"\n"
     ]
    }
   ],
   "source": [
    "import numpy as np\n",
    "import matplotlib.pyplot as plt\n",
    "import pandas as pd\n",
    "plt.style.use(\"seaborn\")\n",
    "import prince"
   ]
  },
  {
   "cell_type": "markdown",
   "id": "f4c80fd8",
   "metadata": {},
   "source": [
    "## Data"
   ]
  },
  {
   "cell_type": "code",
   "execution_count": 2,
   "id": "3e5d3d4a",
   "metadata": {},
   "outputs": [],
   "source": [
    "sa= pd.read_csv(\"../Datasets/sa_2021_desc.csv\")\n",
    "sa_a= pd.read_csv(\"../Datasets/sa_2021_access.csv\")\n",
    "sa_u= pd.read_csv(\"../Datasets/sa_2021_usage.csv\")\n",
    "\n",
    "eca= pd.read_csv('../Datasets/eca_2021_desc.csv')\n",
    "eca_a= pd.read_csv('../Datasets/eca_2021_access.csv')\n",
    "eca_u= pd.read_csv('../Datasets/eca_2021_usage.csv')\n",
    "\n",
    "mena= pd.read_csv(\"../Datasets/mena_2021_desc.csv\")\n",
    "mena_a= pd.read_csv(\"../Datasets/mena_2021_access.csv\")\n",
    "mena_u= pd.read_csv(\"../Datasets/mena_2021_usage.csv\")\n",
    "\n",
    "lac= pd.read_csv('../Datasets/lac_2021_desc.csv')\n",
    "lac_a= pd.read_csv('../Datasets/lac_2021_access.csv')\n",
    "lac_u= pd.read_csv('../Datasets/lac_2021_usage.csv')\n",
    "\n",
    "hi= pd.read_csv(\"../Datasets/hi_2021_desc.csv\")\n",
    "hi_a= pd.read_csv(\"../Datasets/hi_2021_access.csv\")\n",
    "hi_u= pd.read_csv(\"../Datasets/hi_2021_usage.csv\")\n",
    "\n",
    "ssa= pd.read_csv('../Datasets/ssa_2021_desc.csv')\n",
    "ssa_a= pd.read_csv('../Datasets/ssa_2021_access.csv')\n",
    "ssa_u= pd.read_csv('../Datasets/ssa_2021_usage.csv')\n",
    "\n",
    "eap= pd.read_csv(\"../Datasets/eap_2021_desc.csv\")\n",
    "eap_a= pd.read_csv(\"../Datasets/eap_2021_access.csv\")\n",
    "eap_u= pd.read_csv(\"../Datasets/eap_2021_usage.csv\")"
   ]
  },
  {
   "cell_type": "code",
   "execution_count": 3,
   "id": "ec7afdda",
   "metadata": {},
   "outputs": [],
   "source": [
    "ctry= [sa, eca, mena, lac, hi, ssa, eap]\n",
    "ctry_a= [sa_a, eca_a, mena_a, lac_a, hi_a, ssa_a, eap_a]\n",
    "ctry_u= [sa_u, eca_u, mena_u, lac_u, hi_u, ssa_u, eap_u]\n",
    "ctry_name= ['South Asia', 'Europe & Central Asia', 'Middle East & North Africa', 'Latin America & Caribbean', \n",
    "            'High income', 'Sub-Saharan Africa', 'East Asia & Pacific']\n",
    "df= pd.concat(ctry, axis=0)\n",
    "df_a= pd.concat(ctry_a, axis=0)\n",
    "df_u= pd.concat(ctry_u, axis=0)"
   ]
  },
  {
   "cell_type": "code",
   "execution_count": 4,
   "id": "8487c29a",
   "metadata": {},
   "outputs": [
    {
     "data": {
      "text/html": [
       "<div>\n",
       "<style scoped>\n",
       "    .dataframe tbody tr th:only-of-type {\n",
       "        vertical-align: middle;\n",
       "    }\n",
       "\n",
       "    .dataframe tbody tr th {\n",
       "        vertical-align: top;\n",
       "    }\n",
       "\n",
       "    .dataframe thead th {\n",
       "        text-align: right;\n",
       "    }\n",
       "</style>\n",
       "<table border=\"1\" class=\"dataframe\">\n",
       "  <thead>\n",
       "    <tr style=\"text-align: right;\">\n",
       "      <th></th>\n",
       "      <th>wgt</th>\n",
       "      <th>female</th>\n",
       "      <th>age</th>\n",
       "      <th>educ</th>\n",
       "      <th>inc_q</th>\n",
       "      <th>fin4</th>\n",
       "      <th>fin5</th>\n",
       "      <th>fin8</th>\n",
       "      <th>fin9</th>\n",
       "      <th>fin10</th>\n",
       "      <th>...</th>\n",
       "      <th>fin31b</th>\n",
       "      <th>fin32</th>\n",
       "      <th>fin37</th>\n",
       "      <th>fin38</th>\n",
       "      <th>saved</th>\n",
       "      <th>borrowed</th>\n",
       "      <th>anydigpayment</th>\n",
       "      <th>merchantpay_dig</th>\n",
       "      <th>fin34a</th>\n",
       "      <th>regionwb</th>\n",
       "    </tr>\n",
       "  </thead>\n",
       "  <tbody>\n",
       "    <tr>\n",
       "      <th>0</th>\n",
       "      <td>0.774286</td>\n",
       "      <td>1</td>\n",
       "      <td>1.0</td>\n",
       "      <td>2</td>\n",
       "      <td>4</td>\n",
       "      <td>NaN</td>\n",
       "      <td>NaN</td>\n",
       "      <td>NaN</td>\n",
       "      <td>NaN</td>\n",
       "      <td>NaN</td>\n",
       "      <td>...</td>\n",
       "      <td>NaN</td>\n",
       "      <td>No</td>\n",
       "      <td>2</td>\n",
       "      <td>No</td>\n",
       "      <td>2</td>\n",
       "      <td>2</td>\n",
       "      <td>2</td>\n",
       "      <td>2.0</td>\n",
       "      <td>0</td>\n",
       "      <td>South Asia</td>\n",
       "    </tr>\n",
       "    <tr>\n",
       "      <th>1</th>\n",
       "      <td>0.766367</td>\n",
       "      <td>1</td>\n",
       "      <td>3.0</td>\n",
       "      <td>1</td>\n",
       "      <td>5</td>\n",
       "      <td>NaN</td>\n",
       "      <td>NaN</td>\n",
       "      <td>NaN</td>\n",
       "      <td>NaN</td>\n",
       "      <td>NaN</td>\n",
       "      <td>...</td>\n",
       "      <td>NaN</td>\n",
       "      <td>No</td>\n",
       "      <td>2</td>\n",
       "      <td>No</td>\n",
       "      <td>2</td>\n",
       "      <td>1</td>\n",
       "      <td>2</td>\n",
       "      <td>2.0</td>\n",
       "      <td>0</td>\n",
       "      <td>South Asia</td>\n",
       "    </tr>\n",
       "    <tr>\n",
       "      <th>2</th>\n",
       "      <td>0.588983</td>\n",
       "      <td>1</td>\n",
       "      <td>2.0</td>\n",
       "      <td>1</td>\n",
       "      <td>1</td>\n",
       "      <td>NaN</td>\n",
       "      <td>NaN</td>\n",
       "      <td>NaN</td>\n",
       "      <td>NaN</td>\n",
       "      <td>NaN</td>\n",
       "      <td>...</td>\n",
       "      <td>NaN</td>\n",
       "      <td>No</td>\n",
       "      <td>2</td>\n",
       "      <td>No</td>\n",
       "      <td>2</td>\n",
       "      <td>1</td>\n",
       "      <td>2</td>\n",
       "      <td>2.0</td>\n",
       "      <td>0</td>\n",
       "      <td>South Asia</td>\n",
       "    </tr>\n",
       "    <tr>\n",
       "      <th>3</th>\n",
       "      <td>2.572345</td>\n",
       "      <td>1</td>\n",
       "      <td>3.0</td>\n",
       "      <td>1</td>\n",
       "      <td>4</td>\n",
       "      <td>NaN</td>\n",
       "      <td>NaN</td>\n",
       "      <td>NaN</td>\n",
       "      <td>NaN</td>\n",
       "      <td>NaN</td>\n",
       "      <td>...</td>\n",
       "      <td>NaN</td>\n",
       "      <td>No</td>\n",
       "      <td>2</td>\n",
       "      <td>No</td>\n",
       "      <td>2</td>\n",
       "      <td>1</td>\n",
       "      <td>2</td>\n",
       "      <td>2.0</td>\n",
       "      <td>0</td>\n",
       "      <td>South Asia</td>\n",
       "    </tr>\n",
       "    <tr>\n",
       "      <th>4</th>\n",
       "      <td>0.525471</td>\n",
       "      <td>2</td>\n",
       "      <td>2.0</td>\n",
       "      <td>3</td>\n",
       "      <td>1</td>\n",
       "      <td>NaN</td>\n",
       "      <td>No</td>\n",
       "      <td>NaN</td>\n",
       "      <td>No</td>\n",
       "      <td>No</td>\n",
       "      <td>...</td>\n",
       "      <td>NaN</td>\n",
       "      <td>Yes</td>\n",
       "      <td>2</td>\n",
       "      <td>No</td>\n",
       "      <td>2</td>\n",
       "      <td>1</td>\n",
       "      <td>1</td>\n",
       "      <td>2.0</td>\n",
       "      <td>1</td>\n",
       "      <td>South Asia</td>\n",
       "    </tr>\n",
       "    <tr>\n",
       "      <th>...</th>\n",
       "      <td>...</td>\n",
       "      <td>...</td>\n",
       "      <td>...</td>\n",
       "      <td>...</td>\n",
       "      <td>...</td>\n",
       "      <td>...</td>\n",
       "      <td>...</td>\n",
       "      <td>...</td>\n",
       "      <td>...</td>\n",
       "      <td>...</td>\n",
       "      <td>...</td>\n",
       "      <td>...</td>\n",
       "      <td>...</td>\n",
       "      <td>...</td>\n",
       "      <td>...</td>\n",
       "      <td>...</td>\n",
       "      <td>...</td>\n",
       "      <td>...</td>\n",
       "      <td>...</td>\n",
       "      <td>...</td>\n",
       "      <td>...</td>\n",
       "    </tr>\n",
       "    <tr>\n",
       "      <th>11574</th>\n",
       "      <td>1.472721</td>\n",
       "      <td>1</td>\n",
       "      <td>6.0</td>\n",
       "      <td>3</td>\n",
       "      <td>3</td>\n",
       "      <td>NaN</td>\n",
       "      <td>NaN</td>\n",
       "      <td>NaN</td>\n",
       "      <td>NaN</td>\n",
       "      <td>NaN</td>\n",
       "      <td>...</td>\n",
       "      <td>No</td>\n",
       "      <td>No</td>\n",
       "      <td>1</td>\n",
       "      <td>No</td>\n",
       "      <td>2</td>\n",
       "      <td>2</td>\n",
       "      <td>1</td>\n",
       "      <td>2.0</td>\n",
       "      <td>0</td>\n",
       "      <td>East Asia &amp; Pacific (excluding high income)</td>\n",
       "    </tr>\n",
       "    <tr>\n",
       "      <th>11575</th>\n",
       "      <td>0.157863</td>\n",
       "      <td>2</td>\n",
       "      <td>4.0</td>\n",
       "      <td>3</td>\n",
       "      <td>5</td>\n",
       "      <td>No</td>\n",
       "      <td>Yes</td>\n",
       "      <td>Yes</td>\n",
       "      <td>Yes</td>\n",
       "      <td>Yes</td>\n",
       "      <td>...</td>\n",
       "      <td>Yes</td>\n",
       "      <td>Yes</td>\n",
       "      <td>1</td>\n",
       "      <td>No</td>\n",
       "      <td>1</td>\n",
       "      <td>1</td>\n",
       "      <td>1</td>\n",
       "      <td>1.0</td>\n",
       "      <td>1</td>\n",
       "      <td>East Asia &amp; Pacific (excluding high income)</td>\n",
       "    </tr>\n",
       "    <tr>\n",
       "      <th>11576</th>\n",
       "      <td>0.989320</td>\n",
       "      <td>2</td>\n",
       "      <td>3.0</td>\n",
       "      <td>3</td>\n",
       "      <td>5</td>\n",
       "      <td>No</td>\n",
       "      <td>Yes</td>\n",
       "      <td>Yes</td>\n",
       "      <td>Yes</td>\n",
       "      <td>Yes</td>\n",
       "      <td>...</td>\n",
       "      <td>Yes</td>\n",
       "      <td>Yes</td>\n",
       "      <td>1</td>\n",
       "      <td>No</td>\n",
       "      <td>1</td>\n",
       "      <td>1</td>\n",
       "      <td>1</td>\n",
       "      <td>1.0</td>\n",
       "      <td>1</td>\n",
       "      <td>East Asia &amp; Pacific (excluding high income)</td>\n",
       "    </tr>\n",
       "    <tr>\n",
       "      <th>11577</th>\n",
       "      <td>0.138057</td>\n",
       "      <td>1</td>\n",
       "      <td>3.0</td>\n",
       "      <td>3</td>\n",
       "      <td>5</td>\n",
       "      <td>Yes</td>\n",
       "      <td>Yes</td>\n",
       "      <td>Yes</td>\n",
       "      <td>Yes</td>\n",
       "      <td>Yes</td>\n",
       "      <td>...</td>\n",
       "      <td>Yes</td>\n",
       "      <td>Yes</td>\n",
       "      <td>1</td>\n",
       "      <td>No</td>\n",
       "      <td>1</td>\n",
       "      <td>1</td>\n",
       "      <td>1</td>\n",
       "      <td>1.0</td>\n",
       "      <td>1</td>\n",
       "      <td>East Asia &amp; Pacific (excluding high income)</td>\n",
       "    </tr>\n",
       "    <tr>\n",
       "      <th>11578</th>\n",
       "      <td>1.564152</td>\n",
       "      <td>2</td>\n",
       "      <td>4.0</td>\n",
       "      <td>1</td>\n",
       "      <td>4</td>\n",
       "      <td>No</td>\n",
       "      <td>No</td>\n",
       "      <td>Yes</td>\n",
       "      <td>Yes</td>\n",
       "      <td>Yes</td>\n",
       "      <td>...</td>\n",
       "      <td>No</td>\n",
       "      <td>Yes</td>\n",
       "      <td>1</td>\n",
       "      <td>No</td>\n",
       "      <td>1</td>\n",
       "      <td>1</td>\n",
       "      <td>1</td>\n",
       "      <td>1.0</td>\n",
       "      <td>1</td>\n",
       "      <td>East Asia &amp; Pacific (excluding high income)</td>\n",
       "    </tr>\n",
       "  </tbody>\n",
       "</table>\n",
       "<p>126854 rows × 36 columns</p>\n",
       "</div>"
      ],
      "text/plain": [
       "            wgt  female  age  educ  inc_q fin4 fin5 fin8 fin9 fin10  ...  \\\n",
       "0      0.774286       1  1.0     2      4  NaN  NaN  NaN  NaN   NaN  ...   \n",
       "1      0.766367       1  3.0     1      5  NaN  NaN  NaN  NaN   NaN  ...   \n",
       "2      0.588983       1  2.0     1      1  NaN  NaN  NaN  NaN   NaN  ...   \n",
       "3      2.572345       1  3.0     1      4  NaN  NaN  NaN  NaN   NaN  ...   \n",
       "4      0.525471       2  2.0     3      1  NaN   No  NaN   No    No  ...   \n",
       "...         ...     ...  ...   ...    ...  ...  ...  ...  ...   ...  ...   \n",
       "11574  1.472721       1  6.0     3      3  NaN  NaN  NaN  NaN   NaN  ...   \n",
       "11575  0.157863       2  4.0     3      5   No  Yes  Yes  Yes   Yes  ...   \n",
       "11576  0.989320       2  3.0     3      5   No  Yes  Yes  Yes   Yes  ...   \n",
       "11577  0.138057       1  3.0     3      5  Yes  Yes  Yes  Yes   Yes  ...   \n",
       "11578  1.564152       2  4.0     1      4   No   No  Yes  Yes   Yes  ...   \n",
       "\n",
       "      fin31b  fin32 fin37 fin38 saved borrowed anydigpayment merchantpay_dig  \\\n",
       "0        NaN     No     2    No     2        2             2             2.0   \n",
       "1        NaN     No     2    No     2        1             2             2.0   \n",
       "2        NaN     No     2    No     2        1             2             2.0   \n",
       "3        NaN     No     2    No     2        1             2             2.0   \n",
       "4        NaN    Yes     2    No     2        1             1             2.0   \n",
       "...      ...    ...   ...   ...   ...      ...           ...             ...   \n",
       "11574     No     No     1    No     2        2             1             2.0   \n",
       "11575    Yes    Yes     1    No     1        1             1             1.0   \n",
       "11576    Yes    Yes     1    No     1        1             1             1.0   \n",
       "11577    Yes    Yes     1    No     1        1             1             1.0   \n",
       "11578     No    Yes     1    No     1        1             1             1.0   \n",
       "\n",
       "      fin34a                                     regionwb  \n",
       "0          0                                   South Asia  \n",
       "1          0                                   South Asia  \n",
       "2          0                                   South Asia  \n",
       "3          0                                   South Asia  \n",
       "4          1                                   South Asia  \n",
       "...      ...                                          ...  \n",
       "11574      0  East Asia & Pacific (excluding high income)  \n",
       "11575      1  East Asia & Pacific (excluding high income)  \n",
       "11576      1  East Asia & Pacific (excluding high income)  \n",
       "11577      1  East Asia & Pacific (excluding high income)  \n",
       "11578      1  East Asia & Pacific (excluding high income)  \n",
       "\n",
       "[126854 rows x 36 columns]"
      ]
     },
     "execution_count": 4,
     "metadata": {},
     "output_type": "execute_result"
    }
   ],
   "source": [
    "df_u= pd.concat([df_u, df[\"regionwb\"]], axis=1)\n",
    "df_u"
   ]
  },
  {
   "cell_type": "markdown",
   "id": "50c062e4",
   "metadata": {},
   "source": [
    "## Gender"
   ]
  },
  {
   "cell_type": "code",
   "execution_count": 6,
   "id": "a5992cb4",
   "metadata": {},
   "outputs": [],
   "source": [
    "df.loc[df[\"regionwb\"]== \"Europe & Central Asia (excluding high income)\", \"regionwb\"]= \"Europe & Central Asia\"\n",
    "df.loc[df[\"regionwb\"]== \"Middle East & North Africa (excluding high income)\", \"regionwb\"]= \"Middle East & North Africa\"\n",
    "df.loc[df[\"regionwb\"]== \"Latin America & Caribbean (excluding high income)\", \"regionwb\"]= \"Latin America & Caribbean\"\n",
    "df.loc[df[\"regionwb\"]== \"Sub-Saharan Africa (excluding high income)\", \"regionwb\"]= \"Sub-Saharan Africa\"\n",
    "df.loc[df[\"regionwb\"]== \"East Asia & Pacific (excluding high income)\", \"regionwb\"]= \"East Asia & Pacific\"\n",
    "\n",
    "df_u.loc[df_u[\"regionwb\"]== \"Europe & Central Asia (excluding high income)\", \"regionwb\"]= \"Europe & Central Asia\"\n",
    "df_u.loc[df_u[\"regionwb\"]== \"Middle East & North Africa (excluding high income)\", \"regionwb\"]= \"Middle East & North Africa\"\n",
    "df_u.loc[df_u[\"regionwb\"]== \"Latin America & Caribbean (excluding high income)\", \"regionwb\"]= \"Latin America & Caribbean\"\n",
    "df_u.loc[df_u[\"regionwb\"]== \"Sub-Saharan Africa (excluding high income)\", \"regionwb\"]= \"Sub-Saharan Africa\"\n",
    "df_u.loc[df_u[\"regionwb\"]== \"East Asia & Pacific (excluding high income)\", \"regionwb\"]= \"East Asia & Pacific\""
   ]
  },
  {
   "cell_type": "code",
   "execution_count": 7,
   "id": "d41f1219",
   "metadata": {},
   "outputs": [],
   "source": [
    "counts = df.groupby(['regionwb', 'fin34a', 'female']).size().reset_index(name='count')\n",
    "total_counts = counts.groupby(['regionwb', 'fin34a'])['count'].transform('sum')\n",
    "counts['percentage'] = (counts['count'] / total_counts) * 100\n",
    "counts= counts[counts[\"fin34a\"]== 1]\n",
    "pivot_table = counts.pivot(index=['regionwb'], columns='female', \n",
    "                           values='percentage')"
   ]
  },
  {
   "cell_type": "code",
   "execution_count": 8,
   "id": "1572b1dc",
   "metadata": {},
   "outputs": [
    {
     "data": {
      "image/png": "[encoded data removed]",
      "text/plain": [
       "<Figure size 1152x576 with 1 Axes>"
      ]
     },
     "metadata": {
      "needs_background": "light"
     },
     "output_type": "display_data"
    }
   ],
   "source": [
    "#colors = ['#800000', '#008000']\n",
    "fig, ax = plt.subplots(figsize=(16, 8))\n",
    "pivot_table.plot(kind='bar', stacked=False, ax= ax)#color= colors, ax=ax)\n",
    "\n",
    "# Set the plot title and axis labels\n",
    "plt.xlabel('Region')\n",
    "plt.ylabel('Percentage')\n",
    "legend_labels = ['Female', 'Male']\n",
    "ax.legend(legend_labels)\n",
    "plt.ylim([0, 80])\n",
    "\n",
    "custom_ticks= list(counts[\"regionwb\"].unique())\n",
    "custom_labels= ctry_name\n",
    "# Rotate the x-axis labels for better readability if needed\n",
    "plt.xticks(rotation= 0)\n",
    "plt.savefig('../../images/stat_gender.png', bbox_inches='tight')\n",
    "# Display the plot\n",
    "plt.show()"
   ]
  },
  {
   "cell_type": "code",
   "execution_count": 9,
   "id": "3b803a5f",
   "metadata": {},
   "outputs": [
    {
     "data": {
      "text/html": [
       "<div>\n",
       "<style scoped>\n",
       "    .dataframe tbody tr th:only-of-type {\n",
       "        vertical-align: middle;\n",
       "    }\n",
       "\n",
       "    .dataframe tbody tr th {\n",
       "        vertical-align: top;\n",
       "    }\n",
       "\n",
       "    .dataframe thead th {\n",
       "        text-align: right;\n",
       "    }\n",
       "</style>\n",
       "<table border=\"1\" class=\"dataframe\">\n",
       "  <thead>\n",
       "    <tr style=\"text-align: right;\">\n",
       "      <th></th>\n",
       "      <th>regionwb</th>\n",
       "      <th>fin34a</th>\n",
       "      <th>female</th>\n",
       "      <th>count</th>\n",
       "      <th>percentage</th>\n",
       "    </tr>\n",
       "  </thead>\n",
       "  <tbody>\n",
       "    <tr>\n",
       "      <th>2</th>\n",
       "      <td>East Asia &amp; Pacific</td>\n",
       "      <td>1</td>\n",
       "      <td>1</td>\n",
       "      <td>1644</td>\n",
       "      <td>46.115007</td>\n",
       "    </tr>\n",
       "    <tr>\n",
       "      <th>3</th>\n",
       "      <td>East Asia &amp; Pacific</td>\n",
       "      <td>1</td>\n",
       "      <td>2</td>\n",
       "      <td>1921</td>\n",
       "      <td>53.884993</td>\n",
       "    </tr>\n",
       "    <tr>\n",
       "      <th>6</th>\n",
       "      <td>Europe &amp; Central Asia</td>\n",
       "      <td>1</td>\n",
       "      <td>1</td>\n",
       "      <td>2926</td>\n",
       "      <td>48.693626</td>\n",
       "    </tr>\n",
       "    <tr>\n",
       "      <th>7</th>\n",
       "      <td>Europe &amp; Central Asia</td>\n",
       "      <td>1</td>\n",
       "      <td>2</td>\n",
       "      <td>3083</td>\n",
       "      <td>51.306374</td>\n",
       "    </tr>\n",
       "    <tr>\n",
       "      <th>10</th>\n",
       "      <td>High income</td>\n",
       "      <td>1</td>\n",
       "      <td>1</td>\n",
       "      <td>9979</td>\n",
       "      <td>47.514522</td>\n",
       "    </tr>\n",
       "    <tr>\n",
       "      <th>11</th>\n",
       "      <td>High income</td>\n",
       "      <td>1</td>\n",
       "      <td>2</td>\n",
       "      <td>11023</td>\n",
       "      <td>52.485478</td>\n",
       "    </tr>\n",
       "    <tr>\n",
       "      <th>14</th>\n",
       "      <td>Latin America &amp; Caribbean</td>\n",
       "      <td>1</td>\n",
       "      <td>1</td>\n",
       "      <td>1179</td>\n",
       "      <td>41.853035</td>\n",
       "    </tr>\n",
       "    <tr>\n",
       "      <th>15</th>\n",
       "      <td>Latin America &amp; Caribbean</td>\n",
       "      <td>1</td>\n",
       "      <td>2</td>\n",
       "      <td>1638</td>\n",
       "      <td>58.146965</td>\n",
       "    </tr>\n",
       "    <tr>\n",
       "      <th>18</th>\n",
       "      <td>Middle East &amp; North Africa</td>\n",
       "      <td>1</td>\n",
       "      <td>1</td>\n",
       "      <td>376</td>\n",
       "      <td>30.718954</td>\n",
       "    </tr>\n",
       "    <tr>\n",
       "      <th>19</th>\n",
       "      <td>Middle East &amp; North Africa</td>\n",
       "      <td>1</td>\n",
       "      <td>2</td>\n",
       "      <td>848</td>\n",
       "      <td>69.281046</td>\n",
       "    </tr>\n",
       "    <tr>\n",
       "      <th>22</th>\n",
       "      <td>South Asia</td>\n",
       "      <td>1</td>\n",
       "      <td>1</td>\n",
       "      <td>230</td>\n",
       "      <td>29.792746</td>\n",
       "    </tr>\n",
       "    <tr>\n",
       "      <th>23</th>\n",
       "      <td>South Asia</td>\n",
       "      <td>1</td>\n",
       "      <td>2</td>\n",
       "      <td>542</td>\n",
       "      <td>70.207254</td>\n",
       "    </tr>\n",
       "    <tr>\n",
       "      <th>26</th>\n",
       "      <td>Sub-Saharan Africa</td>\n",
       "      <td>1</td>\n",
       "      <td>1</td>\n",
       "      <td>1423</td>\n",
       "      <td>37.241560</td>\n",
       "    </tr>\n",
       "    <tr>\n",
       "      <th>27</th>\n",
       "      <td>Sub-Saharan Africa</td>\n",
       "      <td>1</td>\n",
       "      <td>2</td>\n",
       "      <td>2398</td>\n",
       "      <td>62.758440</td>\n",
       "    </tr>\n",
       "  </tbody>\n",
       "</table>\n",
       "</div>"
      ],
      "text/plain": [
       "                      regionwb  fin34a  female  count  percentage\n",
       "2          East Asia & Pacific       1       1   1644   46.115007\n",
       "3          East Asia & Pacific       1       2   1921   53.884993\n",
       "6        Europe & Central Asia       1       1   2926   48.693626\n",
       "7        Europe & Central Asia       1       2   3083   51.306374\n",
       "10                 High income       1       1   9979   47.514522\n",
       "11                 High income       1       2  11023   52.485478\n",
       "14   Latin America & Caribbean       1       1   1179   41.853035\n",
       "15   Latin America & Caribbean       1       2   1638   58.146965\n",
       "18  Middle East & North Africa       1       1    376   30.718954\n",
       "19  Middle East & North Africa       1       2    848   69.281046\n",
       "22                  South Asia       1       1    230   29.792746\n",
       "23                  South Asia       1       2    542   70.207254\n",
       "26          Sub-Saharan Africa       1       1   1423   37.241560\n",
       "27          Sub-Saharan Africa       1       2   2398   62.758440"
      ]
     },
     "execution_count": 9,
     "metadata": {},
     "output_type": "execute_result"
    }
   ],
   "source": [
    "counts"
   ]
  },
  {
   "cell_type": "code",
   "execution_count": 10,
   "id": "e2e115cf",
   "metadata": {},
   "outputs": [
    {
     "data": {
      "image/png": "[encoded data removed]",
      "text/plain": [
       "<Figure size 1152x576 with 1 Axes>"
      ]
     },
     "metadata": {
      "needs_background": "light"
     },
     "output_type": "display_data"
    }
   ],
   "source": [
    "df_u= df_u[df_u[\"fin32\"]==\"Yes\"]\n",
    "counts = df_u.groupby(['regionwb', 'female']).size().reset_index(name='count')\n",
    "total_counts = counts.groupby(['regionwb'])['count'].transform('sum')\n",
    "counts['percentage'] = (counts['count'] / total_counts) * 100\n",
    "pivot_table = counts.pivot(index=['regionwb'], columns='female', \n",
    "                           values='percentage')\n",
    "fig, ax = plt.subplots(figsize=(16, 8))\n",
    "pivot_table.plot(kind='bar', stacked=False, ax= ax)#color= colors, ax=ax)\n",
    "\n",
    "# Set the plot title and axis labels\n",
    "plt.xlabel('Region')\n",
    "plt.ylabel('Percentage')\n",
    "legend_labels = ['Female', 'Male']\n",
    "ax.legend(legend_labels)\n",
    "plt.ylim([0, 80])\n",
    "\n",
    "# Rotate the x-axis labels for better readability if needed\n",
    "plt.xticks(rotation= 0)\n",
    "plt.savefig('../../images/sta_gender.png', bbox_inches='tight')\n",
    "# Display the plot\n",
    "plt.show()"
   ]
  },
  {
   "cell_type": "markdown",
   "id": "ac225022",
   "metadata": {},
   "source": [
    "## Age"
   ]
  },
  {
   "cell_type": "code",
   "execution_count": 12,
   "id": "1c2a8c6b",
   "metadata": {},
   "outputs": [],
   "source": [
    "counts = df.groupby(['regionwb', 'fin34a', 'age']).size().reset_index(name='count')\n",
    "total_counts = counts.groupby(['regionwb', 'fin34a'])['count'].transform('sum')\n",
    "counts['percentage'] = (counts['count'] / total_counts) * 100\n",
    "counts= counts[counts[\"fin34a\"]== 1]\n",
    "pivot_table = counts.pivot(index=['regionwb'], columns='age', \n",
    "                           values='percentage')"
   ]
  },
  {
   "cell_type": "code",
   "execution_count": 13,
   "id": "f32ecff2",
   "metadata": {},
   "outputs": [
    {
     "data": {
      "image/png": "[encoded data removed]",
      "text/plain": [
       "<Figure size 1152x576 with 1 Axes>"
      ]
     },
     "metadata": {
      "needs_background": "light"
     },
     "output_type": "display_data"
    }
   ],
   "source": [
    "fig, ax = plt.subplots(figsize=(16, 8))\n",
    "pivot_table.plot(kind='bar', stacked=False, ax= ax)#color= colors, ax=ax)\n",
    "\n",
    "# Set the plot title and axis labels\n",
    "plt.xlabel('Region')\n",
    "plt.ylabel('Percentage')\n",
    "legend_labels = ['15-24', '25-34', '35-44', '45-54', '55-64', '65+']\n",
    "ax.legend(legend_labels)\n",
    "plt.ylim([0, 50])\n",
    "\n",
    "# Rotate the x-axis labels for better readability if needed\n",
    "plt.xticks(rotation= 0)\n",
    "plt.savefig('../../images/stat_age.png', bbox_inches='tight')\n",
    "# Display the plot\n",
    "plt.show()"
   ]
  },
  {
   "cell_type": "code",
   "execution_count": 14,
   "id": "fe9851f1",
   "metadata": {},
   "outputs": [
    {
     "data": {
      "image/png": "[encoded data removed]",
      "text/plain": [
       "<Figure size 1152x576 with 1 Axes>"
      ]
     },
     "metadata": {
      "needs_background": "light"
     },
     "output_type": "display_data"
    }
   ],
   "source": [
    "counts = df_u.groupby(['regionwb', 'age']).size().reset_index(name='count')\n",
    "total_counts = counts.groupby(['regionwb'])['count'].transform('sum')\n",
    "counts['percentage'] = (counts['count'] / total_counts) * 100\n",
    "pivot_table = counts.pivot(index=['regionwb'], columns='age', \n",
    "                           values='percentage')\n",
    "fig, ax = plt.subplots(figsize=(16, 8))\n",
    "pivot_table.plot(kind='bar', stacked=False, ax= ax)#color= colors, ax=ax)\n",
    "\n",
    "# Set the plot title and axis labels\n",
    "plt.xlabel('Region')\n",
    "plt.ylabel('Percentage')\n",
    "legend_labels = ['15-24', '25-34', '35-44', '45-54', '55-64', '65+']\n",
    "ax.legend(legend_labels)\n",
    "plt.ylim([0, 50])\n",
    "\n",
    "# Rotate the x-axis labels for better readability if needed\n",
    "plt.xticks(rotation=0)\n",
    "plt.savefig('../../images/sta_age.png', bbox_inches='tight')\n",
    "# Display the plot\n",
    "plt.show()"
   ]
  },
  {
   "cell_type": "markdown",
   "id": "07feda12",
   "metadata": {},
   "source": [
    "## Education Level"
   ]
  },
  {
   "cell_type": "code",
   "execution_count": 16,
   "id": "69c9503c",
   "metadata": {},
   "outputs": [],
   "source": [
    "counts = df.groupby(['regionwb', 'fin34a', 'educ']).size().reset_index(name='count')\n",
    "total_counts = counts.groupby(['regionwb', 'fin34a'])['count'].transform('sum')\n",
    "counts['percentage'] = (counts['count'] / total_counts) * 100\n",
    "counts= counts[counts[\"fin34a\"]== 1]\n",
    "pivot_table = counts.pivot(index=['regionwb'], columns='educ', \n",
    "                           values='percentage')"
   ]
  },
  {
   "cell_type": "code",
   "execution_count": 17,
   "id": "c9b5ba81",
   "metadata": {},
   "outputs": [
    {
     "data": {
      "image/png": "[encoded data removed]",
      "text/plain": [
       "<Figure size 1152x576 with 1 Axes>"
      ]
     },
     "metadata": {
      "needs_background": "light"
     },
     "output_type": "display_data"
    }
   ],
   "source": [
    "#colors = ['#800000', '#000080']\n",
    "fig, ax = plt.subplots(figsize=(16, 8))\n",
    "pivot_table.plot(kind='bar', stacked=False, ax=ax)\n",
    "\n",
    "# Set the plot title and axis labels\n",
    "plt.xlabel('Region')\n",
    "plt.ylabel('Percentage')\n",
    "legend_labels = ['Primary School', 'High School', 'University']\n",
    "ax.legend(legend_labels)\n",
    "\n",
    "\n",
    "# Rotate the x-axis labels for better readability if needed\n",
    "plt.xticks(rotation= 0)\n",
    "plt.savefig('../../images/stat_educ.png', bbox_inches='tight')\n",
    "# Display the plot\n",
    "plt.show()"
   ]
  },
  {
   "cell_type": "code",
   "execution_count": 18,
   "id": "d7738cc4",
   "metadata": {},
   "outputs": [
    {
     "data": {
      "image/png": "[encoded data removed]",
      "text/plain": [
       "<Figure size 1152x576 with 1 Axes>"
      ]
     },
     "metadata": {
      "needs_background": "light"
     },
     "output_type": "display_data"
    }
   ],
   "source": [
    "counts = df_u.groupby(['regionwb', 'educ']).size().reset_index(name='count')\n",
    "total_counts = counts.groupby(['regionwb'])['count'].transform('sum')\n",
    "counts['percentage'] = (counts['count'] / total_counts) * 100\n",
    "pivot_table = counts.pivot(index=['regionwb'], columns='educ', \n",
    "                           values='percentage')\n",
    "fig, ax = plt.subplots(figsize=(16, 8))\n",
    "pivot_table.plot(kind='bar', stacked=False, ax= ax)#color= colors, ax=ax)\n",
    "\n",
    "# Set the plot title and axis labels\n",
    "plt.xlabel('Region')\n",
    "plt.ylabel('Percentage')\n",
    "legend_labels = ['Primary School', 'High School', 'University']\n",
    "ax.legend(legend_labels)\n",
    "plt.ylim([0, 80])\n",
    "\n",
    "# Rotate the x-axis labels for better readability if needed\n",
    "plt.xticks(rotation=0)\n",
    "plt.savefig('../../images/sta_educ.png', bbox_inches='tight')\n",
    "# Display the plot\n",
    "plt.show()"
   ]
  },
  {
   "cell_type": "markdown",
   "id": "0d78bdfb",
   "metadata": {},
   "source": [
    "# Income Level"
   ]
  },
  {
   "cell_type": "code",
   "execution_count": 19,
   "id": "d98dbef1",
   "metadata": {},
   "outputs": [],
   "source": [
    "counts = df.groupby(['regionwb', 'fin34a', 'inc_q']).size().reset_index(name='count')\n",
    "total_counts = counts.groupby(['regionwb', 'fin34a'])['count'].transform('sum')\n",
    "counts['percentage'] = (counts['count'] / total_counts) * 100\n",
    "counts= counts[counts[\"fin34a\"]== 1]\n",
    "pivot_table = counts.pivot(index=['regionwb'], columns='inc_q', \n",
    "                           values='percentage')"
   ]
  },
  {
   "cell_type": "code",
   "execution_count": 20,
   "id": "a0266496",
   "metadata": {},
   "outputs": [
    {
     "data": {
      "image/png": "[encoded data removed]",
      "text/plain": [
       "<Figure size 1152x576 with 1 Axes>"
      ]
     },
     "metadata": {
      "needs_background": "light"
     },
     "output_type": "display_data"
    }
   ],
   "source": [
    "#colors = ['#800000', '#000080']\n",
    "fig, ax = plt.subplots(figsize=(16, 8))\n",
    "pivot_table.plot(kind='bar', stacked=False, ax=ax)\n",
    "\n",
    "# Set the plot title and axis labels\n",
    "plt.xlabel('Region')\n",
    "plt.ylabel('Percentage')\n",
    "legend_labels = ['Poorest 20%', 'Second 20%', 'Middle 20%', 'Fourth 20%', 'Richest 20%']\n",
    "ax.legend(legend_labels)\n",
    "plt.ylim([0, 50])\n",
    "\n",
    "# Rotate the x-axis labels for better readability if needed\n",
    "plt.xticks(rotation=0)\n",
    "plt.savefig('../../images/stat_inc.png', bbox_inches='tight')\n",
    "# Display the plot\n",
    "plt.show()"
   ]
  },
  {
   "cell_type": "code",
   "execution_count": 21,
   "id": "af941f94",
   "metadata": {},
   "outputs": [
    {
     "data": {
      "image/png": "[encoded data removed]",
      "text/plain": [
       "<Figure size 1152x576 with 1 Axes>"
      ]
     },
     "metadata": {
      "needs_background": "light"
     },
     "output_type": "display_data"
    }
   ],
   "source": [
    "counts = df_u.groupby(['regionwb', 'inc_q']).size().reset_index(name='count')\n",
    "total_counts = counts.groupby(['regionwb'])['count'].transform('sum')\n",
    "counts['percentage'] = (counts['count'] / total_counts) * 100\n",
    "pivot_table = counts.pivot(index=['regionwb'], columns='inc_q', \n",
    "                           values='percentage')\n",
    "fig, ax = plt.subplots(figsize=(16, 8))\n",
    "pivot_table.plot(kind='bar', stacked=False, ax= ax)#color= colors, ax=ax)\n",
    "\n",
    "# Set the plot title and axis labels\n",
    "plt.xlabel('Region')\n",
    "plt.ylabel('Percentage')\n",
    "legend_labels = ['Poorest 20%', 'Second 20%', 'Middle 20%', 'Fourth 20%', 'Richest 20%']\n",
    "ax.legend(legend_labels)\n",
    "plt.ylim([0, 50])\n",
    "\n",
    "# Rotate the x-axis labels for better readability if needed\n",
    "plt.xticks(rotation=0)\n",
    "plt.savefig('../../images/sta_inc.png', bbox_inches='tight')\n",
    "# Display the plot\n",
    "plt.show()"
   ]
  },
  {
   "cell_type": "markdown",
   "id": "a1d33e42",
   "metadata": {},
   "source": [
    "## MCA"
   ]
  },
  {
   "cell_type": "code",
   "execution_count": 17,
   "id": "5350296a",
   "metadata": {},
   "outputs": [
    {
     "name": "stdout",
     "output_type": "stream",
     "text": [
      "      countries  accuracy\n",
      "0       Algeria     93.53\n",
      "1        Brazil     94.03\n",
      "2      Cameroon     91.00\n",
      "3         India     97.33\n",
      "4         Japan     92.08\n",
      "5         Kenya     95.00\n",
      "6        Norway     97.01\n",
      "7  South Africa     96.55\n"
     ]
    }
   ],
   "source": [
    "import pandas as pd\n",
    "\n",
    "data = {\n",
    "    \"countries\": [\"Algeria\", \"Brazil\", \"Cameroon\", \"India\", \"Japan\", \"Kenya\", \"Norway\", \"South Africa\"],\n",
    "    \"accuracy\": [93.53, 94.03, 91., 97.33, 92.08, 95., 97.01, 96.55]\n",
    "}\n",
    "\n",
    "df = pd.DataFrame(data)\n",
    "\n",
    "print(df)\n"
   ]
  },
  {
   "cell_type": "code",
   "execution_count": 23,
   "id": "4a44c482",
   "metadata": {},
   "outputs": [
    {
     "data": {
      "text/plain": [
       "['Algeria',\n",
       " 'Brazil',\n",
       " 'Cameroon',\n",
       " 'India',\n",
       " 'Japan',\n",
       " 'Kenya',\n",
       " 'Norway',\n",
       " 'South Africa']"
      ]
     },
     "execution_count": 23,
     "metadata": {},
     "output_type": "execute_result"
    }
   ],
   "source": [
    "list(df[\"countries\"])"
   ]
  },
  {
   "cell_type": "code",
   "execution_count": 28,
   "id": "a401a216",
   "metadata": {},
   "outputs": [
    {
     "data": {
      "image/png": "[encoded data removed]",
      "text/plain": [
       "<Figure size 1152x576 with 1 Axes>"
      ]
     },
     "metadata": {
      "needs_background": "light"
     },
     "output_type": "display_data"
    }
   ],
   "source": [
    "fig, ax = plt.subplots(figsize=(16, 8))\n",
    "df.plot(kind='bar', stacked=False, ax=ax)\n",
    "plt.xlabel(\"Country\")\n",
    "plt.ylabel(\"Accuracy\")\n",
    "plt.title(\"Prediction Accuracy\")\n",
    "plt.xticks(list(range(8)), list(df[\"countries\"]), rotation=0)\n",
    "plt.ylim([88, 100])\n",
    "# Show the plot\n",
    "plt.show()"
   ]
  },
  {
   "cell_type": "code",
   "execution_count": null,
   "id": "f3145169",
   "metadata": {},
   "outputs": [],
   "source": []
  }
 ],
 "metadata": {
  "kernelspec": {
   "display_name": "Python 3 (ipykernel)",
   "language": "python",
   "name": "python3"
  },
  "language_info": {
   "codemirror_mode": {
    "name": "ipython",
    "version": 3
   },
   "file_extension": ".py",
   "mimetype": "text/x-python",
   "name": "python",
   "nbconvert_exporter": "python",
   "pygments_lexer": "ipython3",
   "version": "3.9.13"
  }
 },
 "nbformat": 4,
 "nbformat_minor": 5
}
