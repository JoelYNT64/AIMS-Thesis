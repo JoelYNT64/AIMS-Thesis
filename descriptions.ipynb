{
 "cells": [
  {
   "cell_type": "code",
   "execution_count": 3,
   "id": "464a3e74",
   "metadata": {},
   "outputs": [],
   "source": [
    "import numpy as np\n",
    "import pandas as pd\n",
    "from ydata_profiling import ProfileReport"
   ]
  },
  {
   "cell_type": "markdown",
   "id": "df4dd002",
   "metadata": {},
   "source": [
    "## Download the data"
   ]
  },
  {
   "cell_type": "code",
   "execution_count": 4,
   "id": "14dcec5a",
   "metadata": {},
   "outputs": [],
   "source": [
    "df_2021= pd.read_csv(\"../Datasets/findex_2021.csv\", encoding='iso-8859-1')"
   ]
  },
  {
   "cell_type": "code",
   "execution_count": 5,
   "id": "1eb0a5b5",
   "metadata": {},
   "outputs": [
    {
     "data": {
      "text/plain": [
       "(127854, 127)"
      ]
     },
     "execution_count": 5,
     "metadata": {},
     "output_type": "execute_result"
    }
   ],
   "source": [
    "df_2021.shape"
   ]
  },
  {
   "cell_type": "code",
   "execution_count": 6,
   "id": "5cd2f04d",
   "metadata": {},
   "outputs": [],
   "source": [
    "df_2011= pd.read_csv(\"../Datasets/findex_2011.csv\", encoding='iso-8859-1')"
   ]
  },
  {
   "cell_type": "code",
   "execution_count": 7,
   "id": "f0a12b65",
   "metadata": {},
   "outputs": [
    {
     "data": {
      "text/plain": [
       "(149761, 53)"
      ]
     },
     "execution_count": 7,
     "metadata": {},
     "output_type": "execute_result"
    }
   ],
   "source": [
    "df_2011.shape"
   ]
  },
  {
   "cell_type": "code",
   "execution_count": 8,
   "id": "6b1e4871",
   "metadata": {},
   "outputs": [],
   "source": [
    "df_2014= pd.read_csv(\"../Datasets/findex_2014.csv\", encoding='iso-8859-1')"
   ]
  },
  {
   "cell_type": "code",
   "execution_count": 9,
   "id": "f06a5d60",
   "metadata": {},
   "outputs": [
    {
     "data": {
      "text/plain": [
       "(146688, 86)"
      ]
     },
     "execution_count": 9,
     "metadata": {},
     "output_type": "execute_result"
    }
   ],
   "source": [
    "df_2014.shape"
   ]
  },
  {
   "cell_type": "code",
   "execution_count": 10,
   "id": "00ff5a08",
   "metadata": {},
   "outputs": [],
   "source": [
    "df_2017= pd.read_csv(\"../Datasets/findex_2017.csv\", encoding='iso-8859-1')"
   ]
  },
  {
   "cell_type": "code",
   "execution_count": 11,
   "id": "8ae3c776",
   "metadata": {},
   "outputs": [
    {
     "data": {
      "text/plain": [
       "(154923, 105)"
      ]
     },
     "execution_count": 11,
     "metadata": {},
     "output_type": "execute_result"
    }
   ],
   "source": [
    "df_2017.shape"
   ]
  },
  {
   "cell_type": "code",
   "execution_count": 12,
   "id": "f0c5743a",
   "metadata": {},
   "outputs": [],
   "source": [
    "ctry_df= pd.read_excel(\"../Datasets/Databank-wide.xlsx\", sheet_name='Data')"
   ]
  },
  {
   "cell_type": "code",
   "execution_count": 13,
   "id": "bec8f5ee",
   "metadata": {},
   "outputs": [
    {
     "data": {
      "text/plain": [
       "(642, 1235)"
      ]
     },
     "execution_count": 13,
     "metadata": {},
     "output_type": "execute_result"
    }
   ],
   "source": [
    "ctry_df.shape"
   ]
  },
  {
   "cell_type": "markdown",
   "id": "a38667de",
   "metadata": {},
   "source": [
    "## Description"
   ]
  },
  {
   "cell_type": "code",
   "execution_count": 14,
   "id": "cc68a647",
   "metadata": {},
   "outputs": [],
   "source": [
    "profile_2021 = ProfileReport(df_2021, title=\"Pandas Profiling Report 2021\")"
   ]
  },
  {
   "cell_type": "code",
   "execution_count": 15,
   "id": "5a0abc38",
   "metadata": {},
   "outputs": [
    {
     "data": {
      "application/vnd.jupyter.widget-view+json": {
       "model_id": "63d683e4950642419c425b1d4cd32ee9",
       "version_major": 2,
       "version_minor": 0
      },
      "text/plain": [
       "Summarize dataset:   0%|          | 0/5 [00:00<?, ?it/s]"
      ]
     },
     "metadata": {},
     "output_type": "display_data"
    },
    {
     "name": "stderr",
     "output_type": "stream",
     "text": [
      "C:\\Users\\ASUS\\anaconda3\\lib\\site-packages\\ydata_profiling\\model\\pandas\\duplicates_pandas.py:37: PerformanceWarning: DataFrame is highly fragmented.  This is usually the result of calling `frame.insert` many times, which has poor performance.  Consider joining all columns at once using pd.concat(axis=1) instead. To get a de-fragmented frame, use `newframe = frame.copy()`\n",
      "  df[duplicated_rows]\n",
      "C:\\Users\\ASUS\\anaconda3\\lib\\site-packages\\ydata_profiling\\model\\pandas\\duplicates_pandas.py:37: PerformanceWarning: DataFrame is highly fragmented.  This is usually the result of calling `frame.insert` many times, which has poor performance.  Consider joining all columns at once using pd.concat(axis=1) instead. To get a de-fragmented frame, use `newframe = frame.copy()`\n",
      "  df[duplicated_rows]\n",
      "C:\\Users\\ASUS\\anaconda3\\lib\\site-packages\\ydata_profiling\\model\\pandas\\duplicates_pandas.py:37: PerformanceWarning: DataFrame is highly fragmented.  This is usually the result of calling `frame.insert` many times, which has poor performance.  Consider joining all columns at once using pd.concat(axis=1) instead. To get a de-fragmented frame, use `newframe = frame.copy()`\n",
      "  df[duplicated_rows]\n",
      "C:\\Users\\ASUS\\anaconda3\\lib\\site-packages\\ydata_profiling\\model\\pandas\\duplicates_pandas.py:37: PerformanceWarning: DataFrame is highly fragmented.  This is usually the result of calling `frame.insert` many times, which has poor performance.  Consider joining all columns at once using pd.concat(axis=1) instead. To get a de-fragmented frame, use `newframe = frame.copy()`\n",
      "  df[duplicated_rows]\n",
      "C:\\Users\\ASUS\\anaconda3\\lib\\site-packages\\ydata_profiling\\model\\pandas\\duplicates_pandas.py:37: PerformanceWarning: DataFrame is highly fragmented.  This is usually the result of calling `frame.insert` many times, which has poor performance.  Consider joining all columns at once using pd.concat(axis=1) instead. To get a de-fragmented frame, use `newframe = frame.copy()`\n",
      "  df[duplicated_rows]\n",
      "C:\\Users\\ASUS\\anaconda3\\lib\\site-packages\\ydata_profiling\\model\\pandas\\duplicates_pandas.py:37: PerformanceWarning: DataFrame is highly fragmented.  This is usually the result of calling `frame.insert` many times, which has poor performance.  Consider joining all columns at once using pd.concat(axis=1) instead. To get a de-fragmented frame, use `newframe = frame.copy()`\n",
      "  df[duplicated_rows]\n",
      "C:\\Users\\ASUS\\anaconda3\\lib\\site-packages\\ydata_profiling\\model\\pandas\\duplicates_pandas.py:37: PerformanceWarning: DataFrame is highly fragmented.  This is usually the result of calling `frame.insert` many times, which has poor performance.  Consider joining all columns at once using pd.concat(axis=1) instead. To get a de-fragmented frame, use `newframe = frame.copy()`\n",
      "  df[duplicated_rows]\n",
      "C:\\Users\\ASUS\\anaconda3\\lib\\site-packages\\ydata_profiling\\model\\pandas\\duplicates_pandas.py:37: PerformanceWarning: DataFrame is highly fragmented.  This is usually the result of calling `frame.insert` many times, which has poor performance.  Consider joining all columns at once using pd.concat(axis=1) instead. To get a de-fragmented frame, use `newframe = frame.copy()`\n",
      "  df[duplicated_rows]\n",
      "C:\\Users\\ASUS\\anaconda3\\lib\\site-packages\\ydata_profiling\\model\\pandas\\duplicates_pandas.py:37: PerformanceWarning: DataFrame is highly fragmented.  This is usually the result of calling `frame.insert` many times, which has poor performance.  Consider joining all columns at once using pd.concat(axis=1) instead. To get a de-fragmented frame, use `newframe = frame.copy()`\n",
      "  df[duplicated_rows]\n",
      "C:\\Users\\ASUS\\anaconda3\\lib\\site-packages\\ydata_profiling\\model\\pandas\\duplicates_pandas.py:37: PerformanceWarning: DataFrame is highly fragmented.  This is usually the result of calling `frame.insert` many times, which has poor performance.  Consider joining all columns at once using pd.concat(axis=1) instead. To get a de-fragmented frame, use `newframe = frame.copy()`\n",
      "  df[duplicated_rows]\n",
      "C:\\Users\\ASUS\\anaconda3\\lib\\site-packages\\ydata_profiling\\model\\pandas\\duplicates_pandas.py:37: PerformanceWarning: DataFrame is highly fragmented.  This is usually the result of calling `frame.insert` many times, which has poor performance.  Consider joining all columns at once using pd.concat(axis=1) instead. To get a de-fragmented frame, use `newframe = frame.copy()`\n",
      "  df[duplicated_rows]\n",
      "C:\\Users\\ASUS\\anaconda3\\lib\\site-packages\\ydata_profiling\\model\\pandas\\duplicates_pandas.py:37: PerformanceWarning: DataFrame is highly fragmented.  This is usually the result of calling `frame.insert` many times, which has poor performance.  Consider joining all columns at once using pd.concat(axis=1) instead. To get a de-fragmented frame, use `newframe = frame.copy()`\n",
      "  df[duplicated_rows]\n",
      "C:\\Users\\ASUS\\anaconda3\\lib\\site-packages\\ydata_profiling\\model\\pandas\\duplicates_pandas.py:37: PerformanceWarning: DataFrame is highly fragmented.  This is usually the result of calling `frame.insert` many times, which has poor performance.  Consider joining all columns at once using pd.concat(axis=1) instead. To get a de-fragmented frame, use `newframe = frame.copy()`\n",
      "  df[duplicated_rows]\n",
      "C:\\Users\\ASUS\\anaconda3\\lib\\site-packages\\ydata_profiling\\model\\pandas\\duplicates_pandas.py:37: PerformanceWarning: DataFrame is highly fragmented.  This is usually the result of calling `frame.insert` many times, which has poor performance.  Consider joining all columns at once using pd.concat(axis=1) instead. To get a de-fragmented frame, use `newframe = frame.copy()`\n",
      "  df[duplicated_rows]\n",
      "C:\\Users\\ASUS\\anaconda3\\lib\\site-packages\\ydata_profiling\\model\\pandas\\duplicates_pandas.py:37: PerformanceWarning: DataFrame is highly fragmented.  This is usually the result of calling `frame.insert` many times, which has poor performance.  Consider joining all columns at once using pd.concat(axis=1) instead. To get a de-fragmented frame, use `newframe = frame.copy()`\n",
      "  df[duplicated_rows]\n",
      "C:\\Users\\ASUS\\anaconda3\\lib\\site-packages\\ydata_profiling\\model\\pandas\\duplicates_pandas.py:37: PerformanceWarning: DataFrame is highly fragmented.  This is usually the result of calling `frame.insert` many times, which has poor performance.  Consider joining all columns at once using pd.concat(axis=1) instead. To get a de-fragmented frame, use `newframe = frame.copy()`\n",
      "  df[duplicated_rows]\n",
      "C:\\Users\\ASUS\\anaconda3\\lib\\site-packages\\ydata_profiling\\model\\pandas\\duplicates_pandas.py:37: PerformanceWarning: DataFrame is highly fragmented.  This is usually the result of calling `frame.insert` many times, which has poor performance.  Consider joining all columns at once using pd.concat(axis=1) instead. To get a de-fragmented frame, use `newframe = frame.copy()`\n",
      "  df[duplicated_rows]\n",
      "C:\\Users\\ASUS\\anaconda3\\lib\\site-packages\\ydata_profiling\\model\\pandas\\duplicates_pandas.py:37: PerformanceWarning: DataFrame is highly fragmented.  This is usually the result of calling `frame.insert` many times, which has poor performance.  Consider joining all columns at once using pd.concat(axis=1) instead. To get a de-fragmented frame, use `newframe = frame.copy()`\n",
      "  df[duplicated_rows]\n",
      "C:\\Users\\ASUS\\anaconda3\\lib\\site-packages\\ydata_profiling\\model\\pandas\\duplicates_pandas.py:37: PerformanceWarning: DataFrame is highly fragmented.  This is usually the result of calling `frame.insert` many times, which has poor performance.  Consider joining all columns at once using pd.concat(axis=1) instead. To get a de-fragmented frame, use `newframe = frame.copy()`\n",
      "  df[duplicated_rows]\n",
      "C:\\Users\\ASUS\\anaconda3\\lib\\site-packages\\ydata_profiling\\model\\pandas\\duplicates_pandas.py:37: PerformanceWarning: DataFrame is highly fragmented.  This is usually the result of calling `frame.insert` many times, which has poor performance.  Consider joining all columns at once using pd.concat(axis=1) instead. To get a de-fragmented frame, use `newframe = frame.copy()`\n",
      "  df[duplicated_rows]\n",
      "C:\\Users\\ASUS\\anaconda3\\lib\\site-packages\\ydata_profiling\\model\\pandas\\duplicates_pandas.py:37: PerformanceWarning: DataFrame is highly fragmented.  This is usually the result of calling `frame.insert` many times, which has poor performance.  Consider joining all columns at once using pd.concat(axis=1) instead. To get a de-fragmented frame, use `newframe = frame.copy()`\n",
      "  df[duplicated_rows]\n",
      "C:\\Users\\ASUS\\anaconda3\\lib\\site-packages\\ydata_profiling\\model\\pandas\\duplicates_pandas.py:37: PerformanceWarning: DataFrame is highly fragmented.  This is usually the result of calling `frame.insert` many times, which has poor performance.  Consider joining all columns at once using pd.concat(axis=1) instead. To get a de-fragmented frame, use `newframe = frame.copy()`\n",
      "  df[duplicated_rows]\n",
      "C:\\Users\\ASUS\\anaconda3\\lib\\site-packages\\ydata_profiling\\model\\pandas\\duplicates_pandas.py:37: PerformanceWarning: DataFrame is highly fragmented.  This is usually the result of calling `frame.insert` many times, which has poor performance.  Consider joining all columns at once using pd.concat(axis=1) instead. To get a de-fragmented frame, use `newframe = frame.copy()`\n",
      "  df[duplicated_rows]\n",
      "C:\\Users\\ASUS\\anaconda3\\lib\\site-packages\\ydata_profiling\\model\\pandas\\duplicates_pandas.py:37: PerformanceWarning: DataFrame is highly fragmented.  This is usually the result of calling `frame.insert` many times, which has poor performance.  Consider joining all columns at once using pd.concat(axis=1) instead. To get a de-fragmented frame, use `newframe = frame.copy()`\n",
      "  df[duplicated_rows]\n",
      "C:\\Users\\ASUS\\anaconda3\\lib\\site-packages\\ydata_profiling\\model\\pandas\\duplicates_pandas.py:37: PerformanceWarning: DataFrame is highly fragmented.  This is usually the result of calling `frame.insert` many times, which has poor performance.  Consider joining all columns at once using pd.concat(axis=1) instead. To get a de-fragmented frame, use `newframe = frame.copy()`\n",
      "  df[duplicated_rows]\n",
      "C:\\Users\\ASUS\\anaconda3\\lib\\site-packages\\ydata_profiling\\model\\pandas\\duplicates_pandas.py:37: PerformanceWarning: DataFrame is highly fragmented.  This is usually the result of calling `frame.insert` many times, which has poor performance.  Consider joining all columns at once using pd.concat(axis=1) instead. To get a de-fragmented frame, use `newframe = frame.copy()`\n",
      "  df[duplicated_rows]\n",
      "C:\\Users\\ASUS\\anaconda3\\lib\\site-packages\\ydata_profiling\\model\\pandas\\duplicates_pandas.py:37: PerformanceWarning: DataFrame is highly fragmented.  This is usually the result of calling `frame.insert` many times, which has poor performance.  Consider joining all columns at once using pd.concat(axis=1) instead. To get a de-fragmented frame, use `newframe = frame.copy()`\n",
      "  df[duplicated_rows]\n",
      "C:\\Users\\ASUS\\anaconda3\\lib\\site-packages\\ydata_profiling\\model\\pandas\\duplicates_pandas.py:37: PerformanceWarning: DataFrame is highly fragmented.  This is usually the result of calling `frame.insert` many times, which has poor performance.  Consider joining all columns at once using pd.concat(axis=1) instead. To get a de-fragmented frame, use `newframe = frame.copy()`\n",
      "  df[duplicated_rows]\n"
     ]
    },
    {
     "data": {
      "application/vnd.jupyter.widget-view+json": {
       "model_id": "d932044dcfc04a2581221925953ae4f2",
       "version_major": 2,
       "version_minor": 0
      },
      "text/plain": [
       "Generate report structure:   0%|          | 0/1 [00:00<?, ?it/s]"
      ]
     },
     "metadata": {},
     "output_type": "display_data"
    },
    {
     "data": {
      "application/vnd.jupyter.widget-view+json": {
       "model_id": "d7e9757bee25450197fb732554d03b42",
       "version_major": 2,
       "version_minor": 0
      },
      "text/plain": [
       "Render HTML:   0%|          | 0/1 [00:00<?, ?it/s]"
      ]
     },
     "metadata": {},
     "output_type": "display_data"
    },
    {
     "data": {
      "application/vnd.jupyter.widget-view+json": {
       "model_id": "aa754cb6d12749d797fe154db36e87e0",
       "version_major": 2,
       "version_minor": 0
      },
      "text/plain": [
       "Export report to file:   0%|          | 0/1 [00:00<?, ?it/s]"
      ]
     },
     "metadata": {},
     "output_type": "display_data"
    }
   ],
   "source": [
    "profile_2021.to_file(\"../Outputs/2021_report.html\")"
   ]
  },
  {
   "cell_type": "code",
   "execution_count": 16,
   "id": "458ab86d",
   "metadata": {},
   "outputs": [],
   "source": [
    "profile_2017 = ProfileReport(df_2017, title=\"Pandas Profiling Report 2017\")\n",
    "profile_2014 = ProfileReport(df_2014, title=\"Pandas Profiling Report 2014\")\n",
    "profile_2011 = ProfileReport(df_2011, title=\"Pandas Profiling Report 2011\")"
   ]
  },
  {
   "cell_type": "code",
   "execution_count": 17,
   "id": "b0a87aa1",
   "metadata": {},
   "outputs": [
    {
     "data": {
      "application/vnd.jupyter.widget-view+json": {
       "model_id": "0a4f5df40ada41a08d6fd71660e2f2e0",
       "version_major": 2,
       "version_minor": 0
      },
      "text/plain": [
       "Summarize dataset:   0%|          | 0/5 [00:00<?, ?it/s]"
      ]
     },
     "metadata": {},
     "output_type": "display_data"
    },
    {
     "name": "stderr",
     "output_type": "stream",
     "text": [
      "C:\\Users\\ASUS\\anaconda3\\lib\\site-packages\\ydata_profiling\\model\\pandas\\duplicates_pandas.py:37: PerformanceWarning: DataFrame is highly fragmented.  This is usually the result of calling `frame.insert` many times, which has poor performance.  Consider joining all columns at once using pd.concat(axis=1) instead. To get a de-fragmented frame, use `newframe = frame.copy()`\n",
      "  df[duplicated_rows]\n",
      "C:\\Users\\ASUS\\anaconda3\\lib\\site-packages\\ydata_profiling\\model\\pandas\\duplicates_pandas.py:37: PerformanceWarning: DataFrame is highly fragmented.  This is usually the result of calling `frame.insert` many times, which has poor performance.  Consider joining all columns at once using pd.concat(axis=1) instead. To get a de-fragmented frame, use `newframe = frame.copy()`\n",
      "  df[duplicated_rows]\n",
      "C:\\Users\\ASUS\\anaconda3\\lib\\site-packages\\ydata_profiling\\model\\pandas\\duplicates_pandas.py:37: PerformanceWarning: DataFrame is highly fragmented.  This is usually the result of calling `frame.insert` many times, which has poor performance.  Consider joining all columns at once using pd.concat(axis=1) instead. To get a de-fragmented frame, use `newframe = frame.copy()`\n",
      "  df[duplicated_rows]\n",
      "C:\\Users\\ASUS\\anaconda3\\lib\\site-packages\\ydata_profiling\\model\\pandas\\duplicates_pandas.py:37: PerformanceWarning: DataFrame is highly fragmented.  This is usually the result of calling `frame.insert` many times, which has poor performance.  Consider joining all columns at once using pd.concat(axis=1) instead. To get a de-fragmented frame, use `newframe = frame.copy()`\n",
      "  df[duplicated_rows]\n",
      "C:\\Users\\ASUS\\anaconda3\\lib\\site-packages\\ydata_profiling\\model\\pandas\\duplicates_pandas.py:37: PerformanceWarning: DataFrame is highly fragmented.  This is usually the result of calling `frame.insert` many times, which has poor performance.  Consider joining all columns at once using pd.concat(axis=1) instead. To get a de-fragmented frame, use `newframe = frame.copy()`\n",
      "  df[duplicated_rows]\n",
      "C:\\Users\\ASUS\\anaconda3\\lib\\site-packages\\ydata_profiling\\model\\pandas\\duplicates_pandas.py:37: PerformanceWarning: DataFrame is highly fragmented.  This is usually the result of calling `frame.insert` many times, which has poor performance.  Consider joining all columns at once using pd.concat(axis=1) instead. To get a de-fragmented frame, use `newframe = frame.copy()`\n",
      "  df[duplicated_rows]\n"
     ]
    },
    {
     "data": {
      "application/vnd.jupyter.widget-view+json": {
       "model_id": "e6ecc361ca6d4480a0f43eb379994c75",
       "version_major": 2,
       "version_minor": 0
      },
      "text/plain": [
       "Generate report structure:   0%|          | 0/1 [00:00<?, ?it/s]"
      ]
     },
     "metadata": {},
     "output_type": "display_data"
    },
    {
     "data": {
      "application/vnd.jupyter.widget-view+json": {
       "model_id": "276edf4b198546d785ea84a2cda48334",
       "version_major": 2,
       "version_minor": 0
      },
      "text/plain": [
       "Render HTML:   0%|          | 0/1 [00:00<?, ?it/s]"
      ]
     },
     "metadata": {},
     "output_type": "display_data"
    },
    {
     "data": {
      "application/vnd.jupyter.widget-view+json": {
       "model_id": "c486eb72729f42fba95d2b68e28a5374",
       "version_major": 2,
       "version_minor": 0
      },
      "text/plain": [
       "Export report to file:   0%|          | 0/1 [00:00<?, ?it/s]"
      ]
     },
     "metadata": {},
     "output_type": "display_data"
    },
    {
     "data": {
      "application/vnd.jupyter.widget-view+json": {
       "model_id": "1b8d76a8f2434307ae9038395757a09b",
       "version_major": 2,
       "version_minor": 0
      },
      "text/plain": [
       "Summarize dataset:   0%|          | 0/5 [00:00<?, ?it/s]"
      ]
     },
     "metadata": {},
     "output_type": "display_data"
    },
    {
     "data": {
      "application/vnd.jupyter.widget-view+json": {
       "model_id": "7ed81ee58649420f8034499814572fab",
       "version_major": 2,
       "version_minor": 0
      },
      "text/plain": [
       "Generate report structure:   0%|          | 0/1 [00:00<?, ?it/s]"
      ]
     },
     "metadata": {},
     "output_type": "display_data"
    },
    {
     "data": {
      "application/vnd.jupyter.widget-view+json": {
       "model_id": "8d46d8e9b576442788a7d2cd35bce377",
       "version_major": 2,
       "version_minor": 0
      },
      "text/plain": [
       "Render HTML:   0%|          | 0/1 [00:00<?, ?it/s]"
      ]
     },
     "metadata": {},
     "output_type": "display_data"
    },
    {
     "data": {
      "application/vnd.jupyter.widget-view+json": {
       "model_id": "1e41e21b283345d386f19397cde9bd9e",
       "version_major": 2,
       "version_minor": 0
      },
      "text/plain": [
       "Export report to file:   0%|          | 0/1 [00:00<?, ?it/s]"
      ]
     },
     "metadata": {},
     "output_type": "display_data"
    },
    {
     "data": {
      "application/vnd.jupyter.widget-view+json": {
       "model_id": "e68776652cb1480c94d4620dbd89d817",
       "version_major": 2,
       "version_minor": 0
      },
      "text/plain": [
       "Summarize dataset:   0%|          | 0/5 [00:00<?, ?it/s]"
      ]
     },
     "metadata": {},
     "output_type": "display_data"
    },
    {
     "data": {
      "application/vnd.jupyter.widget-view+json": {
       "model_id": "891edce30217403cbba662af70b96613",
       "version_major": 2,
       "version_minor": 0
      },
      "text/plain": [
       "Generate report structure:   0%|          | 0/1 [00:00<?, ?it/s]"
      ]
     },
     "metadata": {},
     "output_type": "display_data"
    },
    {
     "data": {
      "application/vnd.jupyter.widget-view+json": {
       "model_id": "d40ecfe00c404aa2b35b4f67c4acfdcc",
       "version_major": 2,
       "version_minor": 0
      },
      "text/plain": [
       "Render HTML:   0%|          | 0/1 [00:00<?, ?it/s]"
      ]
     },
     "metadata": {},
     "output_type": "display_data"
    },
    {
     "data": {
      "application/vnd.jupyter.widget-view+json": {
       "model_id": "aef97550f4334d199e8501ed264520b6",
       "version_major": 2,
       "version_minor": 0
      },
      "text/plain": [
       "Export report to file:   0%|          | 0/1 [00:00<?, ?it/s]"
      ]
     },
     "metadata": {},
     "output_type": "display_data"
    }
   ],
   "source": [
    "profile_2017.to_file(\"../Outputs/2017_report.html\")\n",
    "profile_2014.to_file(\"../Outputs/2014_report.html\")\n",
    "profile_2011.to_file(\"../Outputs/2011_report.html\")"
   ]
  },
  {
   "cell_type": "code",
   "execution_count": null,
   "id": "988ed50b",
   "metadata": {},
   "outputs": [],
   "source": []
  }
 ],
 "metadata": {
  "kernelspec": {
   "display_name": "Python 3 (ipykernel)",
   "language": "python",
   "name": "python3"
  },
  "language_info": {
   "codemirror_mode": {
    "name": "ipython",
    "version": 3
   },
   "file_extension": ".py",
   "mimetype": "text/x-python",
   "name": "python",
   "nbconvert_exporter": "python",
   "pygments_lexer": "ipython3",
   "version": "3.9.13"
  }
 },
 "nbformat": 4,
 "nbformat_minor": 5
}
