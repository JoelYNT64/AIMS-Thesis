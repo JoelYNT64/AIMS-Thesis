{
 "cells": [
  {
   "cell_type": "code",
   "execution_count": 1,
   "id": "464a3e74",
   "metadata": {},
   "outputs": [],
   "source": [
    "import numpy as np\n",
    "import pandas as pd"
   ]
  },
  {
   "cell_type": "markdown",
   "id": "df4dd002",
   "metadata": {},
   "source": [
    "## Download the data"
   ]
  },
  {
   "cell_type": "code",
   "execution_count": 2,
   "id": "14dcec5a",
   "metadata": {},
   "outputs": [],
   "source": [
    "df_2021= pd.read_csv(\"../Datasets/findex_2021.csv\", encoding='iso-8859-1')"
   ]
  },
  {
   "cell_type": "code",
   "execution_count": 3,
   "id": "5cd2f04d",
   "metadata": {},
   "outputs": [],
   "source": [
    "df_2011= pd.read_csv(\"../Datasets/findex_2011.csv\", encoding='iso-8859-1')"
   ]
  },
  {
   "cell_type": "code",
   "execution_count": 4,
   "id": "6b1e4871",
   "metadata": {},
   "outputs": [],
   "source": [
    "df_2014= pd.read_csv(\"../Datasets/findex_2014.csv\", encoding='iso-8859-1')"
   ]
  },
  {
   "cell_type": "code",
   "execution_count": 5,
   "id": "00ff5a08",
   "metadata": {},
   "outputs": [],
   "source": [
    "df_2017= pd.read_csv(\"../Datasets/findex_2017.csv\", encoding='iso-8859-1')"
   ]
  },
  {
   "cell_type": "markdown",
   "id": "955f7c46",
   "metadata": {},
   "source": [
    "## Cleaning"
   ]
  },
  {
   "cell_type": "markdown",
   "id": "4dc0c713",
   "metadata": {},
   "source": [
    "### 2021"
   ]
  },
  {
   "cell_type": "code",
   "execution_count": 6,
   "id": "50da07b7",
   "metadata": {},
   "outputs": [
    {
     "data": {
      "text/html": [
       "<div>\n",
       "<style scoped>\n",
       "    .dataframe tbody tr th:only-of-type {\n",
       "        vertical-align: middle;\n",
       "    }\n",
       "\n",
       "    .dataframe tbody tr th {\n",
       "        vertical-align: top;\n",
       "    }\n",
       "\n",
       "    .dataframe thead th {\n",
       "        text-align: right;\n",
       "    }\n",
       "</style>\n",
       "<table border=\"1\" class=\"dataframe\">\n",
       "  <thead>\n",
       "    <tr style=\"text-align: right;\">\n",
       "      <th></th>\n",
       "      <th>economy</th>\n",
       "      <th>economycode</th>\n",
       "      <th>regionwb</th>\n",
       "      <th>pop_adult</th>\n",
       "      <th>wpid_random</th>\n",
       "      <th>wgt</th>\n",
       "      <th>female</th>\n",
       "      <th>age</th>\n",
       "      <th>educ</th>\n",
       "      <th>inc_q</th>\n",
       "      <th>...</th>\n",
       "      <th>receive_wages</th>\n",
       "      <th>receive_transfers</th>\n",
       "      <th>receive_pension</th>\n",
       "      <th>receive_agriculture</th>\n",
       "      <th>pay_utilities</th>\n",
       "      <th>remittances</th>\n",
       "      <th>mobileowner</th>\n",
       "      <th>internetaccess</th>\n",
       "      <th>anydigpayment</th>\n",
       "      <th>merchantpay_dig</th>\n",
       "    </tr>\n",
       "  </thead>\n",
       "  <tbody>\n",
       "    <tr>\n",
       "      <th>0</th>\n",
       "      <td>Afghanistan</td>\n",
       "      <td>AFG</td>\n",
       "      <td>South Asia</td>\n",
       "      <td>22647496.0</td>\n",
       "      <td>140343632</td>\n",
       "      <td>0.774286</td>\n",
       "      <td>1</td>\n",
       "      <td>19.0</td>\n",
       "      <td>2</td>\n",
       "      <td>4</td>\n",
       "      <td>...</td>\n",
       "      <td>4</td>\n",
       "      <td>4</td>\n",
       "      <td>4</td>\n",
       "      <td>4.0</td>\n",
       "      <td>4</td>\n",
       "      <td>5.0</td>\n",
       "      <td>1</td>\n",
       "      <td>2</td>\n",
       "      <td>0</td>\n",
       "      <td>0.0</td>\n",
       "    </tr>\n",
       "    <tr>\n",
       "      <th>1</th>\n",
       "      <td>Afghanistan</td>\n",
       "      <td>AFG</td>\n",
       "      <td>South Asia</td>\n",
       "      <td>22647496.0</td>\n",
       "      <td>167823412</td>\n",
       "      <td>0.766367</td>\n",
       "      <td>1</td>\n",
       "      <td>40.0</td>\n",
       "      <td>1</td>\n",
       "      <td>5</td>\n",
       "      <td>...</td>\n",
       "      <td>4</td>\n",
       "      <td>4</td>\n",
       "      <td>4</td>\n",
       "      <td>4.0</td>\n",
       "      <td>4</td>\n",
       "      <td>5.0</td>\n",
       "      <td>1</td>\n",
       "      <td>2</td>\n",
       "      <td>0</td>\n",
       "      <td>0.0</td>\n",
       "    </tr>\n",
       "    <tr>\n",
       "      <th>2</th>\n",
       "      <td>Afghanistan</td>\n",
       "      <td>AFG</td>\n",
       "      <td>South Asia</td>\n",
       "      <td>22647496.0</td>\n",
       "      <td>182483450</td>\n",
       "      <td>0.588983</td>\n",
       "      <td>1</td>\n",
       "      <td>25.0</td>\n",
       "      <td>1</td>\n",
       "      <td>1</td>\n",
       "      <td>...</td>\n",
       "      <td>4</td>\n",
       "      <td>4</td>\n",
       "      <td>4</td>\n",
       "      <td>4.0</td>\n",
       "      <td>4</td>\n",
       "      <td>5.0</td>\n",
       "      <td>1</td>\n",
       "      <td>2</td>\n",
       "      <td>0</td>\n",
       "      <td>0.0</td>\n",
       "    </tr>\n",
       "    <tr>\n",
       "      <th>3</th>\n",
       "      <td>Afghanistan</td>\n",
       "      <td>AFG</td>\n",
       "      <td>South Asia</td>\n",
       "      <td>22647496.0</td>\n",
       "      <td>170778240</td>\n",
       "      <td>2.572345</td>\n",
       "      <td>1</td>\n",
       "      <td>40.0</td>\n",
       "      <td>1</td>\n",
       "      <td>4</td>\n",
       "      <td>...</td>\n",
       "      <td>4</td>\n",
       "      <td>4</td>\n",
       "      <td>4</td>\n",
       "      <td>4.0</td>\n",
       "      <td>4</td>\n",
       "      <td>5.0</td>\n",
       "      <td>2</td>\n",
       "      <td>2</td>\n",
       "      <td>0</td>\n",
       "      <td>0.0</td>\n",
       "    </tr>\n",
       "    <tr>\n",
       "      <th>4</th>\n",
       "      <td>Afghanistan</td>\n",
       "      <td>AFG</td>\n",
       "      <td>South Asia</td>\n",
       "      <td>22647496.0</td>\n",
       "      <td>170712642</td>\n",
       "      <td>0.525471</td>\n",
       "      <td>2</td>\n",
       "      <td>27.0</td>\n",
       "      <td>3</td>\n",
       "      <td>1</td>\n",
       "      <td>...</td>\n",
       "      <td>1</td>\n",
       "      <td>4</td>\n",
       "      <td>4</td>\n",
       "      <td>4.0</td>\n",
       "      <td>4</td>\n",
       "      <td>5.0</td>\n",
       "      <td>1</td>\n",
       "      <td>1</td>\n",
       "      <td>1</td>\n",
       "      <td>0.0</td>\n",
       "    </tr>\n",
       "  </tbody>\n",
       "</table>\n",
       "<p>5 rows × 127 columns</p>\n",
       "</div>"
      ],
      "text/plain": [
       "       economy economycode    regionwb   pop_adult  wpid_random       wgt  \\\n",
       "0  Afghanistan         AFG  South Asia  22647496.0    140343632  0.774286   \n",
       "1  Afghanistan         AFG  South Asia  22647496.0    167823412  0.766367   \n",
       "2  Afghanistan         AFG  South Asia  22647496.0    182483450  0.588983   \n",
       "3  Afghanistan         AFG  South Asia  22647496.0    170778240  2.572345   \n",
       "4  Afghanistan         AFG  South Asia  22647496.0    170712642  0.525471   \n",
       "\n",
       "   female   age  educ  inc_q  ...  receive_wages  receive_transfers  \\\n",
       "0       1  19.0     2      4  ...              4                  4   \n",
       "1       1  40.0     1      5  ...              4                  4   \n",
       "2       1  25.0     1      1  ...              4                  4   \n",
       "3       1  40.0     1      4  ...              4                  4   \n",
       "4       2  27.0     3      1  ...              1                  4   \n",
       "\n",
       "   receive_pension  receive_agriculture  pay_utilities  remittances  \\\n",
       "0                4                  4.0              4          5.0   \n",
       "1                4                  4.0              4          5.0   \n",
       "2                4                  4.0              4          5.0   \n",
       "3                4                  4.0              4          5.0   \n",
       "4                4                  4.0              4          5.0   \n",
       "\n",
       "   mobileowner  internetaccess  anydigpayment  merchantpay_dig  \n",
       "0            1               2              0              0.0  \n",
       "1            1               2              0              0.0  \n",
       "2            1               2              0              0.0  \n",
       "3            2               2              0              0.0  \n",
       "4            1               1              1              0.0  \n",
       "\n",
       "[5 rows x 127 columns]"
      ]
     },
     "execution_count": 6,
     "metadata": {},
     "output_type": "execute_result"
    }
   ],
   "source": [
    "df1= df_2021.copy()\n",
    "df1.head()"
   ]
  },
  {
   "cell_type": "code",
   "execution_count": 7,
   "id": "7d47b59b",
   "metadata": {},
   "outputs": [],
   "source": [
    "def Yes_or_No(df, col, c=0):\n",
    "    df.loc[df[col]>2, col]= 2\n",
    "    df[col] = df[col].astype(int)\n",
    "    if c == 0:\n",
    "        df[col]= df[col].replace({1: \"Yes\", 2: \"No\", -1: np.nan})\n",
    "    return df\n",
    "\n",
    "def Combine_cols(df, col1, col2, c=0):\n",
    "    df.loc[(df[col1]==1) | (df[col2]==1), col1]= 1\n",
    "    df= df.drop(columns=[col2])\n",
    "    return Yes_or_No(df, col1, c)\n",
    "    "
   ]
  },
  {
   "cell_type": "code",
   "execution_count": 8,
   "id": "65f418d2",
   "metadata": {},
   "outputs": [],
   "source": [
    "df1[\"age\"].fillna(int(df1[\"age\"].mean()), inplace= True)\n",
    "df1= df1.fillna(-1)"
   ]
  },
  {
   "cell_type": "code",
   "execution_count": 10,
   "id": "24923e95",
   "metadata": {},
   "outputs": [],
   "source": [
    "df1.loc[df1[\"account_mob\"]==0, \"account_mob\"] = 2\n",
    "df1.loc[df1[\"account_fin\"]==0, \"account_fin\"] = 2\n",
    "df1= df1.drop(columns= \"account\")"
   ]
  },
  {
   "cell_type": "code",
   "execution_count": 12,
   "id": "0c9d9ba4",
   "metadata": {},
   "outputs": [],
   "source": [
    "df1= Yes_or_No(df1, \"account_fin\")\n",
    "df1= Yes_or_No(df1, \"account_mob\")\n",
    "df1= Yes_or_No(df1, \"fin2\")\n",
    "df1= Yes_or_No(df1, \"fin1_1a\")\n",
    "df1= Yes_or_No(df1, \"fin1_1b\")"
   ]
  },
  {
   "cell_type": "code",
   "execution_count": 13,
   "id": "2a1bbfe2",
   "metadata": {},
   "outputs": [],
   "source": [
    "df1= Combine_cols(df1, \"fin4\", \"fin4a\")"
   ]
  },
  {
   "cell_type": "code",
   "execution_count": 15,
   "id": "090186af",
   "metadata": {},
   "outputs": [],
   "source": [
    "df1= Combine_cols(df1, \"fin5\", \"fin6\")"
   ]
  },
  {
   "cell_type": "code",
   "execution_count": 16,
   "id": "115c0df4",
   "metadata": {},
   "outputs": [
    {
     "data": {
      "text/plain": [
       " 0.0    63220\n",
       " 1.0    35028\n",
       "-1.0    29606\n",
       "Name: merchantpay_dig, dtype: int64"
      ]
     },
     "execution_count": 16,
     "metadata": {},
     "output_type": "execute_result"
    }
   ],
   "source": [
    "df1[\"merchantpay_dig\"].value_counts()"
   ]
  },
  {
   "cell_type": "code",
   "execution_count": 18,
   "id": "8ef839e1",
   "metadata": {},
   "outputs": [],
   "source": [
    "df1= Combine_cols(df1, \"fin8\", \"fin8a\")"
   ]
  },
  {
   "cell_type": "code",
   "execution_count": 19,
   "id": "98c077aa",
   "metadata": {},
   "outputs": [],
   "source": [
    "df1= Yes_or_No(df1, \"fin8b\")"
   ]
  },
  {
   "cell_type": "code",
   "execution_count": 20,
   "id": "0ccfa140",
   "metadata": {},
   "outputs": [],
   "source": [
    "df1= Yes_or_No(df1, \"fin7\")"
   ]
  },
  {
   "cell_type": "code",
   "execution_count": 21,
   "id": "03278b52",
   "metadata": {},
   "outputs": [],
   "source": [
    "df1= df1.drop(columns=[\"fin10_1a\", \"fin10_1b\", \"fin10_1c\", \"fin10_1d\", \"fin10_1e\"])"
   ]
  },
  {
   "cell_type": "code",
   "execution_count": 22,
   "id": "2cf1f3e4",
   "metadata": {},
   "outputs": [],
   "source": [
    "df1= df1.drop(columns=[\"fin11a\", \"fin11b\", \"fin11c\", \"fin11d\", \"fin11e\", \"fin11f\", \"fin11g\",\n",
    "                      \"fin11h\", \"fin13_1a\", \"fin13_1b\", \"fin13_1c\", \"fin13_1d\", \n",
    "                       \"fin13_1e\", \"fin13_1f\"])"
   ]
  },
  {
   "cell_type": "code",
   "execution_count": 23,
   "id": "a1a4759d",
   "metadata": {},
   "outputs": [],
   "source": [
    "df1= df1.drop(columns=[\"fin9a\"])\n",
    "df1= Yes_or_No(df1, \"fin9\")\n",
    "df1= Yes_or_No(df1, \"fin10\")"
   ]
  },
  {
   "cell_type": "code",
   "execution_count": 24,
   "id": "188ce1f0",
   "metadata": {},
   "outputs": [],
   "source": [
    "df1= df1.drop(columns=[\"fin10a\"])"
   ]
  },
  {
   "cell_type": "code",
   "execution_count": 26,
   "id": "471bbf24",
   "metadata": {},
   "outputs": [],
   "source": [
    "df1= Yes_or_No(df1, \"fin10b\")"
   ]
  },
  {
   "cell_type": "code",
   "execution_count": 27,
   "id": "9b10c84a",
   "metadata": {},
   "outputs": [],
   "source": [
    "df1= df1.drop(columns=[\"fin13a\", \"fin13d\", \"fin13b\", \"fin13c\"])"
   ]
  },
  {
   "cell_type": "code",
   "execution_count": 28,
   "id": "0c09125b",
   "metadata": {},
   "outputs": [],
   "source": [
    "df1= df1.drop(columns=[\"fin14_2_China\", \"fin14_2\"])"
   ]
  },
  {
   "cell_type": "code",
   "execution_count": 29,
   "id": "f1230ef4",
   "metadata": {},
   "outputs": [],
   "source": [
    "df1= Yes_or_No(df1, \"fin14a\")\n",
    "df1= Yes_or_No(df1, \"fin14a1\")\n",
    "df1= Yes_or_No(df1, \"fin14b\")"
   ]
  },
  {
   "cell_type": "code",
   "execution_count": 30,
   "id": "1dad3288",
   "metadata": {},
   "outputs": [],
   "source": [
    "df1= df1.drop(columns=[\"fin14c\", \"fin14c_2\", \"fin14c_2_China\"])"
   ]
  },
  {
   "cell_type": "code",
   "execution_count": 31,
   "id": "3796b708",
   "metadata": {},
   "outputs": [],
   "source": [
    "df1= Yes_or_No(df1, \"fin16\")\n",
    "df1= Yes_or_No(df1, \"fin17a\")\n",
    "df1= Yes_or_No(df1, \"fin17b\")"
   ]
  },
  {
   "cell_type": "code",
   "execution_count": 32,
   "id": "af9af6ef",
   "metadata": {},
   "outputs": [],
   "source": [
    "df1= df1.drop(columns=[\"fin17a1\"])"
   ]
  },
  {
   "cell_type": "code",
   "execution_count": 33,
   "id": "b2bbfc9a",
   "metadata": {},
   "outputs": [],
   "source": [
    "df1= Yes_or_No(df1, \"fin20\")"
   ]
  },
  {
   "cell_type": "code",
   "execution_count": 34,
   "id": "dac5cef6",
   "metadata": {},
   "outputs": [],
   "source": [
    "df1= Yes_or_No(df1, \"fin22a\")"
   ]
  },
  {
   "cell_type": "code",
   "execution_count": 35,
   "id": "e2e6e3dd",
   "metadata": {},
   "outputs": [],
   "source": [
    "df1= Yes_or_No(df1, \"fin22b\")"
   ]
  },
  {
   "cell_type": "code",
   "execution_count": 36,
   "id": "3a9c3858",
   "metadata": {},
   "outputs": [],
   "source": [
    "df1= df1.drop(columns=[\"fin22c\"])"
   ]
  },
  {
   "cell_type": "code",
   "execution_count": 37,
   "id": "509415e2",
   "metadata": {},
   "outputs": [],
   "source": [
    "df1.loc[df1[\"fin24\"]>6, \"fin24\"]= 7"
   ]
  },
  {
   "cell_type": "code",
   "execution_count": 38,
   "id": "47f3a4f6",
   "metadata": {},
   "outputs": [],
   "source": [
    "df1= df1.drop(columns=[\"fin24a\", \"fin24b\"])"
   ]
  },
  {
   "cell_type": "code",
   "execution_count": 39,
   "id": "e4d91e4c",
   "metadata": {},
   "outputs": [],
   "source": [
    "df1= df1.drop(columns=[\"fin27_1\", \"fin27c1\", \"fin27c2\"])"
   ]
  },
  {
   "cell_type": "code",
   "execution_count": 40,
   "id": "410ddb87",
   "metadata": {},
   "outputs": [],
   "source": [
    "df1= Yes_or_No(df1, \"fin26\")\n",
    "df1= Yes_or_No(df1, \"fin28\")"
   ]
  },
  {
   "cell_type": "code",
   "execution_count": 41,
   "id": "322dbc71",
   "metadata": {},
   "outputs": [],
   "source": [
    "df1= df1.drop(columns=[\"fin29_1\", \"fin29c1\", \"fin29c2\"])"
   ]
  },
  {
   "cell_type": "code",
   "execution_count": 42,
   "id": "75c6fc52",
   "metadata": {},
   "outputs": [],
   "source": [
    "df1= Yes_or_No(df1, \"fin30\")\n",
    "df1= Yes_or_No(df1, \"fin31a\")\n",
    "df1= Yes_or_No(df1, \"fin31b\")"
   ]
  },
  {
   "cell_type": "code",
   "execution_count": 43,
   "id": "c660afd5",
   "metadata": {},
   "outputs": [],
   "source": [
    "df1= df1.drop(columns=[\"fin31b1\", \"fin31b1_China\", \"fin31c\"])"
   ]
  },
  {
   "cell_type": "code",
   "execution_count": 44,
   "id": "117bb08e",
   "metadata": {},
   "outputs": [],
   "source": [
    "df1= Yes_or_No(df1, \"fin32\")"
   ]
  },
  {
   "cell_type": "code",
   "execution_count": 45,
   "id": "cab025d1",
   "metadata": {},
   "outputs": [],
   "source": [
    "df1= df1.drop(columns=[\"fin39b\", \"fin33\"])"
   ]
  },
  {
   "cell_type": "code",
   "execution_count": 46,
   "id": "18b9c1a9",
   "metadata": {},
   "outputs": [],
   "source": [
    "df1= Combine_cols(df1, \"fin34a\", \"fin34b\",1)"
   ]
  },
  {
   "cell_type": "code",
   "execution_count": 47,
   "id": "65a53efb",
   "metadata": {},
   "outputs": [],
   "source": [
    "df1= Combine_cols(df1, \"fin34a\", \"fin34e\",1)\n",
    "df1= Combine_cols(df1, \"fin34a\", \"fin35\", 1)"
   ]
  },
  {
   "cell_type": "code",
   "execution_count": 49,
   "id": "930bb9e6",
   "metadata": {},
   "outputs": [],
   "source": [
    "df1.loc[(df1[\"fin34a\"] != 1), \"fin34a\"]= 0"
   ]
  },
  {
   "cell_type": "code",
   "execution_count": 51,
   "id": "75a2dfaa",
   "metadata": {},
   "outputs": [
    {
     "data": {
      "text/plain": [
       "'fin34a'"
      ]
     },
     "execution_count": 51,
     "metadata": {},
     "output_type": "execute_result"
    }
   ],
   "source": [
    "df1 = df1[[col for col in df1.columns if col != 'fin34a'] + ['fin34a']]\n",
    "df1.columns[-1]"
   ]
  },
  {
   "cell_type": "code",
   "execution_count": 54,
   "id": "318d3376",
   "metadata": {},
   "outputs": [],
   "source": [
    "df1= Yes_or_No(df1, \"fin38\")\n",
    "df1= df1.drop(columns=[\"fin39a\", \"fin39d\", \"fin39e\", \"fin42\", \"fin42a\", \"fin43a\", \n",
    "                       \"fin43b\", \"fin43d\", \"fin43e\"])"
   ]
  },
  {
   "cell_type": "code",
   "execution_count": 55,
   "id": "36166ac1",
   "metadata": {},
   "outputs": [],
   "source": [
    "def Worry(df, col):\n",
    "    df.loc[df[col]>3, col]= 4\n",
    "    df[col] = df[col].astype(int)\n",
    "    return df"
   ]
  },
  {
   "cell_type": "code",
   "execution_count": 56,
   "id": "9439225a",
   "metadata": {},
   "outputs": [],
   "source": [
    "cols= [\"fin44b\", \"fin44c\", \"fin44d\"]\n",
    "for col in cols:\n",
    "    df1= Worry(df1, col)"
   ]
  },
  {
   "cell_type": "code",
   "execution_count": 57,
   "id": "226e65ce",
   "metadata": {},
   "outputs": [],
   "source": [
    "df1= df1.drop(columns=[\"fin45\", \"fin45_1\", \"fin45_1_China\"])"
   ]
  },
  {
   "cell_type": "code",
   "execution_count": 58,
   "id": "89dcbd14",
   "metadata": {},
   "outputs": [],
   "source": [
    "df1.loc[df1[\"saved\"]==0, \"saved\"]=2\n",
    "df1.loc[df1[\"borrowed\"]==0, \"borrowed\"]=2"
   ]
  },
  {
   "cell_type": "code",
   "execution_count": 59,
   "id": "249dbeb1",
   "metadata": {},
   "outputs": [],
   "source": [
    "df1= df1.drop(columns=[\"receive_wages\", \"receive_transfers\", \"receive_pension\",\n",
    "                      \"receive_agriculture\", \"pay_utilities\", \"remittances\"])"
   ]
  },
  {
   "cell_type": "code",
   "execution_count": 60,
   "id": "e5bf3cc4",
   "metadata": {},
   "outputs": [],
   "source": [
    "df1= Yes_or_No(df1, \"mobileowner\")\n",
    "df1= Yes_or_No(df1, \"internetaccess\")"
   ]
  },
  {
   "cell_type": "code",
   "execution_count": 61,
   "id": "50686eae",
   "metadata": {},
   "outputs": [],
   "source": [
    "df1.loc[df1[\"anydigpayment\"]==0, \"anydigpayment\"]=2\n",
    "df1.loc[df1[\"merchantpay_dig\"]==0, \"merchantpay_dig\"]=2"
   ]
  },
  {
   "cell_type": "code",
   "execution_count": 62,
   "id": "f4b0fff7",
   "metadata": {},
   "outputs": [],
   "source": [
    "df1.loc[df1[\"age\"] <25, \"age\"]= 1\n",
    "df1.loc[(df1[\"age\"] <35) & (df1[\"age\"] > 24), \"age\"]= 2\n",
    "df1.loc[(df1[\"age\"] <45) & (df1[\"age\"] > 34), \"age\"]= 3\n",
    "df1.loc[(df1[\"age\"] <55) & (df1[\"age\"] > 44), \"age\"]= 4\n",
    "df1.loc[(df1[\"age\"] <65) & (df1[\"age\"] > 54), \"age\"]= 5\n",
    "df1.loc[(df1[\"age\"] > 64), \"age\"]= 6"
   ]
  },
  {
   "cell_type": "code",
   "execution_count": 64,
   "id": "a3e8813e",
   "metadata": {},
   "outputs": [],
   "source": [
    "#df1[\"female\"]= df1[\"female\"].replace({1:\"F\", 2:\"M\"})\n",
    "#df1[\"educ\"]= df1[\"educ\"].replace({1:\"primary\", 2:\"high school\", 3:\"university\", \n",
    "#                                  4:\"high school\", 5:\"high school\"})\n",
    "#df1[\"educ\"]= df1[\"educ\"].replace({1:\"15-24\", 2:\"25-34\", 3:\"35-44\", 4:\"44-55\", 5:\"55-64\", \n",
    "#                                 6:\"65+\"})\n",
    "df1[\"educ\"]= df1[\"educ\"].replace({4:2, 5:2})\n",
    "#df1[\"inc_q\"]= df1[\"inc_q\"].replace({1:\"poorest\", 2:\"second\", 3:\"middle\", 4:\"fourth\", \n",
    "#                                    5:\"richest\"})\n",
    "#df1[\"age\"]= df1[\"age\"].replace({1:\"15-24\", 2:\"25-34\", 3:\"35-44\", 4:\"45-54\", 5:\"55-64\", \n",
    "#                                6:\"65+\"})"
   ]
  },
  {
   "cell_type": "code",
   "execution_count": 65,
   "id": "ea9d5c5d",
   "metadata": {},
   "outputs": [
    {
     "data": {
      "text/html": [
       "<div>\n",
       "<style scoped>\n",
       "    .dataframe tbody tr th:only-of-type {\n",
       "        vertical-align: middle;\n",
       "    }\n",
       "\n",
       "    .dataframe tbody tr th {\n",
       "        vertical-align: top;\n",
       "    }\n",
       "\n",
       "    .dataframe thead th {\n",
       "        text-align: right;\n",
       "    }\n",
       "</style>\n",
       "<table border=\"1\" class=\"dataframe\">\n",
       "  <thead>\n",
       "    <tr style=\"text-align: right;\">\n",
       "      <th></th>\n",
       "      <th>economy</th>\n",
       "      <th>economycode</th>\n",
       "      <th>regionwb</th>\n",
       "      <th>pop_adult</th>\n",
       "      <th>wpid_random</th>\n",
       "      <th>wgt</th>\n",
       "      <th>female</th>\n",
       "      <th>age</th>\n",
       "      <th>educ</th>\n",
       "      <th>inc_q</th>\n",
       "      <th>...</th>\n",
       "      <th>fin44b</th>\n",
       "      <th>fin44c</th>\n",
       "      <th>fin44d</th>\n",
       "      <th>saved</th>\n",
       "      <th>borrowed</th>\n",
       "      <th>mobileowner</th>\n",
       "      <th>internetaccess</th>\n",
       "      <th>anydigpayment</th>\n",
       "      <th>merchantpay_dig</th>\n",
       "      <th>fin34a</th>\n",
       "    </tr>\n",
       "  </thead>\n",
       "  <tbody>\n",
       "    <tr>\n",
       "      <th>0</th>\n",
       "      <td>Afghanistan</td>\n",
       "      <td>AFG</td>\n",
       "      <td>South Asia</td>\n",
       "      <td>22647496.0</td>\n",
       "      <td>140343632</td>\n",
       "      <td>0.774286</td>\n",
       "      <td>1</td>\n",
       "      <td>1.0</td>\n",
       "      <td>2</td>\n",
       "      <td>4</td>\n",
       "      <td>...</td>\n",
       "      <td>2</td>\n",
       "      <td>2</td>\n",
       "      <td>1</td>\n",
       "      <td>2</td>\n",
       "      <td>2</td>\n",
       "      <td>Yes</td>\n",
       "      <td>No</td>\n",
       "      <td>2</td>\n",
       "      <td>2.0</td>\n",
       "      <td>0</td>\n",
       "    </tr>\n",
       "    <tr>\n",
       "      <th>1</th>\n",
       "      <td>Afghanistan</td>\n",
       "      <td>AFG</td>\n",
       "      <td>South Asia</td>\n",
       "      <td>22647496.0</td>\n",
       "      <td>167823412</td>\n",
       "      <td>0.766367</td>\n",
       "      <td>1</td>\n",
       "      <td>3.0</td>\n",
       "      <td>1</td>\n",
       "      <td>5</td>\n",
       "      <td>...</td>\n",
       "      <td>1</td>\n",
       "      <td>1</td>\n",
       "      <td>1</td>\n",
       "      <td>2</td>\n",
       "      <td>1</td>\n",
       "      <td>Yes</td>\n",
       "      <td>No</td>\n",
       "      <td>2</td>\n",
       "      <td>2.0</td>\n",
       "      <td>0</td>\n",
       "    </tr>\n",
       "    <tr>\n",
       "      <th>2</th>\n",
       "      <td>Afghanistan</td>\n",
       "      <td>AFG</td>\n",
       "      <td>South Asia</td>\n",
       "      <td>22647496.0</td>\n",
       "      <td>182483450</td>\n",
       "      <td>0.588983</td>\n",
       "      <td>1</td>\n",
       "      <td>2.0</td>\n",
       "      <td>1</td>\n",
       "      <td>1</td>\n",
       "      <td>...</td>\n",
       "      <td>1</td>\n",
       "      <td>1</td>\n",
       "      <td>1</td>\n",
       "      <td>2</td>\n",
       "      <td>1</td>\n",
       "      <td>Yes</td>\n",
       "      <td>No</td>\n",
       "      <td>2</td>\n",
       "      <td>2.0</td>\n",
       "      <td>0</td>\n",
       "    </tr>\n",
       "    <tr>\n",
       "      <th>3</th>\n",
       "      <td>Afghanistan</td>\n",
       "      <td>AFG</td>\n",
       "      <td>South Asia</td>\n",
       "      <td>22647496.0</td>\n",
       "      <td>170778240</td>\n",
       "      <td>2.572345</td>\n",
       "      <td>1</td>\n",
       "      <td>3.0</td>\n",
       "      <td>1</td>\n",
       "      <td>4</td>\n",
       "      <td>...</td>\n",
       "      <td>3</td>\n",
       "      <td>2</td>\n",
       "      <td>2</td>\n",
       "      <td>2</td>\n",
       "      <td>1</td>\n",
       "      <td>No</td>\n",
       "      <td>No</td>\n",
       "      <td>2</td>\n",
       "      <td>2.0</td>\n",
       "      <td>0</td>\n",
       "    </tr>\n",
       "    <tr>\n",
       "      <th>4</th>\n",
       "      <td>Afghanistan</td>\n",
       "      <td>AFG</td>\n",
       "      <td>South Asia</td>\n",
       "      <td>22647496.0</td>\n",
       "      <td>170712642</td>\n",
       "      <td>0.525471</td>\n",
       "      <td>2</td>\n",
       "      <td>2.0</td>\n",
       "      <td>3</td>\n",
       "      <td>1</td>\n",
       "      <td>...</td>\n",
       "      <td>1</td>\n",
       "      <td>2</td>\n",
       "      <td>2</td>\n",
       "      <td>2</td>\n",
       "      <td>1</td>\n",
       "      <td>Yes</td>\n",
       "      <td>Yes</td>\n",
       "      <td>1</td>\n",
       "      <td>2.0</td>\n",
       "      <td>1</td>\n",
       "    </tr>\n",
       "  </tbody>\n",
       "</table>\n",
       "<p>5 rows × 57 columns</p>\n",
       "</div>"
      ],
      "text/plain": [
       "       economy economycode    regionwb   pop_adult  wpid_random       wgt  \\\n",
       "0  Afghanistan         AFG  South Asia  22647496.0    140343632  0.774286   \n",
       "1  Afghanistan         AFG  South Asia  22647496.0    167823412  0.766367   \n",
       "2  Afghanistan         AFG  South Asia  22647496.0    182483450  0.588983   \n",
       "3  Afghanistan         AFG  South Asia  22647496.0    170778240  2.572345   \n",
       "4  Afghanistan         AFG  South Asia  22647496.0    170712642  0.525471   \n",
       "\n",
       "   female  age  educ  inc_q  ...  fin44b  fin44c fin44d saved borrowed  \\\n",
       "0       1  1.0     2      4  ...       2       2      1     2        2   \n",
       "1       1  3.0     1      5  ...       1       1      1     2        1   \n",
       "2       1  2.0     1      1  ...       1       1      1     2        1   \n",
       "3       1  3.0     1      4  ...       3       2      2     2        1   \n",
       "4       2  2.0     3      1  ...       1       2      2     2        1   \n",
       "\n",
       "  mobileowner internetaccess anydigpayment merchantpay_dig fin34a  \n",
       "0         Yes             No             2             2.0      0  \n",
       "1         Yes             No             2             2.0      0  \n",
       "2         Yes             No             2             2.0      0  \n",
       "3          No             No             2             2.0      0  \n",
       "4         Yes            Yes             1             2.0      1  \n",
       "\n",
       "[5 rows x 57 columns]"
      ]
     },
     "execution_count": 65,
     "metadata": {},
     "output_type": "execute_result"
    }
   ],
   "source": [
    "df1.head()"
   ]
  },
  {
   "cell_type": "code",
   "execution_count": 66,
   "id": "7bb15964",
   "metadata": {},
   "outputs": [],
   "source": [
    "df2= df1.drop(columns=[\"pop_adult\", \"economy\", \"wpid_random\", \"emp_in\",\"urbanicity_f2f\", \n",
    "                       \"economycode\"]).copy()"
   ]
  },
  {
   "cell_type": "code",
   "execution_count": 67,
   "id": "44995b33",
   "metadata": {},
   "outputs": [],
   "source": [
    "df1= df1.drop(columns=[\"pop_adult\", \"regionwb\", \"wpid_random\", \"emp_in\",\"urbanicity_f2f\", \n",
    "                       \"economycode\"])"
   ]
  },
  {
   "cell_type": "code",
   "execution_count": 68,
   "id": "0e4c3bb0",
   "metadata": {},
   "outputs": [],
   "source": [
    "df1.to_csv('../Datasets/2021_clean.csv', index=False)"
   ]
  },
  {
   "cell_type": "code",
   "execution_count": 69,
   "id": "66c13895",
   "metadata": {},
   "outputs": [],
   "source": [
    "df1a= df1[[\"economy\", \"wgt\", \"female\", \"age\", \"educ\", \"inc_q\", \"account_fin\", \"account_mob\", \n",
    "           \"fin2\", \"fin7\", \"fin1_1a\", \"fin1_1b\", \"mobileowner\", \"internetaccess\", \n",
    "           \"fin34a\"]].copy()\n",
    "df1u= df1[[\"economy\", \"wgt\", \"female\", \"age\", \"educ\", \"inc_q\", \"fin4\", \"fin5\", \"fin8\", \n",
    "           \"fin9\", \"fin10\", \"fin10b\", \"fin14_1\", \"fin1_1a\", \"fin1_1b\", \"fin14a\", \n",
    "           \"fin14a1\", \"fin14b\", \"fin16\", \"fin17a\", \"fin17b\", \"fin22a\", \"fin22b\", \"fin26\", \n",
    "           \"fin28\", \"fin30\", \"fin31a\", \"fin31b\", \"fin32\", \"fin37\", \"fin38\", \"saved\", \n",
    "           \"borrowed\", \"anydigpayment\", \"merchantpay_dig\", \"fin34a\"]].copy()\n",
    "df1d= df1[[\"economy\", \"female\", \"age\", \"educ\", \"inc_q\", \"fin34a\"]].copy()"
   ]
  },
  {
   "cell_type": "code",
   "execution_count": 70,
   "id": "6d12317c",
   "metadata": {},
   "outputs": [],
   "source": [
    "df2a= df2[[\"regionwb\", \"wgt\", \"female\", \"age\", \"educ\", \"inc_q\", \"account_fin\", \"account_mob\", \n",
    "           \"fin2\", \"fin7\", \"fin1_1a\", \"fin1_1b\", \"mobileowner\", \"internetaccess\", \n",
    "           \"fin34a\"]].copy()\n",
    "df2u= df2[[\"regionwb\", \"wgt\", \"female\", \"age\", \"educ\", \"inc_q\", \"fin4\", \"fin5\", \"fin8\", \n",
    "           \"fin9\", \"fin10\", \"fin10b\", \"fin14_1\", \"fin1_1a\", \"fin1_1b\", \"fin14a\", \n",
    "           \"fin14a1\", \"fin14b\", \"fin16\", \"fin17a\", \"fin17b\", \"fin22a\", \"fin22b\", \"fin26\", \n",
    "           \"fin28\", \"fin30\", \"fin31a\", \"fin31b\", \"fin32\", \"fin37\", \"fin38\", \"saved\", \n",
    "           \"borrowed\", \"anydigpayment\", \"merchantpay_dig\", \"fin34a\"]].copy()\n",
    "df2d= df2[[\"regionwb\", \"female\", \"age\", \"educ\", \"inc_q\", \"fin34a\"]].copy()"
   ]
  },
  {
   "cell_type": "code",
   "execution_count": 71,
   "id": "82de8625",
   "metadata": {},
   "outputs": [],
   "source": [
    "df1a.to_csv('../Datasets/2021_access.csv', index=False)\n",
    "df1u.to_csv('../Datasets/2021_usage.csv', index=False)"
   ]
  },
  {
   "cell_type": "code",
   "execution_count": 72,
   "id": "fbb2b7d0",
   "metadata": {},
   "outputs": [],
   "source": [
    "countries= [\"Cameroon\", \"India\", \"Algeria\", \"Canada\", \"Brazil\", \"Japan\", \"South Africa\", \n",
    "            \"Kenya\", \"Norway\"]\n",
    "for ctry in countries:\n",
    "    ctry1a= df1a[df1a[\"economy\"]==ctry]\n",
    "    ctry1a= ctry1a[ctry1a.columns[1:]]\n",
    "    ctry1u= df1u[df1u[\"economy\"]==ctry]\n",
    "    ctry1u= ctry1u[ctry1u.columns[1:]]\n",
    "    ctry1d= df1d[df1d[\"economy\"]==ctry]\n",
    "    ctry1a.to_csv(\"../Datasets/\"+ctry+\"_2021_access.csv\", index=False)\n",
    "    ctry1u.to_csv(\"../Datasets/\"+ctry+\"_2021_usage.csv\", index=False)\n",
    "    ctry1d.to_csv(\"../Datasets/\"+ctry+\"_2021_desc.csv\", index=False)"
   ]
  },
  {
   "cell_type": "code",
   "execution_count": 83,
   "id": "cff9fd9b",
   "metadata": {},
   "outputs": [],
   "source": [
    "countries= list(df2a[\"regionwb\"].unique())[:-1]\n",
    "al= [\"sa\", \"eca\", \"mena\", \"lac\", \"hi\", \"ssa\", \"eap\"]\n",
    "for i,ctry in enumerate(countries):\n",
    "    ctry1a= df2a[df2a[\"regionwb\"]==ctry]\n",
    "    ctry1a= ctry1a[ctry1a.columns[1:]]\n",
    "    ctry1u= df2u[df2u[\"regionwb\"]==ctry]\n",
    "    ctry1u= ctry1u[ctry1u.columns[1:]]\n",
    "    ctry1d= df2d[df2d[\"regionwb\"]==ctry]\n",
    "    ctry1a.to_csv(\"../Datasets/\"+al[i]+\"_2021_access.csv\", index=False)\n",
    "    ctry1u.to_csv(\"../Datasets/\"+al[i]+\"_2021_usage.csv\", index=False)\n",
    "    ctry1d.to_csv(\"../Datasets/\"+al[i]+\"_2021_desc.csv\", index=False)"
   ]
  },
  {
   "cell_type": "code",
   "execution_count": 84,
   "id": "6d04999d",
   "metadata": {},
   "outputs": [
    {
     "data": {
      "text/plain": [
       "['South Asia',\n",
       " 'Europe & Central Asia (excluding high income)',\n",
       " 'Middle East & North Africa (excluding high income)',\n",
       " 'Latin America & Caribbean (excluding high income)',\n",
       " 'High income',\n",
       " 'Sub-Saharan Africa (excluding high income)',\n",
       " 'East Asia & Pacific (excluding high income)']"
      ]
     },
     "execution_count": 84,
     "metadata": {},
     "output_type": "execute_result"
    }
   ],
   "source": [
    "countries"
   ]
  },
  {
   "cell_type": "code",
   "execution_count": 87,
   "id": "c9650c33",
   "metadata": {},
   "outputs": [
    {
     "name": "stderr",
     "output_type": "stream",
     "text": [
      "[INFO] Starting Chromium download.\n",
      "\n",
      "  0%|          | 0.00/137M [00:00<?, ?b/s]\n",
      "  0%|          | 51.2k/137M [00:00<11:51, 192kb/s]\n",
      "  0%|          | 81.9k/137M [00:00<14:10, 161kb/s]\n",
      "  0%|          | 133k/137M [00:00<09:11, 248kb/s] \n",
      "  0%|          | 184k/137M [00:00<07:26, 306kb/s]\n",
      "  0%|          | 246k/137M [00:00<06:17, 362kb/s]\n",
      "  0%|          | 369k/137M [00:00<03:58, 573kb/s]\n",
      "  0%|          | 512k/137M [00:01<02:55, 779kb/s]\n",
      "  1%|          | 707k/137M [00:01<02:06, 1.08Mb/s]\n",
      "  1%|          | 1.01M/137M [00:01<01:23, 1.63Mb/s]\n",
      "  1%|1         | 1.41M/137M [00:01<00:59, 2.30Mb/s]\n",
      "  1%|1         | 1.94M/137M [00:01<00:44, 3.05Mb/s]\n",
      "  2%|2         | 2.99M/137M [00:01<00:26, 5.03Mb/s]\n",
      "  3%|2         | 4.06M/137M [00:01<00:20, 6.50Mb/s]\n",
      "  3%|3         | 4.72M/137M [00:01<00:22, 5.83Mb/s]\n",
      "  4%|4         | 6.13M/137M [00:01<00:16, 7.94Mb/s]\n",
      "  5%|5         | 6.96M/137M [00:02<00:16, 7.80Mb/s]\n",
      "  6%|5         | 7.77M/137M [00:02<00:17, 7.54Mb/s]\n",
      "  6%|6         | 8.55M/137M [00:02<00:18, 7.06Mb/s]\n",
      "  7%|6         | 9.28M/137M [00:02<00:18, 6.87Mb/s]\n",
      "  7%|7         | 9.98M/137M [00:02<00:18, 6.75Mb/s]\n",
      "  8%|7         | 10.7M/137M [00:02<00:18, 6.65Mb/s]\n",
      "  8%|8         | 11.4M/137M [00:02<00:20, 6.22Mb/s]\n",
      "  9%|8         | 12.0M/137M [00:02<00:20, 6.14Mb/s]\n",
      "  9%|9         | 12.7M/137M [00:02<00:19, 6.23Mb/s]\n",
      " 10%|9         | 13.3M/137M [00:03<00:19, 6.32Mb/s]\n",
      " 10%|#         | 14.0M/137M [00:03<00:19, 6.32Mb/s]\n",
      " 11%|#         | 14.6M/137M [00:03<00:19, 6.32Mb/s]\n",
      " 11%|#1        | 15.3M/137M [00:03<00:19, 6.36Mb/s]\n",
      " 12%|#1        | 15.9M/137M [00:03<00:19, 6.36Mb/s]\n",
      " 12%|#2        | 16.7M/137M [00:03<00:18, 6.67Mb/s]\n",
      " 13%|#2        | 17.6M/137M [00:03<00:16, 7.33Mb/s]\n",
      " 13%|#3        | 18.3M/137M [00:03<00:16, 7.39Mb/s]\n",
      " 14%|#4        | 19.2M/137M [00:03<00:15, 7.82Mb/s]\n",
      " 15%|#4        | 20.1M/137M [00:03<00:14, 7.99Mb/s]\n",
      " 15%|#5        | 21.1M/137M [00:04<00:13, 8.41Mb/s]\n",
      " 16%|#6        | 22.0M/137M [00:04<00:14, 7.86Mb/s]\n",
      " 17%|#6        | 22.8M/137M [00:04<00:14, 7.78Mb/s]\n",
      " 17%|#7        | 23.6M/137M [00:04<00:14, 7.67Mb/s]\n",
      " 18%|#7        | 24.3M/137M [00:04<00:15, 7.43Mb/s]\n",
      " 18%|#8        | 25.2M/137M [00:04<00:14, 7.51Mb/s]\n",
      " 19%|#8        | 26.0M/137M [00:04<00:15, 7.18Mb/s]\n",
      " 19%|#9        | 26.7M/137M [00:04<00:15, 7.17Mb/s]\n",
      " 20%|##        | 27.4M/137M [00:04<00:15, 6.92Mb/s]\n",
      " 21%|##        | 28.1M/137M [00:05<00:15, 6.91Mb/s]\n",
      " 21%|##1       | 28.9M/137M [00:05<00:15, 7.10Mb/s]\n",
      " 22%|##1       | 29.7M/137M [00:05<00:14, 7.17Mb/s]\n",
      " 22%|##2       | 30.4M/137M [00:05<00:14, 7.21Mb/s]\n",
      " 23%|##2       | 31.2M/137M [00:05<00:14, 7.18Mb/s]\n",
      " 23%|##3       | 32.0M/137M [00:05<00:14, 7.24Mb/s]\n",
      " 24%|##3       | 32.8M/137M [00:05<00:14, 7.42Mb/s]\n",
      " 24%|##4       | 33.5M/137M [00:05<00:13, 7.46Mb/s]\n",
      " 25%|##5       | 34.3M/137M [00:05<00:14, 7.12Mb/s]\n",
      " 26%|##5       | 35.0M/137M [00:06<00:18, 5.48Mb/s]\n",
      " 26%|##6       | 36.0M/137M [00:06<00:15, 6.60Mb/s]\n",
      " 27%|##6       | 36.8M/137M [00:06<00:14, 6.94Mb/s]\n",
      " 28%|##7       | 37.9M/137M [00:06<00:12, 7.95Mb/s]\n",
      " 28%|##8       | 38.7M/137M [00:06<00:13, 7.30Mb/s]\n",
      " 29%|##9       | 39.8M/137M [00:06<00:12, 8.06Mb/s]\n",
      " 30%|##9       | 40.6M/137M [00:06<00:12, 7.79Mb/s]\n",
      " 30%|###       | 41.4M/137M [00:06<00:12, 7.59Mb/s]\n",
      " 31%|###       | 42.3M/137M [00:07<00:12, 7.45Mb/s]\n",
      " 31%|###1      | 43.0M/137M [00:07<00:21, 4.27Mb/s]\n",
      " 32%|###1      | 43.6M/137M [00:07<00:20, 4.52Mb/s]\n",
      " 32%|###2      | 44.4M/137M [00:07<00:18, 5.08Mb/s]\n",
      " 33%|###3      | 45.2M/137M [00:07<00:16, 5.64Mb/s]\n",
      " 34%|###3      | 46.0M/137M [00:07<00:15, 6.01Mb/s]\n",
      " 34%|###4      | 46.8M/137M [00:07<00:14, 6.32Mb/s]\n",
      " 35%|###4      | 47.5M/137M [00:08<00:13, 6.54Mb/s]\n",
      " 35%|###5      | 48.3M/137M [00:08<00:13, 6.68Mb/s]\n",
      " 36%|###5      | 49.2M/137M [00:08<00:11, 7.43Mb/s]\n",
      " 37%|###6      | 50.3M/137M [00:08<00:10, 8.37Mb/s]\n",
      " 37%|###7      | 51.2M/137M [00:08<00:10, 8.46Mb/s]\n",
      " 38%|###8      | 52.1M/137M [00:08<00:10, 8.33Mb/s]\n",
      " 39%|###8      | 53.0M/137M [00:08<00:10, 8.31Mb/s]\n",
      " 39%|###9      | 53.9M/137M [00:08<00:12, 6.91Mb/s]\n",
      " 40%|###9      | 54.6M/137M [00:08<00:11, 7.00Mb/s]\n",
      " 40%|####      | 55.3M/137M [00:09<00:11, 6.94Mb/s]\n",
      " 41%|####      | 56.1M/137M [00:09<00:11, 7.00Mb/s]\n",
      " 41%|####1     | 56.8M/137M [00:09<00:11, 6.97Mb/s]\n",
      " 42%|####1     | 57.5M/137M [00:09<00:11, 7.02Mb/s]\n",
      " 43%|####2     | 58.2M/137M [00:09<00:11, 7.08Mb/s]\n",
      " 43%|####3     | 58.9M/137M [00:09<00:10, 7.10Mb/s]\n",
      " 44%|####3     | 59.7M/137M [00:09<00:10, 7.15Mb/s]\n",
      " 44%|####4     | 60.4M/137M [00:09<00:10, 7.14Mb/s]\n",
      " 45%|####4     | 61.1M/137M [00:09<00:10, 7.06Mb/s]\n",
      " 45%|####5     | 61.8M/137M [00:09<00:10, 7.07Mb/s]\n",
      " 46%|####5     | 62.5M/137M [00:10<00:11, 6.74Mb/s]\n",
      " 46%|####6     | 63.6M/137M [00:10<00:09, 7.81Mb/s]\n",
      " 47%|####7     | 64.5M/137M [00:10<00:08, 8.21Mb/s]\n",
      " 48%|####7     | 65.3M/137M [00:10<00:09, 7.31Mb/s]\n",
      " 48%|####8     | 66.4M/137M [00:10<00:08, 8.14Mb/s]\n",
      " 49%|####9     | 67.2M/137M [00:10<00:08, 8.04Mb/s]\n",
      " 50%|####9     | 68.1M/137M [00:10<00:09, 7.62Mb/s]\n",
      " 50%|#####     | 68.9M/137M [00:10<00:09, 7.46Mb/s]\n",
      " 51%|#####     | 69.6M/137M [00:11<00:09, 7.30Mb/s]\n",
      " 51%|#####1    | 70.3M/137M [00:11<00:09, 6.85Mb/s]\n",
      " 52%|#####1    | 71.1M/137M [00:11<00:09, 6.93Mb/s]\n",
      " 53%|#####2    | 71.9M/137M [00:11<00:09, 7.21Mb/s]\n",
      " 53%|#####3    | 72.7M/137M [00:11<00:08, 7.60Mb/s]\n",
      " 54%|#####3    | 73.5M/137M [00:11<00:08, 7.38Mb/s]\n",
      " 54%|#####4    | 74.3M/137M [00:11<00:08, 7.19Mb/s]\n",
      " 55%|#####4    | 75.0M/137M [00:12<00:16, 3.86Mb/s]\n",
      " 55%|#####5    | 75.6M/137M [00:12<00:18, 3.28Mb/s]\n",
      " 56%|#####5    | 76.6M/137M [00:12<00:13, 4.33Mb/s]\n",
      " 56%|#####6    | 77.2M/137M [00:12<00:15, 3.93Mb/s]\n",
      " 57%|#####6    | 77.7M/137M [00:12<00:14, 4.11Mb/s]\n",
      " 57%|#####7    | 78.7M/137M [00:12<00:11, 5.28Mb/s]\n",
      " 58%|#####7    | 79.3M/137M [00:12<00:11, 5.21Mb/s]\n",
      " 59%|#####8    | 80.5M/137M [00:13<00:08, 6.69Mb/s]\n",
      " 60%|#####9    | 81.6M/137M [00:13<00:07, 7.63Mb/s]\n",
      " 60%|######    | 82.5M/137M [00:13<00:07, 7.46Mb/s]\n",
      " 61%|######    | 83.3M/137M [00:13<00:06, 7.67Mb/s]\n",
      " 61%|######1   | 84.1M/137M [00:13<00:07, 7.40Mb/s]\n",
      " 62%|######1   | 84.9M/137M [00:13<00:07, 6.93Mb/s]\n",
      " 63%|######2   | 85.6M/137M [00:13<00:07, 6.88Mb/s]\n",
      " 63%|######3   | 86.3M/137M [00:13<00:07, 6.94Mb/s]\n",
      " 64%|######3   | 87.1M/137M [00:13<00:07, 6.93Mb/s]\n",
      " 64%|######4   | 87.8M/137M [00:14<00:07, 6.99Mb/s]\n",
      " 65%|######4   | 88.5M/137M [00:14<00:07, 6.87Mb/s]\n",
      " 65%|######5   | 89.2M/137M [00:14<00:07, 6.30Mb/s]\n",
      " 66%|######5   | 90.2M/137M [00:14<00:06, 7.39Mb/s]\n",
      " 67%|######6   | 91.1M/137M [00:14<00:05, 7.91Mb/s]\n",
      " 67%|######7   | 92.0M/137M [00:14<00:05, 7.58Mb/s]\n",
      " 68%|######7   | 92.8M/137M [00:14<00:05, 7.53Mb/s]\n",
      " 68%|######8   | 93.7M/137M [00:14<00:05, 8.00Mb/s]\n",
      " 69%|######9   | 94.5M/137M [00:14<00:05, 7.68Mb/s]\n",
      " 70%|######9   | 95.3M/137M [00:15<00:05, 7.54Mb/s]\n",
      " 70%|#######   | 96.1M/137M [00:15<00:05, 7.45Mb/s]\n",
      " 71%|#######   | 96.8M/137M [00:15<00:05, 6.93Mb/s]\n",
      " 71%|#######1  | 97.6M/137M [00:15<00:05, 6.85Mb/s]\n",
      " 72%|#######1  | 98.3M/137M [00:15<00:05, 6.86Mb/s]\n",
      " 72%|#######2  | 99.0M/137M [00:15<00:05, 6.98Mb/s]\n",
      " 73%|#######2  | 99.7M/137M [00:15<00:06, 5.91Mb/s]\n",
      " 73%|#######3  | 100M/137M [00:15<00:07, 5.11Mb/s] \n",
      " 74%|#######3  | 101M/137M [00:16<00:06, 5.51Mb/s]\n",
      " 74%|#######4  | 102M/137M [00:16<00:06, 5.57Mb/s]\n",
      " 75%|#######4  | 102M/137M [00:16<00:06, 5.62Mb/s]\n",
      " 75%|#######5  | 103M/137M [00:16<00:05, 5.95Mb/s]\n",
      " 76%|#######5  | 104M/137M [00:16<00:05, 5.92Mb/s]\n",
      " 76%|#######6  | 104M/137M [00:16<00:05, 5.80Mb/s]\n",
      " 77%|#######6  | 105M/137M [00:16<00:05, 6.15Mb/s]\n",
      " 77%|#######7  | 106M/137M [00:16<00:04, 7.03Mb/s]\n",
      " 78%|#######8  | 107M/137M [00:16<00:03, 8.04Mb/s]\n",
      " 79%|#######8  | 108M/137M [00:17<00:03, 7.84Mb/s]\n",
      " 80%|#######9  | 109M/137M [00:17<00:03, 8.66Mb/s]\n",
      " 80%|########  | 110M/137M [00:17<00:03, 7.81Mb/s]\n",
      " 81%|########  | 111M/137M [00:17<00:03, 7.64Mb/s]\n",
      " 81%|########1 | 111M/137M [00:17<00:03, 7.57Mb/s]\n",
      " 82%|########1 | 112M/137M [00:17<00:03, 7.45Mb/s]\n",
      " 83%|########2 | 113M/137M [00:17<00:03, 6.91Mb/s]\n",
      " 83%|########3 | 114M/137M [00:17<00:03, 7.47Mb/s]\n",
      " 84%|########3 | 115M/137M [00:17<00:03, 6.93Mb/s]\n",
      " 84%|########4 | 115M/137M [00:18<00:03, 6.70Mb/s]\n",
      " 85%|########4 | 116M/137M [00:18<00:03, 6.69Mb/s]\n",
      " 85%|########5 | 117M/137M [00:18<00:02, 6.90Mb/s]\n",
      " 86%|########5 | 118M/137M [00:18<00:02, 6.80Mb/s]\n",
      " 86%|########6 | 118M/137M [00:18<00:02, 6.30Mb/s]\n"
     ]
    },
    {
     "name": "stderr",
     "output_type": "stream",
     "text": [
      " 87%|########6 | 119M/137M [00:18<00:02, 6.29Mb/s]\n",
      " 87%|########7 | 120M/137M [00:18<00:02, 6.50Mb/s]\n",
      " 88%|########7 | 120M/137M [00:18<00:02, 6.83Mb/s]\n",
      " 89%|########8 | 121M/137M [00:18<00:02, 7.09Mb/s]\n",
      " 89%|########9 | 122M/137M [00:19<00:01, 7.47Mb/s]\n",
      " 90%|########9 | 123M/137M [00:19<00:01, 7.59Mb/s]\n",
      " 90%|######### | 124M/137M [00:19<00:01, 7.17Mb/s]\n",
      " 91%|#########1| 125M/137M [00:19<00:01, 6.95Mb/s]\n",
      " 92%|#########1| 125M/137M [00:19<00:01, 6.94Mb/s]\n",
      " 92%|#########2| 126M/137M [00:19<00:01, 7.01Mb/s]\n",
      " 93%|#########2| 127M/137M [00:19<00:01, 6.33Mb/s]\n",
      " 93%|#########3| 128M/137M [00:19<00:01, 6.99Mb/s]\n",
      " 94%|#########3| 128M/137M [00:19<00:01, 7.03Mb/s]\n",
      " 94%|#########4| 129M/137M [00:20<00:01, 6.96Mb/s]\n",
      " 95%|#########4| 130M/137M [00:20<00:01, 6.99Mb/s]\n",
      " 95%|#########5| 131M/137M [00:20<00:00, 7.00Mb/s]\n",
      " 96%|#########5| 131M/137M [00:20<00:00, 7.09Mb/s]\n",
      " 96%|#########6| 132M/137M [00:20<00:00, 7.09Mb/s]\n",
      " 97%|#########7| 133M/137M [00:20<00:00, 7.14Mb/s]\n",
      " 98%|#########7| 134M/137M [00:20<00:00, 7.05Mb/s]\n",
      " 98%|#########8| 134M/137M [00:20<00:00, 5.47Mb/s]\n",
      " 99%|#########8| 135M/137M [00:21<00:00, 4.83Mb/s]\n",
      " 99%|#########9| 136M/137M [00:21<00:00, 5.63Mb/s]\n",
      "100%|#########9| 137M/137M [00:21<00:00, 6.66Mb/s]\n",
      "100%|##########| 137M/137M [00:21<00:00, 6.44Mb/s]\n",
      "[INFO] Beginning extraction\n",
      "[INFO] Chromium extracted to: C:\\Users\\ASUS\\AppData\\Local\\pyppeteer\\pyppeteer\\local-chromium\\588429\n"
     ]
    }
   ],
   "source": [
    "!pyppeteer-install"
   ]
  },
  {
   "cell_type": "code",
   "execution_count": null,
   "id": "c46a7130",
   "metadata": {},
   "outputs": [],
   "source": []
  }
 ],
 "metadata": {
  "kernelspec": {
   "display_name": "Python 3 (ipykernel)",
   "language": "python",
   "name": "python3"
  },
  "language_info": {
   "codemirror_mode": {
    "name": "ipython",
    "version": 3
   },
   "file_extension": ".py",
   "mimetype": "text/x-python",
   "name": "python",
   "nbconvert_exporter": "python",
   "pygments_lexer": "ipython3",
   "version": "3.9.13"
  }
 },
 "nbformat": 4,
 "nbformat_minor": 5
}
