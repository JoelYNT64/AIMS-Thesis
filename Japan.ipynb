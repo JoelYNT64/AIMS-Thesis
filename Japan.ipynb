{
 "cells": [
  {
   "cell_type": "code",
   "execution_count": 1,
   "id": "627bf089",
   "metadata": {},
   "outputs": [],
   "source": [
    "import pandas as pd\n",
    "import matplotlib.pyplot as plt\n",
    "import numpy as np\n",
    "import prince\n",
    "from sklearn.preprocessing import OneHotEncoder\n",
    "from sklearn.model_selection import train_test_split, GridSearchCV, StratifiedKFold\n",
    "from sklearn.linear_model import LogisticRegression\n",
    "from sklearn.metrics import precision_score, recall_score, accuracy_score, log_loss, roc_curve, f1_score, roc_auc_score, classification_report, confusion_matrix\n",
    "from sklearn.ensemble import RandomForestClassifier\n",
    "from sklearn import svm\n",
    "import seaborn as sns\n",
    "from itertools import product\n",
    "from imblearn.over_sampling import SMOTE\n",
    "from sklearn.model_selection import cross_validate\n",
    "from sklearn.model_selection import RepeatedStratifiedKFold\n",
    "from statistics import mean\n",
    "import tensorflow as tf\n",
    "import shap\n",
    "%matplotlib inline\n",
    "from xgboost import XGBClassifier"
   ]
  },
  {
   "cell_type": "code",
   "execution_count": 2,
   "id": "3c57a228",
   "metadata": {},
   "outputs": [],
   "source": [
    "plt.style.use(\"seaborn\")"
   ]
  },
  {
   "cell_type": "markdown",
   "id": "c8b239d8",
   "metadata": {},
   "source": [
    "## Import the data"
   ]
  },
  {
   "cell_type": "code",
   "execution_count": 3,
   "id": "2f335dfe",
   "metadata": {},
   "outputs": [],
   "source": [
    "IND_a= pd.read_csv(\"../Datasets/Japan_2021_access.csv\")\n",
    "IND_u= pd.read_csv('../Datasets/Japan_2021_usage.csv')\n",
    "y= IND_a['fin34a'].copy()\n",
    "w= IND_a['wgt'].copy()\n",
    "IND_a= IND_a.drop(columns=['wgt','fin34a'])\n",
    "IND_u= IND_u.drop(columns=['wgt','fin34a'])"
   ]
  },
  {
   "cell_type": "code",
   "execution_count": 4,
   "id": "5f62070e",
   "metadata": {},
   "outputs": [
    {
     "data": {
      "text/plain": [
       "1    546\n",
       "0    464\n",
       "Name: fin34a, dtype: int64"
      ]
     },
     "execution_count": 4,
     "metadata": {},
     "output_type": "execute_result"
    }
   ],
   "source": [
    "y.value_counts()"
   ]
  },
  {
   "cell_type": "code",
   "execution_count": 5,
   "id": "03c49d95",
   "metadata": {},
   "outputs": [
    {
     "data": {
      "text/html": [
       "<div>\n",
       "<style scoped>\n",
       "    .dataframe tbody tr th:only-of-type {\n",
       "        vertical-align: middle;\n",
       "    }\n",
       "\n",
       "    .dataframe tbody tr th {\n",
       "        vertical-align: top;\n",
       "    }\n",
       "\n",
       "    .dataframe thead th {\n",
       "        text-align: right;\n",
       "    }\n",
       "</style>\n",
       "<table border=\"1\" class=\"dataframe\">\n",
       "  <thead>\n",
       "    <tr style=\"text-align: right;\">\n",
       "      <th></th>\n",
       "      <th>female</th>\n",
       "      <th>age</th>\n",
       "      <th>educ</th>\n",
       "      <th>inc_q</th>\n",
       "    </tr>\n",
       "  </thead>\n",
       "  <tbody>\n",
       "    <tr>\n",
       "      <th>0</th>\n",
       "      <td>1</td>\n",
       "      <td>5.0</td>\n",
       "      <td>2</td>\n",
       "      <td>2</td>\n",
       "    </tr>\n",
       "    <tr>\n",
       "      <th>1</th>\n",
       "      <td>2</td>\n",
       "      <td>6.0</td>\n",
       "      <td>2</td>\n",
       "      <td>3</td>\n",
       "    </tr>\n",
       "    <tr>\n",
       "      <th>2</th>\n",
       "      <td>2</td>\n",
       "      <td>4.0</td>\n",
       "      <td>2</td>\n",
       "      <td>1</td>\n",
       "    </tr>\n",
       "    <tr>\n",
       "      <th>3</th>\n",
       "      <td>2</td>\n",
       "      <td>5.0</td>\n",
       "      <td>2</td>\n",
       "      <td>5</td>\n",
       "    </tr>\n",
       "    <tr>\n",
       "      <th>4</th>\n",
       "      <td>2</td>\n",
       "      <td>3.0</td>\n",
       "      <td>2</td>\n",
       "      <td>5</td>\n",
       "    </tr>\n",
       "    <tr>\n",
       "      <th>...</th>\n",
       "      <td>...</td>\n",
       "      <td>...</td>\n",
       "      <td>...</td>\n",
       "      <td>...</td>\n",
       "    </tr>\n",
       "    <tr>\n",
       "      <th>1005</th>\n",
       "      <td>2</td>\n",
       "      <td>2.0</td>\n",
       "      <td>2</td>\n",
       "      <td>3</td>\n",
       "    </tr>\n",
       "    <tr>\n",
       "      <th>1006</th>\n",
       "      <td>2</td>\n",
       "      <td>2.0</td>\n",
       "      <td>3</td>\n",
       "      <td>5</td>\n",
       "    </tr>\n",
       "    <tr>\n",
       "      <th>1007</th>\n",
       "      <td>2</td>\n",
       "      <td>4.0</td>\n",
       "      <td>1</td>\n",
       "      <td>4</td>\n",
       "    </tr>\n",
       "    <tr>\n",
       "      <th>1008</th>\n",
       "      <td>2</td>\n",
       "      <td>5.0</td>\n",
       "      <td>2</td>\n",
       "      <td>4</td>\n",
       "    </tr>\n",
       "    <tr>\n",
       "      <th>1009</th>\n",
       "      <td>1</td>\n",
       "      <td>6.0</td>\n",
       "      <td>3</td>\n",
       "      <td>1</td>\n",
       "    </tr>\n",
       "  </tbody>\n",
       "</table>\n",
       "<p>1010 rows × 4 columns</p>\n",
       "</div>"
      ],
      "text/plain": [
       "      female  age  educ  inc_q\n",
       "0          1  5.0     2      2\n",
       "1          2  6.0     2      3\n",
       "2          2  4.0     2      1\n",
       "3          2  5.0     2      5\n",
       "4          2  3.0     2      5\n",
       "...      ...  ...   ...    ...\n",
       "1005       2  2.0     2      3\n",
       "1006       2  2.0     3      5\n",
       "1007       2  4.0     1      4\n",
       "1008       2  5.0     2      4\n",
       "1009       1  6.0     3      1\n",
       "\n",
       "[1010 rows x 4 columns]"
      ]
     },
     "execution_count": 5,
     "metadata": {},
     "output_type": "execute_result"
    }
   ],
   "source": [
    "sup= IND_a[IND_a.columns[:4]]\n",
    "sup"
   ]
  },
  {
   "cell_type": "code",
   "execution_count": 6,
   "id": "57d70b4d",
   "metadata": {},
   "outputs": [
    {
     "data": {
      "text/html": [
       "<div>\n",
       "<style scoped>\n",
       "    .dataframe tbody tr th:only-of-type {\n",
       "        vertical-align: middle;\n",
       "    }\n",
       "\n",
       "    .dataframe tbody tr th {\n",
       "        vertical-align: top;\n",
       "    }\n",
       "\n",
       "    .dataframe thead th {\n",
       "        text-align: right;\n",
       "    }\n",
       "</style>\n",
       "<table border=\"1\" class=\"dataframe\">\n",
       "  <thead>\n",
       "    <tr style=\"text-align: right;\">\n",
       "      <th>inc_q</th>\n",
       "      <th>1</th>\n",
       "      <th>2</th>\n",
       "      <th>3</th>\n",
       "      <th>4</th>\n",
       "      <th>5</th>\n",
       "    </tr>\n",
       "    <tr>\n",
       "      <th>educ</th>\n",
       "      <th></th>\n",
       "      <th></th>\n",
       "      <th></th>\n",
       "      <th></th>\n",
       "      <th></th>\n",
       "    </tr>\n",
       "  </thead>\n",
       "  <tbody>\n",
       "    <tr>\n",
       "      <th>1</th>\n",
       "      <td>38</td>\n",
       "      <td>21</td>\n",
       "      <td>17</td>\n",
       "      <td>15</td>\n",
       "      <td>15</td>\n",
       "    </tr>\n",
       "    <tr>\n",
       "      <th>2</th>\n",
       "      <td>107</td>\n",
       "      <td>123</td>\n",
       "      <td>123</td>\n",
       "      <td>130</td>\n",
       "      <td>116</td>\n",
       "    </tr>\n",
       "    <tr>\n",
       "      <th>3</th>\n",
       "      <td>37</td>\n",
       "      <td>44</td>\n",
       "      <td>62</td>\n",
       "      <td>70</td>\n",
       "      <td>92</td>\n",
       "    </tr>\n",
       "  </tbody>\n",
       "</table>\n",
       "</div>"
      ],
      "text/plain": [
       "inc_q    1    2    3    4    5\n",
       "educ                          \n",
       "1       38   21   17   15   15\n",
       "2      107  123  123  130  116\n",
       "3       37   44   62   70   92"
      ]
     },
     "execution_count": 6,
     "metadata": {},
     "output_type": "execute_result"
    }
   ],
   "source": [
    "contingency_table = pd.crosstab(IND_a['educ'], IND_a['inc_q'])\n",
    "contingency_table"
   ]
  },
  {
   "cell_type": "code",
   "execution_count": 7,
   "id": "7fbb0010",
   "metadata": {},
   "outputs": [],
   "source": [
    "IND_a= IND_a.drop(columns= IND_a.columns[:4])\n",
    "IND_u= IND_u.drop(columns= IND_u.columns[:4])"
   ]
  },
  {
   "cell_type": "code",
   "execution_count": 8,
   "id": "f506b970",
   "metadata": {},
   "outputs": [
    {
     "data": {
      "text/html": [
       "<div>\n",
       "<style scoped>\n",
       "    .dataframe tbody tr th:only-of-type {\n",
       "        vertical-align: middle;\n",
       "    }\n",
       "\n",
       "    .dataframe tbody tr th {\n",
       "        vertical-align: top;\n",
       "    }\n",
       "\n",
       "    .dataframe thead th {\n",
       "        text-align: right;\n",
       "    }\n",
       "</style>\n",
       "<table border=\"1\" class=\"dataframe\">\n",
       "  <thead>\n",
       "    <tr style=\"text-align: right;\">\n",
       "      <th></th>\n",
       "      <th>account_fin</th>\n",
       "      <th>fin2</th>\n",
       "      <th>fin7</th>\n",
       "      <th>mobileowner</th>\n",
       "      <th>internetaccess</th>\n",
       "    </tr>\n",
       "  </thead>\n",
       "  <tbody>\n",
       "    <tr>\n",
       "      <th>0</th>\n",
       "      <td>Yes</td>\n",
       "      <td>Yes</td>\n",
       "      <td>Yes</td>\n",
       "      <td>No</td>\n",
       "      <td>No</td>\n",
       "    </tr>\n",
       "    <tr>\n",
       "      <th>1</th>\n",
       "      <td>Yes</td>\n",
       "      <td>Yes</td>\n",
       "      <td>Yes</td>\n",
       "      <td>Yes</td>\n",
       "      <td>Yes</td>\n",
       "    </tr>\n",
       "    <tr>\n",
       "      <th>2</th>\n",
       "      <td>Yes</td>\n",
       "      <td>Yes</td>\n",
       "      <td>No</td>\n",
       "      <td>Yes</td>\n",
       "      <td>Yes</td>\n",
       "    </tr>\n",
       "    <tr>\n",
       "      <th>3</th>\n",
       "      <td>Yes</td>\n",
       "      <td>Yes</td>\n",
       "      <td>Yes</td>\n",
       "      <td>Yes</td>\n",
       "      <td>Yes</td>\n",
       "    </tr>\n",
       "    <tr>\n",
       "      <th>4</th>\n",
       "      <td>Yes</td>\n",
       "      <td>Yes</td>\n",
       "      <td>Yes</td>\n",
       "      <td>Yes</td>\n",
       "      <td>Yes</td>\n",
       "    </tr>\n",
       "    <tr>\n",
       "      <th>...</th>\n",
       "      <td>...</td>\n",
       "      <td>...</td>\n",
       "      <td>...</td>\n",
       "      <td>...</td>\n",
       "      <td>...</td>\n",
       "    </tr>\n",
       "    <tr>\n",
       "      <th>1005</th>\n",
       "      <td>Yes</td>\n",
       "      <td>Yes</td>\n",
       "      <td>Yes</td>\n",
       "      <td>Yes</td>\n",
       "      <td>Yes</td>\n",
       "    </tr>\n",
       "    <tr>\n",
       "      <th>1006</th>\n",
       "      <td>Yes</td>\n",
       "      <td>Yes</td>\n",
       "      <td>Yes</td>\n",
       "      <td>Yes</td>\n",
       "      <td>Yes</td>\n",
       "    </tr>\n",
       "    <tr>\n",
       "      <th>1007</th>\n",
       "      <td>Yes</td>\n",
       "      <td>Yes</td>\n",
       "      <td>Yes</td>\n",
       "      <td>Yes</td>\n",
       "      <td>Yes</td>\n",
       "    </tr>\n",
       "    <tr>\n",
       "      <th>1008</th>\n",
       "      <td>Yes</td>\n",
       "      <td>Yes</td>\n",
       "      <td>Yes</td>\n",
       "      <td>Yes</td>\n",
       "      <td>Yes</td>\n",
       "    </tr>\n",
       "    <tr>\n",
       "      <th>1009</th>\n",
       "      <td>Yes</td>\n",
       "      <td>Yes</td>\n",
       "      <td>Yes</td>\n",
       "      <td>Yes</td>\n",
       "      <td>No</td>\n",
       "    </tr>\n",
       "  </tbody>\n",
       "</table>\n",
       "<p>1010 rows × 5 columns</p>\n",
       "</div>"
      ],
      "text/plain": [
       "     account_fin fin2 fin7 mobileowner internetaccess\n",
       "0            Yes  Yes  Yes          No             No\n",
       "1            Yes  Yes  Yes         Yes            Yes\n",
       "2            Yes  Yes   No         Yes            Yes\n",
       "3            Yes  Yes  Yes         Yes            Yes\n",
       "4            Yes  Yes  Yes         Yes            Yes\n",
       "...          ...  ...  ...         ...            ...\n",
       "1005         Yes  Yes  Yes         Yes            Yes\n",
       "1006         Yes  Yes  Yes         Yes            Yes\n",
       "1007         Yes  Yes  Yes         Yes            Yes\n",
       "1008         Yes  Yes  Yes         Yes            Yes\n",
       "1009         Yes  Yes  Yes         Yes             No\n",
       "\n",
       "[1010 rows x 5 columns]"
      ]
     },
     "execution_count": 8,
     "metadata": {},
     "output_type": "execute_result"
    }
   ],
   "source": [
    "IND_a= IND_a.drop(columns= [\"account_mob\", \"fin1_1a\", \"fin1_1b\"])\n",
    "IND_a"
   ]
  },
  {
   "cell_type": "code",
   "execution_count": 9,
   "id": "310ad1bf",
   "metadata": {},
   "outputs": [
    {
     "data": {
      "text/html": [
       "<div>\n",
       "<style scoped>\n",
       "    .dataframe tbody tr th:only-of-type {\n",
       "        vertical-align: middle;\n",
       "    }\n",
       "\n",
       "    .dataframe tbody tr th {\n",
       "        vertical-align: top;\n",
       "    }\n",
       "\n",
       "    .dataframe thead th {\n",
       "        text-align: right;\n",
       "    }\n",
       "</style>\n",
       "<table border=\"1\" class=\"dataframe\">\n",
       "  <thead>\n",
       "    <tr style=\"text-align: right;\">\n",
       "      <th></th>\n",
       "      <th>fin4</th>\n",
       "      <th>fin5</th>\n",
       "      <th>fin8</th>\n",
       "      <th>fin9</th>\n",
       "      <th>fin10</th>\n",
       "      <th>fin10b</th>\n",
       "      <th>fin14_1</th>\n",
       "      <th>fin14a</th>\n",
       "      <th>fin14a1</th>\n",
       "      <th>fin14b</th>\n",
       "      <th>...</th>\n",
       "      <th>fin22b</th>\n",
       "      <th>fin30</th>\n",
       "      <th>fin31a</th>\n",
       "      <th>fin31b</th>\n",
       "      <th>fin32</th>\n",
       "      <th>fin37</th>\n",
       "      <th>fin38</th>\n",
       "      <th>saved</th>\n",
       "      <th>borrowed</th>\n",
       "      <th>anydigpayment</th>\n",
       "    </tr>\n",
       "  </thead>\n",
       "  <tbody>\n",
       "    <tr>\n",
       "      <th>0</th>\n",
       "      <td>Yes</td>\n",
       "      <td>No</td>\n",
       "      <td>No</td>\n",
       "      <td>Yes</td>\n",
       "      <td>Yes</td>\n",
       "      <td>No</td>\n",
       "      <td>2</td>\n",
       "      <td>No</td>\n",
       "      <td>No</td>\n",
       "      <td>No</td>\n",
       "      <td>...</td>\n",
       "      <td>No</td>\n",
       "      <td>No</td>\n",
       "      <td>NaN</td>\n",
       "      <td>NaN</td>\n",
       "      <td>No</td>\n",
       "      <td>2</td>\n",
       "      <td>Yes</td>\n",
       "      <td>1</td>\n",
       "      <td>2</td>\n",
       "      <td>1</td>\n",
       "    </tr>\n",
       "    <tr>\n",
       "      <th>1</th>\n",
       "      <td>No</td>\n",
       "      <td>No</td>\n",
       "      <td>No</td>\n",
       "      <td>Yes</td>\n",
       "      <td>Yes</td>\n",
       "      <td>No</td>\n",
       "      <td>2</td>\n",
       "      <td>No</td>\n",
       "      <td>No</td>\n",
       "      <td>No</td>\n",
       "      <td>...</td>\n",
       "      <td>No</td>\n",
       "      <td>Yes</td>\n",
       "      <td>Yes</td>\n",
       "      <td>No</td>\n",
       "      <td>Yes</td>\n",
       "      <td>2</td>\n",
       "      <td>Yes</td>\n",
       "      <td>2</td>\n",
       "      <td>2</td>\n",
       "      <td>1</td>\n",
       "    </tr>\n",
       "    <tr>\n",
       "      <th>2</th>\n",
       "      <td>Yes</td>\n",
       "      <td>No</td>\n",
       "      <td>NaN</td>\n",
       "      <td>Yes</td>\n",
       "      <td>Yes</td>\n",
       "      <td>Yes</td>\n",
       "      <td>2</td>\n",
       "      <td>No</td>\n",
       "      <td>No</td>\n",
       "      <td>No</td>\n",
       "      <td>...</td>\n",
       "      <td>No</td>\n",
       "      <td>Yes</td>\n",
       "      <td>Yes</td>\n",
       "      <td>No</td>\n",
       "      <td>Yes</td>\n",
       "      <td>2</td>\n",
       "      <td>No</td>\n",
       "      <td>1</td>\n",
       "      <td>2</td>\n",
       "      <td>1</td>\n",
       "    </tr>\n",
       "    <tr>\n",
       "      <th>3</th>\n",
       "      <td>Yes</td>\n",
       "      <td>Yes</td>\n",
       "      <td>Yes</td>\n",
       "      <td>Yes</td>\n",
       "      <td>Yes</td>\n",
       "      <td>Yes</td>\n",
       "      <td>1</td>\n",
       "      <td>Yes</td>\n",
       "      <td>No</td>\n",
       "      <td>Yes</td>\n",
       "      <td>...</td>\n",
       "      <td>No</td>\n",
       "      <td>Yes</td>\n",
       "      <td>Yes</td>\n",
       "      <td>No</td>\n",
       "      <td>Yes</td>\n",
       "      <td>2</td>\n",
       "      <td>No</td>\n",
       "      <td>1</td>\n",
       "      <td>1</td>\n",
       "      <td>1</td>\n",
       "    </tr>\n",
       "    <tr>\n",
       "      <th>4</th>\n",
       "      <td>No</td>\n",
       "      <td>No</td>\n",
       "      <td>No</td>\n",
       "      <td>Yes</td>\n",
       "      <td>Yes</td>\n",
       "      <td>Yes</td>\n",
       "      <td>2</td>\n",
       "      <td>No</td>\n",
       "      <td>No</td>\n",
       "      <td>No</td>\n",
       "      <td>...</td>\n",
       "      <td>No</td>\n",
       "      <td>Yes</td>\n",
       "      <td>Yes</td>\n",
       "      <td>No</td>\n",
       "      <td>Yes</td>\n",
       "      <td>2</td>\n",
       "      <td>No</td>\n",
       "      <td>1</td>\n",
       "      <td>2</td>\n",
       "      <td>1</td>\n",
       "    </tr>\n",
       "    <tr>\n",
       "      <th>...</th>\n",
       "      <td>...</td>\n",
       "      <td>...</td>\n",
       "      <td>...</td>\n",
       "      <td>...</td>\n",
       "      <td>...</td>\n",
       "      <td>...</td>\n",
       "      <td>...</td>\n",
       "      <td>...</td>\n",
       "      <td>...</td>\n",
       "      <td>...</td>\n",
       "      <td>...</td>\n",
       "      <td>...</td>\n",
       "      <td>...</td>\n",
       "      <td>...</td>\n",
       "      <td>...</td>\n",
       "      <td>...</td>\n",
       "      <td>...</td>\n",
       "      <td>...</td>\n",
       "      <td>...</td>\n",
       "      <td>...</td>\n",
       "      <td>...</td>\n",
       "    </tr>\n",
       "    <tr>\n",
       "      <th>1005</th>\n",
       "      <td>Yes</td>\n",
       "      <td>Yes</td>\n",
       "      <td>Yes</td>\n",
       "      <td>Yes</td>\n",
       "      <td>Yes</td>\n",
       "      <td>Yes</td>\n",
       "      <td>2</td>\n",
       "      <td>No</td>\n",
       "      <td>No</td>\n",
       "      <td>Yes</td>\n",
       "      <td>...</td>\n",
       "      <td>No</td>\n",
       "      <td>No</td>\n",
       "      <td>NaN</td>\n",
       "      <td>NaN</td>\n",
       "      <td>Yes</td>\n",
       "      <td>2</td>\n",
       "      <td>No</td>\n",
       "      <td>2</td>\n",
       "      <td>1</td>\n",
       "      <td>1</td>\n",
       "    </tr>\n",
       "    <tr>\n",
       "      <th>1006</th>\n",
       "      <td>No</td>\n",
       "      <td>No</td>\n",
       "      <td>Yes</td>\n",
       "      <td>Yes</td>\n",
       "      <td>Yes</td>\n",
       "      <td>Yes</td>\n",
       "      <td>2</td>\n",
       "      <td>No</td>\n",
       "      <td>No</td>\n",
       "      <td>No</td>\n",
       "      <td>...</td>\n",
       "      <td>No</td>\n",
       "      <td>Yes</td>\n",
       "      <td>Yes</td>\n",
       "      <td>No</td>\n",
       "      <td>Yes</td>\n",
       "      <td>1</td>\n",
       "      <td>No</td>\n",
       "      <td>1</td>\n",
       "      <td>1</td>\n",
       "      <td>1</td>\n",
       "    </tr>\n",
       "    <tr>\n",
       "      <th>1007</th>\n",
       "      <td>Yes</td>\n",
       "      <td>Yes</td>\n",
       "      <td>No</td>\n",
       "      <td>Yes</td>\n",
       "      <td>Yes</td>\n",
       "      <td>Yes</td>\n",
       "      <td>2</td>\n",
       "      <td>No</td>\n",
       "      <td>No</td>\n",
       "      <td>No</td>\n",
       "      <td>...</td>\n",
       "      <td>No</td>\n",
       "      <td>Yes</td>\n",
       "      <td>No</td>\n",
       "      <td>No</td>\n",
       "      <td>Yes</td>\n",
       "      <td>1</td>\n",
       "      <td>No</td>\n",
       "      <td>1</td>\n",
       "      <td>2</td>\n",
       "      <td>1</td>\n",
       "    </tr>\n",
       "    <tr>\n",
       "      <th>1008</th>\n",
       "      <td>Yes</td>\n",
       "      <td>Yes</td>\n",
       "      <td>Yes</td>\n",
       "      <td>Yes</td>\n",
       "      <td>Yes</td>\n",
       "      <td>Yes</td>\n",
       "      <td>1</td>\n",
       "      <td>No</td>\n",
       "      <td>No</td>\n",
       "      <td>No</td>\n",
       "      <td>...</td>\n",
       "      <td>No</td>\n",
       "      <td>Yes</td>\n",
       "      <td>Yes</td>\n",
       "      <td>No</td>\n",
       "      <td>Yes</td>\n",
       "      <td>2</td>\n",
       "      <td>No</td>\n",
       "      <td>1</td>\n",
       "      <td>1</td>\n",
       "      <td>1</td>\n",
       "    </tr>\n",
       "    <tr>\n",
       "      <th>1009</th>\n",
       "      <td>No</td>\n",
       "      <td>No</td>\n",
       "      <td>No</td>\n",
       "      <td>Yes</td>\n",
       "      <td>Yes</td>\n",
       "      <td>Yes</td>\n",
       "      <td>2</td>\n",
       "      <td>No</td>\n",
       "      <td>No</td>\n",
       "      <td>No</td>\n",
       "      <td>...</td>\n",
       "      <td>No</td>\n",
       "      <td>Yes</td>\n",
       "      <td>Yes</td>\n",
       "      <td>No</td>\n",
       "      <td>No</td>\n",
       "      <td>2</td>\n",
       "      <td>Yes</td>\n",
       "      <td>1</td>\n",
       "      <td>2</td>\n",
       "      <td>1</td>\n",
       "    </tr>\n",
       "  </tbody>\n",
       "</table>\n",
       "<p>1010 rows × 23 columns</p>\n",
       "</div>"
      ],
      "text/plain": [
       "     fin4 fin5 fin8 fin9 fin10 fin10b  fin14_1 fin14a fin14a1 fin14b  ...  \\\n",
       "0     Yes   No   No  Yes   Yes     No        2     No      No     No  ...   \n",
       "1      No   No   No  Yes   Yes     No        2     No      No     No  ...   \n",
       "2     Yes   No  NaN  Yes   Yes    Yes        2     No      No     No  ...   \n",
       "3     Yes  Yes  Yes  Yes   Yes    Yes        1    Yes      No    Yes  ...   \n",
       "4      No   No   No  Yes   Yes    Yes        2     No      No     No  ...   \n",
       "...   ...  ...  ...  ...   ...    ...      ...    ...     ...    ...  ...   \n",
       "1005  Yes  Yes  Yes  Yes   Yes    Yes        2     No      No    Yes  ...   \n",
       "1006   No   No  Yes  Yes   Yes    Yes        2     No      No     No  ...   \n",
       "1007  Yes  Yes   No  Yes   Yes    Yes        2     No      No     No  ...   \n",
       "1008  Yes  Yes  Yes  Yes   Yes    Yes        1     No      No     No  ...   \n",
       "1009   No   No   No  Yes   Yes    Yes        2     No      No     No  ...   \n",
       "\n",
       "     fin22b fin30 fin31a fin31b fin32 fin37 fin38 saved  borrowed  \\\n",
       "0        No    No    NaN    NaN    No     2   Yes     1         2   \n",
       "1        No   Yes    Yes     No   Yes     2   Yes     2         2   \n",
       "2        No   Yes    Yes     No   Yes     2    No     1         2   \n",
       "3        No   Yes    Yes     No   Yes     2    No     1         1   \n",
       "4        No   Yes    Yes     No   Yes     2    No     1         2   \n",
       "...     ...   ...    ...    ...   ...   ...   ...   ...       ...   \n",
       "1005     No    No    NaN    NaN   Yes     2    No     2         1   \n",
       "1006     No   Yes    Yes     No   Yes     1    No     1         1   \n",
       "1007     No   Yes     No     No   Yes     1    No     1         2   \n",
       "1008     No   Yes    Yes     No   Yes     2    No     1         1   \n",
       "1009     No   Yes    Yes     No    No     2   Yes     1         2   \n",
       "\n",
       "     anydigpayment  \n",
       "0                1  \n",
       "1                1  \n",
       "2                1  \n",
       "3                1  \n",
       "4                1  \n",
       "...            ...  \n",
       "1005             1  \n",
       "1006             1  \n",
       "1007             1  \n",
       "1008             1  \n",
       "1009             1  \n",
       "\n",
       "[1010 rows x 23 columns]"
      ]
     },
     "execution_count": 9,
     "metadata": {},
     "output_type": "execute_result"
    }
   ],
   "source": [
    "IND_u= IND_u.drop(columns= [\"fin1_1a\", \"fin1_1b\", \"fin26\", \"fin28\",\"fin17b\", \"merchantpay_dig\"])\n",
    "IND_u"
   ]
  },
  {
   "cell_type": "markdown",
   "id": "23fc1128",
   "metadata": {},
   "source": [
    "## Implementing MCA"
   ]
  },
  {
   "cell_type": "code",
   "execution_count": 10,
   "id": "0ed05055",
   "metadata": {},
   "outputs": [
    {
     "data": {
      "text/html": [
       "<div>\n",
       "<style scoped>\n",
       "    .dataframe tbody tr th:only-of-type {\n",
       "        vertical-align: middle;\n",
       "    }\n",
       "\n",
       "    .dataframe tbody tr th {\n",
       "        vertical-align: top;\n",
       "    }\n",
       "\n",
       "    .dataframe thead th {\n",
       "        text-align: right;\n",
       "    }\n",
       "</style>\n",
       "<table border=\"1\" class=\"dataframe\">\n",
       "  <thead>\n",
       "    <tr style=\"text-align: right;\">\n",
       "      <th></th>\n",
       "      <th>aPC1</th>\n",
       "      <th>aPC2</th>\n",
       "      <th>aPC3</th>\n",
       "      <th>aPC4</th>\n",
       "      <th>aPC5</th>\n",
       "      <th>aPC6</th>\n",
       "    </tr>\n",
       "  </thead>\n",
       "  <tbody>\n",
       "    <tr>\n",
       "      <th>0</th>\n",
       "      <td>0.936696</td>\n",
       "      <td>-1.125629</td>\n",
       "      <td>1.578099</td>\n",
       "      <td>0.623783</td>\n",
       "      <td>0.284279</td>\n",
       "      <td>0.002655</td>\n",
       "    </tr>\n",
       "    <tr>\n",
       "      <th>1</th>\n",
       "      <td>-0.375713</td>\n",
       "      <td>0.102105</td>\n",
       "      <td>0.072101</td>\n",
       "      <td>0.071528</td>\n",
       "      <td>0.029863</td>\n",
       "      <td>-0.001264</td>\n",
       "    </tr>\n",
       "    <tr>\n",
       "      <th>2</th>\n",
       "      <td>0.151528</td>\n",
       "      <td>-0.111292</td>\n",
       "      <td>-0.448041</td>\n",
       "      <td>0.064429</td>\n",
       "      <td>-0.625422</td>\n",
       "      <td>0.003265</td>\n",
       "    </tr>\n",
       "    <tr>\n",
       "      <th>3</th>\n",
       "      <td>-0.375713</td>\n",
       "      <td>0.102105</td>\n",
       "      <td>0.072101</td>\n",
       "      <td>0.071528</td>\n",
       "      <td>0.029863</td>\n",
       "      <td>-0.001264</td>\n",
       "    </tr>\n",
       "    <tr>\n",
       "      <th>4</th>\n",
       "      <td>-0.375713</td>\n",
       "      <td>0.102105</td>\n",
       "      <td>0.072101</td>\n",
       "      <td>0.071528</td>\n",
       "      <td>0.029863</td>\n",
       "      <td>-0.001264</td>\n",
       "    </tr>\n",
       "    <tr>\n",
       "      <th>...</th>\n",
       "      <td>...</td>\n",
       "      <td>...</td>\n",
       "      <td>...</td>\n",
       "      <td>...</td>\n",
       "      <td>...</td>\n",
       "      <td>...</td>\n",
       "    </tr>\n",
       "    <tr>\n",
       "      <th>1005</th>\n",
       "      <td>-0.375713</td>\n",
       "      <td>0.102105</td>\n",
       "      <td>0.072101</td>\n",
       "      <td>0.071528</td>\n",
       "      <td>0.029863</td>\n",
       "      <td>-0.001264</td>\n",
       "    </tr>\n",
       "    <tr>\n",
       "      <th>1006</th>\n",
       "      <td>-0.375713</td>\n",
       "      <td>0.102105</td>\n",
       "      <td>0.072101</td>\n",
       "      <td>0.071528</td>\n",
       "      <td>0.029863</td>\n",
       "      <td>-0.001264</td>\n",
       "    </tr>\n",
       "    <tr>\n",
       "      <th>1007</th>\n",
       "      <td>-0.375713</td>\n",
       "      <td>0.102105</td>\n",
       "      <td>0.072101</td>\n",
       "      <td>0.071528</td>\n",
       "      <td>0.029863</td>\n",
       "      <td>-0.001264</td>\n",
       "    </tr>\n",
       "    <tr>\n",
       "      <th>1008</th>\n",
       "      <td>-0.375713</td>\n",
       "      <td>0.102105</td>\n",
       "      <td>0.072101</td>\n",
       "      <td>0.071528</td>\n",
       "      <td>0.029863</td>\n",
       "      <td>-0.001264</td>\n",
       "    </tr>\n",
       "    <tr>\n",
       "      <th>1009</th>\n",
       "      <td>0.111967</td>\n",
       "      <td>-0.324459</td>\n",
       "      <td>0.304245</td>\n",
       "      <td>-0.691608</td>\n",
       "      <td>0.385183</td>\n",
       "      <td>0.001695</td>\n",
       "    </tr>\n",
       "  </tbody>\n",
       "</table>\n",
       "<p>1010 rows × 6 columns</p>\n",
       "</div>"
      ],
      "text/plain": [
       "          aPC1      aPC2      aPC3      aPC4      aPC5      aPC6\n",
       "0     0.936696 -1.125629  1.578099  0.623783  0.284279  0.002655\n",
       "1    -0.375713  0.102105  0.072101  0.071528  0.029863 -0.001264\n",
       "2     0.151528 -0.111292 -0.448041  0.064429 -0.625422  0.003265\n",
       "3    -0.375713  0.102105  0.072101  0.071528  0.029863 -0.001264\n",
       "4    -0.375713  0.102105  0.072101  0.071528  0.029863 -0.001264\n",
       "...        ...       ...       ...       ...       ...       ...\n",
       "1005 -0.375713  0.102105  0.072101  0.071528  0.029863 -0.001264\n",
       "1006 -0.375713  0.102105  0.072101  0.071528  0.029863 -0.001264\n",
       "1007 -0.375713  0.102105  0.072101  0.071528  0.029863 -0.001264\n",
       "1008 -0.375713  0.102105  0.072101  0.071528  0.029863 -0.001264\n",
       "1009  0.111967 -0.324459  0.304245 -0.691608  0.385183  0.001695\n",
       "\n",
       "[1010 rows x 6 columns]"
      ]
     },
     "execution_count": 10,
     "metadata": {},
     "output_type": "execute_result"
    }
   ],
   "source": [
    "mca_a = prince.MCA(n_components=6)\n",
    "\n",
    "# Fit the MCA model to your data\n",
    "mca_a.fit(IND_a)\n",
    "\n",
    "# Transform the data into MCA coordinates\n",
    "IND_a_index = mca_a.transform(IND_a)\n",
    "new_column_names_a = {i: f'aPC{i+1}' for i in IND_a_index.columns}\n",
    "IND_a_index = IND_a_index.rename(columns=new_column_names_a)\n",
    "IND_a_index"
   ]
  },
  {
   "cell_type": "code",
   "execution_count": 11,
   "id": "0e5c22e0",
   "metadata": {},
   "outputs": [
    {
     "data": {
      "text/html": [
       "<div>\n",
       "<style scoped>\n",
       "    .dataframe tbody tr th:only-of-type {\n",
       "        vertical-align: middle;\n",
       "    }\n",
       "\n",
       "    .dataframe tbody tr th {\n",
       "        vertical-align: top;\n",
       "    }\n",
       "\n",
       "    .dataframe thead th {\n",
       "        text-align: right;\n",
       "    }\n",
       "</style>\n",
       "<table border=\"1\" class=\"dataframe\">\n",
       "  <thead>\n",
       "    <tr style=\"text-align: right;\">\n",
       "      <th></th>\n",
       "      <th>uPC1</th>\n",
       "      <th>uPC2</th>\n",
       "      <th>uPC3</th>\n",
       "      <th>uPC4</th>\n",
       "      <th>uPC5</th>\n",
       "      <th>uPC6</th>\n",
       "      <th>uPC7</th>\n",
       "      <th>uPC8</th>\n",
       "      <th>uPC9</th>\n",
       "      <th>uPC10</th>\n",
       "      <th>...</th>\n",
       "      <th>uPC17</th>\n",
       "      <th>uPC18</th>\n",
       "      <th>uPC19</th>\n",
       "      <th>uPC20</th>\n",
       "      <th>uPC21</th>\n",
       "      <th>uPC22</th>\n",
       "      <th>uPC23</th>\n",
       "      <th>uPC24</th>\n",
       "      <th>uPC25</th>\n",
       "      <th>uPC26</th>\n",
       "    </tr>\n",
       "  </thead>\n",
       "  <tbody>\n",
       "    <tr>\n",
       "      <th>0</th>\n",
       "      <td>0.561323</td>\n",
       "      <td>0.030203</td>\n",
       "      <td>-0.330630</td>\n",
       "      <td>0.246984</td>\n",
       "      <td>-0.080706</td>\n",
       "      <td>0.093656</td>\n",
       "      <td>0.100425</td>\n",
       "      <td>0.192254</td>\n",
       "      <td>-0.037136</td>\n",
       "      <td>0.623011</td>\n",
       "      <td>...</td>\n",
       "      <td>-0.030530</td>\n",
       "      <td>-0.034810</td>\n",
       "      <td>0.021063</td>\n",
       "      <td>0.024481</td>\n",
       "      <td>-0.028406</td>\n",
       "      <td>-0.019389</td>\n",
       "      <td>0.004051</td>\n",
       "      <td>0.005436</td>\n",
       "      <td>0.011370</td>\n",
       "      <td>0.001798</td>\n",
       "    </tr>\n",
       "    <tr>\n",
       "      <th>1</th>\n",
       "      <td>0.544538</td>\n",
       "      <td>0.069022</td>\n",
       "      <td>0.330412</td>\n",
       "      <td>0.008313</td>\n",
       "      <td>-0.256453</td>\n",
       "      <td>-0.083812</td>\n",
       "      <td>-0.184563</td>\n",
       "      <td>-0.267950</td>\n",
       "      <td>-0.009315</td>\n",
       "      <td>0.393519</td>\n",
       "      <td>...</td>\n",
       "      <td>0.172223</td>\n",
       "      <td>0.026193</td>\n",
       "      <td>0.080078</td>\n",
       "      <td>0.039733</td>\n",
       "      <td>0.004101</td>\n",
       "      <td>0.021008</td>\n",
       "      <td>0.054960</td>\n",
       "      <td>-0.009483</td>\n",
       "      <td>0.008335</td>\n",
       "      <td>-0.003937</td>\n",
       "    </tr>\n",
       "    <tr>\n",
       "      <th>2</th>\n",
       "      <td>0.075789</td>\n",
       "      <td>-0.240994</td>\n",
       "      <td>-0.081380</td>\n",
       "      <td>-0.091596</td>\n",
       "      <td>0.058598</td>\n",
       "      <td>0.098798</td>\n",
       "      <td>-0.199544</td>\n",
       "      <td>0.053064</td>\n",
       "      <td>-0.051893</td>\n",
       "      <td>-0.051339</td>\n",
       "      <td>...</td>\n",
       "      <td>-0.142857</td>\n",
       "      <td>-0.024264</td>\n",
       "      <td>-0.159079</td>\n",
       "      <td>0.010465</td>\n",
       "      <td>-0.041739</td>\n",
       "      <td>-0.060129</td>\n",
       "      <td>0.022731</td>\n",
       "      <td>0.010879</td>\n",
       "      <td>0.000964</td>\n",
       "      <td>-0.000759</td>\n",
       "    </tr>\n",
       "    <tr>\n",
       "      <th>3</th>\n",
       "      <td>-0.456101</td>\n",
       "      <td>0.214932</td>\n",
       "      <td>0.389099</td>\n",
       "      <td>-0.320238</td>\n",
       "      <td>0.257481</td>\n",
       "      <td>0.116969</td>\n",
       "      <td>-0.023411</td>\n",
       "      <td>-0.171048</td>\n",
       "      <td>0.405054</td>\n",
       "      <td>0.212019</td>\n",
       "      <td>...</td>\n",
       "      <td>0.029136</td>\n",
       "      <td>-0.065591</td>\n",
       "      <td>-0.002165</td>\n",
       "      <td>0.091924</td>\n",
       "      <td>-0.030768</td>\n",
       "      <td>-0.015458</td>\n",
       "      <td>-0.084388</td>\n",
       "      <td>0.043237</td>\n",
       "      <td>0.004195</td>\n",
       "      <td>-0.013022</td>\n",
       "    </tr>\n",
       "    <tr>\n",
       "      <th>4</th>\n",
       "      <td>0.223453</td>\n",
       "      <td>-0.247438</td>\n",
       "      <td>-0.030898</td>\n",
       "      <td>0.162816</td>\n",
       "      <td>-0.382171</td>\n",
       "      <td>0.207454</td>\n",
       "      <td>-0.308106</td>\n",
       "      <td>-0.216479</td>\n",
       "      <td>0.078380</td>\n",
       "      <td>0.091274</td>\n",
       "      <td>...</td>\n",
       "      <td>-0.088812</td>\n",
       "      <td>-0.076602</td>\n",
       "      <td>0.058145</td>\n",
       "      <td>0.034427</td>\n",
       "      <td>0.017263</td>\n",
       "      <td>-0.005240</td>\n",
       "      <td>0.010860</td>\n",
       "      <td>-0.003532</td>\n",
       "      <td>0.007869</td>\n",
       "      <td>-0.003773</td>\n",
       "    </tr>\n",
       "    <tr>\n",
       "      <th>...</th>\n",
       "      <td>...</td>\n",
       "      <td>...</td>\n",
       "      <td>...</td>\n",
       "      <td>...</td>\n",
       "      <td>...</td>\n",
       "      <td>...</td>\n",
       "      <td>...</td>\n",
       "      <td>...</td>\n",
       "      <td>...</td>\n",
       "      <td>...</td>\n",
       "      <td>...</td>\n",
       "      <td>...</td>\n",
       "      <td>...</td>\n",
       "      <td>...</td>\n",
       "      <td>...</td>\n",
       "      <td>...</td>\n",
       "      <td>...</td>\n",
       "      <td>...</td>\n",
       "      <td>...</td>\n",
       "      <td>...</td>\n",
       "      <td>...</td>\n",
       "    </tr>\n",
       "    <tr>\n",
       "      <th>1005</th>\n",
       "      <td>-0.160121</td>\n",
       "      <td>0.448109</td>\n",
       "      <td>-0.142156</td>\n",
       "      <td>-0.504186</td>\n",
       "      <td>-0.111914</td>\n",
       "      <td>-0.011491</td>\n",
       "      <td>0.057780</td>\n",
       "      <td>0.058016</td>\n",
       "      <td>-0.084910</td>\n",
       "      <td>0.041377</td>\n",
       "      <td>...</td>\n",
       "      <td>0.109916</td>\n",
       "      <td>0.041122</td>\n",
       "      <td>0.050947</td>\n",
       "      <td>0.016276</td>\n",
       "      <td>0.035564</td>\n",
       "      <td>-0.057991</td>\n",
       "      <td>0.077010</td>\n",
       "      <td>-0.057801</td>\n",
       "      <td>-0.000247</td>\n",
       "      <td>-0.002128</td>\n",
       "    </tr>\n",
       "    <tr>\n",
       "      <th>1006</th>\n",
       "      <td>0.076261</td>\n",
       "      <td>-0.252776</td>\n",
       "      <td>-0.051417</td>\n",
       "      <td>-0.026107</td>\n",
       "      <td>-0.113544</td>\n",
       "      <td>0.148900</td>\n",
       "      <td>-0.288401</td>\n",
       "      <td>-0.092404</td>\n",
       "      <td>0.031903</td>\n",
       "      <td>-0.192910</td>\n",
       "      <td>...</td>\n",
       "      <td>-0.054594</td>\n",
       "      <td>-0.026259</td>\n",
       "      <td>0.155200</td>\n",
       "      <td>-0.113184</td>\n",
       "      <td>0.044961</td>\n",
       "      <td>0.024464</td>\n",
       "      <td>0.002262</td>\n",
       "      <td>0.011701</td>\n",
       "      <td>0.003411</td>\n",
       "      <td>0.001926</td>\n",
       "    </tr>\n",
       "    <tr>\n",
       "      <th>1007</th>\n",
       "      <td>-0.019952</td>\n",
       "      <td>-0.136087</td>\n",
       "      <td>0.107566</td>\n",
       "      <td>0.251614</td>\n",
       "      <td>-0.279766</td>\n",
       "      <td>0.275431</td>\n",
       "      <td>-0.372060</td>\n",
       "      <td>0.213330</td>\n",
       "      <td>-0.363994</td>\n",
       "      <td>0.292878</td>\n",
       "      <td>...</td>\n",
       "      <td>-0.145148</td>\n",
       "      <td>0.159789</td>\n",
       "      <td>0.009396</td>\n",
       "      <td>-0.080630</td>\n",
       "      <td>0.015515</td>\n",
       "      <td>0.001019</td>\n",
       "      <td>0.009962</td>\n",
       "      <td>-0.017654</td>\n",
       "      <td>0.006111</td>\n",
       "      <td>-0.009182</td>\n",
       "    </tr>\n",
       "    <tr>\n",
       "      <th>1008</th>\n",
       "      <td>-0.176213</td>\n",
       "      <td>-0.023843</td>\n",
       "      <td>0.259065</td>\n",
       "      <td>-0.256042</td>\n",
       "      <td>0.291870</td>\n",
       "      <td>0.306789</td>\n",
       "      <td>-0.167387</td>\n",
       "      <td>0.028278</td>\n",
       "      <td>0.396218</td>\n",
       "      <td>0.192497</td>\n",
       "      <td>...</td>\n",
       "      <td>0.018953</td>\n",
       "      <td>0.250272</td>\n",
       "      <td>0.043427</td>\n",
       "      <td>0.087738</td>\n",
       "      <td>-0.074976</td>\n",
       "      <td>0.046499</td>\n",
       "      <td>-0.039812</td>\n",
       "      <td>0.028063</td>\n",
       "      <td>0.001846</td>\n",
       "      <td>-0.007321</td>\n",
       "    </tr>\n",
       "    <tr>\n",
       "      <th>1009</th>\n",
       "      <td>0.453588</td>\n",
       "      <td>-0.392830</td>\n",
       "      <td>-0.027044</td>\n",
       "      <td>0.291720</td>\n",
       "      <td>-0.308389</td>\n",
       "      <td>0.106495</td>\n",
       "      <td>0.014549</td>\n",
       "      <td>-0.162485</td>\n",
       "      <td>0.119652</td>\n",
       "      <td>0.098659</td>\n",
       "      <td>...</td>\n",
       "      <td>-0.033324</td>\n",
       "      <td>-0.046685</td>\n",
       "      <td>0.048017</td>\n",
       "      <td>0.051268</td>\n",
       "      <td>0.005253</td>\n",
       "      <td>0.003956</td>\n",
       "      <td>0.003238</td>\n",
       "      <td>-0.001012</td>\n",
       "      <td>0.007064</td>\n",
       "      <td>-0.004237</td>\n",
       "    </tr>\n",
       "  </tbody>\n",
       "</table>\n",
       "<p>1010 rows × 26 columns</p>\n",
       "</div>"
      ],
      "text/plain": [
       "          uPC1      uPC2      uPC3      uPC4      uPC5      uPC6      uPC7  \\\n",
       "0     0.561323  0.030203 -0.330630  0.246984 -0.080706  0.093656  0.100425   \n",
       "1     0.544538  0.069022  0.330412  0.008313 -0.256453 -0.083812 -0.184563   \n",
       "2     0.075789 -0.240994 -0.081380 -0.091596  0.058598  0.098798 -0.199544   \n",
       "3    -0.456101  0.214932  0.389099 -0.320238  0.257481  0.116969 -0.023411   \n",
       "4     0.223453 -0.247438 -0.030898  0.162816 -0.382171  0.207454 -0.308106   \n",
       "...        ...       ...       ...       ...       ...       ...       ...   \n",
       "1005 -0.160121  0.448109 -0.142156 -0.504186 -0.111914 -0.011491  0.057780   \n",
       "1006  0.076261 -0.252776 -0.051417 -0.026107 -0.113544  0.148900 -0.288401   \n",
       "1007 -0.019952 -0.136087  0.107566  0.251614 -0.279766  0.275431 -0.372060   \n",
       "1008 -0.176213 -0.023843  0.259065 -0.256042  0.291870  0.306789 -0.167387   \n",
       "1009  0.453588 -0.392830 -0.027044  0.291720 -0.308389  0.106495  0.014549   \n",
       "\n",
       "          uPC8      uPC9     uPC10  ...     uPC17     uPC18     uPC19  \\\n",
       "0     0.192254 -0.037136  0.623011  ... -0.030530 -0.034810  0.021063   \n",
       "1    -0.267950 -0.009315  0.393519  ...  0.172223  0.026193  0.080078   \n",
       "2     0.053064 -0.051893 -0.051339  ... -0.142857 -0.024264 -0.159079   \n",
       "3    -0.171048  0.405054  0.212019  ...  0.029136 -0.065591 -0.002165   \n",
       "4    -0.216479  0.078380  0.091274  ... -0.088812 -0.076602  0.058145   \n",
       "...        ...       ...       ...  ...       ...       ...       ...   \n",
       "1005  0.058016 -0.084910  0.041377  ...  0.109916  0.041122  0.050947   \n",
       "1006 -0.092404  0.031903 -0.192910  ... -0.054594 -0.026259  0.155200   \n",
       "1007  0.213330 -0.363994  0.292878  ... -0.145148  0.159789  0.009396   \n",
       "1008  0.028278  0.396218  0.192497  ...  0.018953  0.250272  0.043427   \n",
       "1009 -0.162485  0.119652  0.098659  ... -0.033324 -0.046685  0.048017   \n",
       "\n",
       "         uPC20     uPC21     uPC22     uPC23     uPC24     uPC25     uPC26  \n",
       "0     0.024481 -0.028406 -0.019389  0.004051  0.005436  0.011370  0.001798  \n",
       "1     0.039733  0.004101  0.021008  0.054960 -0.009483  0.008335 -0.003937  \n",
       "2     0.010465 -0.041739 -0.060129  0.022731  0.010879  0.000964 -0.000759  \n",
       "3     0.091924 -0.030768 -0.015458 -0.084388  0.043237  0.004195 -0.013022  \n",
       "4     0.034427  0.017263 -0.005240  0.010860 -0.003532  0.007869 -0.003773  \n",
       "...        ...       ...       ...       ...       ...       ...       ...  \n",
       "1005  0.016276  0.035564 -0.057991  0.077010 -0.057801 -0.000247 -0.002128  \n",
       "1006 -0.113184  0.044961  0.024464  0.002262  0.011701  0.003411  0.001926  \n",
       "1007 -0.080630  0.015515  0.001019  0.009962 -0.017654  0.006111 -0.009182  \n",
       "1008  0.087738 -0.074976  0.046499 -0.039812  0.028063  0.001846 -0.007321  \n",
       "1009  0.051268  0.005253  0.003956  0.003238 -0.001012  0.007064 -0.004237  \n",
       "\n",
       "[1010 rows x 26 columns]"
      ]
     },
     "execution_count": 11,
     "metadata": {},
     "output_type": "execute_result"
    }
   ],
   "source": [
    "mca_u = prince.MCA(n_components=26)\n",
    "\n",
    "# Fit the MCA model to your data\n",
    "mca_u.fit(IND_u)\n",
    "\n",
    "# Transform the data into MCA coordinates\n",
    "IND_u_index = mca_u.transform(IND_u)\n",
    "new_column_names_u = {i: f'uPC{i+1}' for i in IND_u_index.columns}\n",
    "IND_u_index = IND_u_index.rename(columns=new_column_names_u)\n",
    "IND_u_index"
   ]
  },
  {
   "cell_type": "code",
   "execution_count": 12,
   "id": "fdfc613a",
   "metadata": {},
   "outputs": [
    {
     "data": {
      "text/html": [
       "<div>\n",
       "<style scoped>\n",
       "    .dataframe tbody tr th:only-of-type {\n",
       "        vertical-align: middle;\n",
       "    }\n",
       "\n",
       "    .dataframe tbody tr th {\n",
       "        vertical-align: top;\n",
       "    }\n",
       "\n",
       "    .dataframe thead th {\n",
       "        text-align: right;\n",
       "    }\n",
       "</style>\n",
       "<table border=\"1\" class=\"dataframe\">\n",
       "  <thead>\n",
       "    <tr style=\"text-align: right;\">\n",
       "      <th></th>\n",
       "      <th>aPC1</th>\n",
       "      <th>aPC2</th>\n",
       "      <th>aPC3</th>\n",
       "      <th>aPC4</th>\n",
       "      <th>aPC5</th>\n",
       "      <th>aPC6</th>\n",
       "      <th>uPC1</th>\n",
       "      <th>uPC2</th>\n",
       "      <th>uPC3</th>\n",
       "      <th>uPC4</th>\n",
       "      <th>...</th>\n",
       "      <th>uPC21</th>\n",
       "      <th>uPC22</th>\n",
       "      <th>uPC23</th>\n",
       "      <th>uPC24</th>\n",
       "      <th>uPC25</th>\n",
       "      <th>uPC26</th>\n",
       "      <th>female</th>\n",
       "      <th>age</th>\n",
       "      <th>educ</th>\n",
       "      <th>inc_q</th>\n",
       "    </tr>\n",
       "  </thead>\n",
       "  <tbody>\n",
       "    <tr>\n",
       "      <th>0</th>\n",
       "      <td>0.936696</td>\n",
       "      <td>-1.125629</td>\n",
       "      <td>1.578099</td>\n",
       "      <td>0.623783</td>\n",
       "      <td>0.284279</td>\n",
       "      <td>0.002655</td>\n",
       "      <td>0.561323</td>\n",
       "      <td>0.030203</td>\n",
       "      <td>-0.330630</td>\n",
       "      <td>0.246984</td>\n",
       "      <td>...</td>\n",
       "      <td>-0.028406</td>\n",
       "      <td>-0.019389</td>\n",
       "      <td>0.004051</td>\n",
       "      <td>0.005436</td>\n",
       "      <td>0.011370</td>\n",
       "      <td>0.001798</td>\n",
       "      <td>1</td>\n",
       "      <td>5.0</td>\n",
       "      <td>2</td>\n",
       "      <td>2</td>\n",
       "    </tr>\n",
       "    <tr>\n",
       "      <th>1</th>\n",
       "      <td>-0.375713</td>\n",
       "      <td>0.102105</td>\n",
       "      <td>0.072101</td>\n",
       "      <td>0.071528</td>\n",
       "      <td>0.029863</td>\n",
       "      <td>-0.001264</td>\n",
       "      <td>0.544538</td>\n",
       "      <td>0.069022</td>\n",
       "      <td>0.330412</td>\n",
       "      <td>0.008313</td>\n",
       "      <td>...</td>\n",
       "      <td>0.004101</td>\n",
       "      <td>0.021008</td>\n",
       "      <td>0.054960</td>\n",
       "      <td>-0.009483</td>\n",
       "      <td>0.008335</td>\n",
       "      <td>-0.003937</td>\n",
       "      <td>2</td>\n",
       "      <td>6.0</td>\n",
       "      <td>2</td>\n",
       "      <td>3</td>\n",
       "    </tr>\n",
       "    <tr>\n",
       "      <th>2</th>\n",
       "      <td>0.151528</td>\n",
       "      <td>-0.111292</td>\n",
       "      <td>-0.448041</td>\n",
       "      <td>0.064429</td>\n",
       "      <td>-0.625422</td>\n",
       "      <td>0.003265</td>\n",
       "      <td>0.075789</td>\n",
       "      <td>-0.240994</td>\n",
       "      <td>-0.081380</td>\n",
       "      <td>-0.091596</td>\n",
       "      <td>...</td>\n",
       "      <td>-0.041739</td>\n",
       "      <td>-0.060129</td>\n",
       "      <td>0.022731</td>\n",
       "      <td>0.010879</td>\n",
       "      <td>0.000964</td>\n",
       "      <td>-0.000759</td>\n",
       "      <td>2</td>\n",
       "      <td>4.0</td>\n",
       "      <td>2</td>\n",
       "      <td>1</td>\n",
       "    </tr>\n",
       "    <tr>\n",
       "      <th>3</th>\n",
       "      <td>-0.375713</td>\n",
       "      <td>0.102105</td>\n",
       "      <td>0.072101</td>\n",
       "      <td>0.071528</td>\n",
       "      <td>0.029863</td>\n",
       "      <td>-0.001264</td>\n",
       "      <td>-0.456101</td>\n",
       "      <td>0.214932</td>\n",
       "      <td>0.389099</td>\n",
       "      <td>-0.320238</td>\n",
       "      <td>...</td>\n",
       "      <td>-0.030768</td>\n",
       "      <td>-0.015458</td>\n",
       "      <td>-0.084388</td>\n",
       "      <td>0.043237</td>\n",
       "      <td>0.004195</td>\n",
       "      <td>-0.013022</td>\n",
       "      <td>2</td>\n",
       "      <td>5.0</td>\n",
       "      <td>2</td>\n",
       "      <td>5</td>\n",
       "    </tr>\n",
       "    <tr>\n",
       "      <th>4</th>\n",
       "      <td>-0.375713</td>\n",
       "      <td>0.102105</td>\n",
       "      <td>0.072101</td>\n",
       "      <td>0.071528</td>\n",
       "      <td>0.029863</td>\n",
       "      <td>-0.001264</td>\n",
       "      <td>0.223453</td>\n",
       "      <td>-0.247438</td>\n",
       "      <td>-0.030898</td>\n",
       "      <td>0.162816</td>\n",
       "      <td>...</td>\n",
       "      <td>0.017263</td>\n",
       "      <td>-0.005240</td>\n",
       "      <td>0.010860</td>\n",
       "      <td>-0.003532</td>\n",
       "      <td>0.007869</td>\n",
       "      <td>-0.003773</td>\n",
       "      <td>2</td>\n",
       "      <td>3.0</td>\n",
       "      <td>2</td>\n",
       "      <td>5</td>\n",
       "    </tr>\n",
       "    <tr>\n",
       "      <th>...</th>\n",
       "      <td>...</td>\n",
       "      <td>...</td>\n",
       "      <td>...</td>\n",
       "      <td>...</td>\n",
       "      <td>...</td>\n",
       "      <td>...</td>\n",
       "      <td>...</td>\n",
       "      <td>...</td>\n",
       "      <td>...</td>\n",
       "      <td>...</td>\n",
       "      <td>...</td>\n",
       "      <td>...</td>\n",
       "      <td>...</td>\n",
       "      <td>...</td>\n",
       "      <td>...</td>\n",
       "      <td>...</td>\n",
       "      <td>...</td>\n",
       "      <td>...</td>\n",
       "      <td>...</td>\n",
       "      <td>...</td>\n",
       "      <td>...</td>\n",
       "    </tr>\n",
       "    <tr>\n",
       "      <th>1005</th>\n",
       "      <td>-0.375713</td>\n",
       "      <td>0.102105</td>\n",
       "      <td>0.072101</td>\n",
       "      <td>0.071528</td>\n",
       "      <td>0.029863</td>\n",
       "      <td>-0.001264</td>\n",
       "      <td>-0.160121</td>\n",
       "      <td>0.448109</td>\n",
       "      <td>-0.142156</td>\n",
       "      <td>-0.504186</td>\n",
       "      <td>...</td>\n",
       "      <td>0.035564</td>\n",
       "      <td>-0.057991</td>\n",
       "      <td>0.077010</td>\n",
       "      <td>-0.057801</td>\n",
       "      <td>-0.000247</td>\n",
       "      <td>-0.002128</td>\n",
       "      <td>2</td>\n",
       "      <td>2.0</td>\n",
       "      <td>2</td>\n",
       "      <td>3</td>\n",
       "    </tr>\n",
       "    <tr>\n",
       "      <th>1006</th>\n",
       "      <td>-0.375713</td>\n",
       "      <td>0.102105</td>\n",
       "      <td>0.072101</td>\n",
       "      <td>0.071528</td>\n",
       "      <td>0.029863</td>\n",
       "      <td>-0.001264</td>\n",
       "      <td>0.076261</td>\n",
       "      <td>-0.252776</td>\n",
       "      <td>-0.051417</td>\n",
       "      <td>-0.026107</td>\n",
       "      <td>...</td>\n",
       "      <td>0.044961</td>\n",
       "      <td>0.024464</td>\n",
       "      <td>0.002262</td>\n",
       "      <td>0.011701</td>\n",
       "      <td>0.003411</td>\n",
       "      <td>0.001926</td>\n",
       "      <td>2</td>\n",
       "      <td>2.0</td>\n",
       "      <td>3</td>\n",
       "      <td>5</td>\n",
       "    </tr>\n",
       "    <tr>\n",
       "      <th>1007</th>\n",
       "      <td>-0.375713</td>\n",
       "      <td>0.102105</td>\n",
       "      <td>0.072101</td>\n",
       "      <td>0.071528</td>\n",
       "      <td>0.029863</td>\n",
       "      <td>-0.001264</td>\n",
       "      <td>-0.019952</td>\n",
       "      <td>-0.136087</td>\n",
       "      <td>0.107566</td>\n",
       "      <td>0.251614</td>\n",
       "      <td>...</td>\n",
       "      <td>0.015515</td>\n",
       "      <td>0.001019</td>\n",
       "      <td>0.009962</td>\n",
       "      <td>-0.017654</td>\n",
       "      <td>0.006111</td>\n",
       "      <td>-0.009182</td>\n",
       "      <td>2</td>\n",
       "      <td>4.0</td>\n",
       "      <td>1</td>\n",
       "      <td>4</td>\n",
       "    </tr>\n",
       "    <tr>\n",
       "      <th>1008</th>\n",
       "      <td>-0.375713</td>\n",
       "      <td>0.102105</td>\n",
       "      <td>0.072101</td>\n",
       "      <td>0.071528</td>\n",
       "      <td>0.029863</td>\n",
       "      <td>-0.001264</td>\n",
       "      <td>-0.176213</td>\n",
       "      <td>-0.023843</td>\n",
       "      <td>0.259065</td>\n",
       "      <td>-0.256042</td>\n",
       "      <td>...</td>\n",
       "      <td>-0.074976</td>\n",
       "      <td>0.046499</td>\n",
       "      <td>-0.039812</td>\n",
       "      <td>0.028063</td>\n",
       "      <td>0.001846</td>\n",
       "      <td>-0.007321</td>\n",
       "      <td>2</td>\n",
       "      <td>5.0</td>\n",
       "      <td>2</td>\n",
       "      <td>4</td>\n",
       "    </tr>\n",
       "    <tr>\n",
       "      <th>1009</th>\n",
       "      <td>0.111967</td>\n",
       "      <td>-0.324459</td>\n",
       "      <td>0.304245</td>\n",
       "      <td>-0.691608</td>\n",
       "      <td>0.385183</td>\n",
       "      <td>0.001695</td>\n",
       "      <td>0.453588</td>\n",
       "      <td>-0.392830</td>\n",
       "      <td>-0.027044</td>\n",
       "      <td>0.291720</td>\n",
       "      <td>...</td>\n",
       "      <td>0.005253</td>\n",
       "      <td>0.003956</td>\n",
       "      <td>0.003238</td>\n",
       "      <td>-0.001012</td>\n",
       "      <td>0.007064</td>\n",
       "      <td>-0.004237</td>\n",
       "      <td>1</td>\n",
       "      <td>6.0</td>\n",
       "      <td>3</td>\n",
       "      <td>1</td>\n",
       "    </tr>\n",
       "  </tbody>\n",
       "</table>\n",
       "<p>1010 rows × 36 columns</p>\n",
       "</div>"
      ],
      "text/plain": [
       "          aPC1      aPC2      aPC3      aPC4      aPC5      aPC6      uPC1  \\\n",
       "0     0.936696 -1.125629  1.578099  0.623783  0.284279  0.002655  0.561323   \n",
       "1    -0.375713  0.102105  0.072101  0.071528  0.029863 -0.001264  0.544538   \n",
       "2     0.151528 -0.111292 -0.448041  0.064429 -0.625422  0.003265  0.075789   \n",
       "3    -0.375713  0.102105  0.072101  0.071528  0.029863 -0.001264 -0.456101   \n",
       "4    -0.375713  0.102105  0.072101  0.071528  0.029863 -0.001264  0.223453   \n",
       "...        ...       ...       ...       ...       ...       ...       ...   \n",
       "1005 -0.375713  0.102105  0.072101  0.071528  0.029863 -0.001264 -0.160121   \n",
       "1006 -0.375713  0.102105  0.072101  0.071528  0.029863 -0.001264  0.076261   \n",
       "1007 -0.375713  0.102105  0.072101  0.071528  0.029863 -0.001264 -0.019952   \n",
       "1008 -0.375713  0.102105  0.072101  0.071528  0.029863 -0.001264 -0.176213   \n",
       "1009  0.111967 -0.324459  0.304245 -0.691608  0.385183  0.001695  0.453588   \n",
       "\n",
       "          uPC2      uPC3      uPC4  ...     uPC21     uPC22     uPC23  \\\n",
       "0     0.030203 -0.330630  0.246984  ... -0.028406 -0.019389  0.004051   \n",
       "1     0.069022  0.330412  0.008313  ...  0.004101  0.021008  0.054960   \n",
       "2    -0.240994 -0.081380 -0.091596  ... -0.041739 -0.060129  0.022731   \n",
       "3     0.214932  0.389099 -0.320238  ... -0.030768 -0.015458 -0.084388   \n",
       "4    -0.247438 -0.030898  0.162816  ...  0.017263 -0.005240  0.010860   \n",
       "...        ...       ...       ...  ...       ...       ...       ...   \n",
       "1005  0.448109 -0.142156 -0.504186  ...  0.035564 -0.057991  0.077010   \n",
       "1006 -0.252776 -0.051417 -0.026107  ...  0.044961  0.024464  0.002262   \n",
       "1007 -0.136087  0.107566  0.251614  ...  0.015515  0.001019  0.009962   \n",
       "1008 -0.023843  0.259065 -0.256042  ... -0.074976  0.046499 -0.039812   \n",
       "1009 -0.392830 -0.027044  0.291720  ...  0.005253  0.003956  0.003238   \n",
       "\n",
       "         uPC24     uPC25     uPC26  female  age  educ  inc_q  \n",
       "0     0.005436  0.011370  0.001798       1  5.0     2      2  \n",
       "1    -0.009483  0.008335 -0.003937       2  6.0     2      3  \n",
       "2     0.010879  0.000964 -0.000759       2  4.0     2      1  \n",
       "3     0.043237  0.004195 -0.013022       2  5.0     2      5  \n",
       "4    -0.003532  0.007869 -0.003773       2  3.0     2      5  \n",
       "...        ...       ...       ...     ...  ...   ...    ...  \n",
       "1005 -0.057801 -0.000247 -0.002128       2  2.0     2      3  \n",
       "1006  0.011701  0.003411  0.001926       2  2.0     3      5  \n",
       "1007 -0.017654  0.006111 -0.009182       2  4.0     1      4  \n",
       "1008  0.028063  0.001846 -0.007321       2  5.0     2      4  \n",
       "1009 -0.001012  0.007064 -0.004237       1  6.0     3      1  \n",
       "\n",
       "[1010 rows x 36 columns]"
      ]
     },
     "execution_count": 12,
     "metadata": {},
     "output_type": "execute_result"
    }
   ],
   "source": [
    "X = pd.concat([IND_a_index, IND_u_index, sup], axis=1)\n",
    "X"
   ]
  },
  {
   "cell_type": "code",
   "execution_count": 13,
   "id": "0be4f7aa",
   "metadata": {},
   "outputs": [],
   "source": [
    "X_train, X_test, y_train, y_test = train_test_split(X, y, test_size=0.2, random_state= 42)"
   ]
  },
  {
   "cell_type": "markdown",
   "id": "d9264604",
   "metadata": {},
   "source": [
    "## Logistic regression"
   ]
  },
  {
   "cell_type": "code",
   "execution_count": 14,
   "id": "a57aee6b",
   "metadata": {},
   "outputs": [
    {
     "name": "stdout",
     "output_type": "stream",
     "text": [
      "Fitting 5 folds for each of 1 candidates, totalling 5 fits\n"
     ]
    }
   ],
   "source": [
    "lr = LogisticRegression(solver='newton-cg', max_iter=200)\n",
    "\n",
    "#Setting the range for class weights\n",
    "weights= [.01* i for i in range(1, 101)]\n",
    "weights= list(product(weights, weights))\n",
    "\n",
    "#Creating a dictionary grid for grid search\n",
    "param_grid = {'class_weight': [{0: .31, 1: .96}], \n",
    "              'C': [i for i in range(1,2)]}\n",
    "\n",
    "#Fitting grid search to the train data with 5 folds\n",
    "grid_search_lr = GridSearchCV(estimator= lr, \n",
    "                          param_grid= param_grid,\n",
    "                          cv=StratifiedKFold(), \n",
    "                          n_jobs=-1, \n",
    "                          scoring='f1', \n",
    "                          verbose=2).fit(X_train, y_train)"
   ]
  },
  {
   "cell_type": "code",
   "execution_count": 15,
   "id": "8f7d453a",
   "metadata": {},
   "outputs": [
    {
     "name": "stdout",
     "output_type": "stream",
     "text": [
      "Best parameters: {'C': 1, 'class_weight': {0: 0.31, 1: 0.96}}\n",
      "Best score: 0.9343923316355405\n"
     ]
    }
   ],
   "source": [
    "print('Best parameters:', grid_search_lr.best_params_)\n",
    "print('Best score:', grid_search_lr.best_score_)"
   ]
  },
  {
   "cell_type": "code",
   "execution_count": 16,
   "id": "34f41b09",
   "metadata": {},
   "outputs": [
    {
     "name": "stdout",
     "output_type": "stream",
     "text": [
      "AUC: 0.9531004709576139\n",
      "              precision    recall  f1-score   support\n",
      "\n",
      "           0       1.00      0.81      0.89        98\n",
      "           1       0.85      1.00      0.92       104\n",
      "\n",
      "    accuracy                           0.91       202\n",
      "   macro avg       0.92      0.90      0.90       202\n",
      "weighted avg       0.92      0.91      0.90       202\n",
      "\n"
     ]
    }
   ],
   "source": [
    "best_lr = LogisticRegression(**grid_search_lr.best_params_)\n",
    "best_lr.fit(X_train, y_train)\n",
    "\n",
    "proba = best_lr.predict_proba(X_test)\n",
    "y_= proba[:,1]\n",
    "\n",
    "auc1 = roc_auc_score(y_test, y_, multi_class='auto')\n",
    "print('AUC:', auc1)\n",
    "\n",
    "# Calculate precision, recall, and F1-score\n",
    "target_names = [\"0\", \"1\"]\n",
    "treshold= 0.5\n",
    "y_pred = (y_ >= treshold).astype(int)\n",
    "print(classification_report(y_test, y_pred, target_names=target_names))"
   ]
  },
  {
   "cell_type": "code",
   "execution_count": 17,
   "id": "87068ff1",
   "metadata": {},
   "outputs": [
    {
     "data": {
      "image/png": "[encoded data removed]",
      "text/plain": [
       "<Figure size 576x396 with 2 Axes>"
      ]
     },
     "metadata": {},
     "output_type": "display_data"
    }
   ],
   "source": [
    "cm1 = confusion_matrix(y_test, y_pred)\n",
    "sns.heatmap(cm1, annot=True, fmt='d', cmap=\"Reds\")\n",
    "\n",
    "plt.xlabel('Predicted labels')\n",
    "plt.ylabel('True labels')\n",
    "plt.show()"
   ]
  },
  {
   "cell_type": "code",
   "execution_count": 18,
   "id": "10b8e498",
   "metadata": {},
   "outputs": [],
   "source": [
    "acc_1= accuracy_score(y_test, y_pred)\n",
    "pre_1= precision_score(y_test, y_pred)\n",
    "rec_1= recall_score(y_test, y_pred)\n",
    "f_1_1= f1_score(y_test, y_pred)"
   ]
  },
  {
   "cell_type": "code",
   "execution_count": 19,
   "id": "bc8fc819",
   "metadata": {},
   "outputs": [
    {
     "data": {
      "image/png": "[encoded data removed]",
      "text/plain": [
       "<Figure size 576x396 with 1 Axes>"
      ]
     },
     "metadata": {},
     "output_type": "display_data"
    }
   ],
   "source": [
    "fpr1, tpr1, thresholds = roc_curve(y_test, y_)\n",
    "\n",
    "# plot the ROC curve\n",
    "plt.plot(fpr1, tpr1, label='Logistic Regression')\n",
    "plt.plot([0, 1], [0, 1], linestyle='--', color= \"k\", label='Random guessing')\n",
    "plt.xlabel('False Positive Rate')\n",
    "plt.ylabel('True Positive Rate')\n",
    "plt.title('Receiver Operating Characteristic (ROC) Curve')\n",
    "plt.legend()\n",
    "plt.show()"
   ]
  },
  {
   "cell_type": "markdown",
   "id": "a2c6f0db",
   "metadata": {},
   "source": [
    "## Random Forest"
   ]
  },
  {
   "cell_type": "code",
   "execution_count": 20,
   "id": "164b9a93",
   "metadata": {},
   "outputs": [],
   "source": [
    "weights= [.01* i for i in range(1, 101)]\n",
    "weights= list(product(weights, weights))\n",
    "param_grid = {\n",
    "    'n_estimators': [87],\n",
    "    'max_depth': [7],\n",
    "    'min_samples_split': [2],\n",
    "    'min_samples_leaf': [2],\n",
    "    'max_features': ['sqrt'],\n",
    "    'class_weight': [{0: .18, 1: .69}]\n",
    "}\n",
    "rf = RandomForestClassifier(random_state= 42)"
   ]
  },
  {
   "cell_type": "code",
   "execution_count": 21,
   "id": "2d258bf5",
   "metadata": {},
   "outputs": [
    {
     "name": "stdout",
     "output_type": "stream",
     "text": [
      "Fitting 5 folds for each of 1 candidates, totalling 5 fits\n",
      "Best hyperparameters: {'class_weight': {0: 0.18, 1: 0.69}, 'max_depth': 7, 'max_features': 'sqrt', 'min_samples_leaf': 2, 'min_samples_split': 2, 'n_estimators': 87}\n",
      "Best score: 0.9232105674214569\n"
     ]
    }
   ],
   "source": [
    "grid_search_rf = GridSearchCV(estimator=rf, \n",
    "                           param_grid=param_grid, \n",
    "                           cv= StratifiedKFold(), \n",
    "                           scoring='f1', \n",
    "                           n_jobs=-1,\n",
    "                           verbose=2).fit(X_train, y_train)\n",
    "best_rf = RandomForestClassifier(**grid_search_rf.best_params_)\n",
    "best_rf.fit(X_train, y_train)\n",
    "y_pred = best_rf.predict(X_test)\n",
    "proba= best_rf.predict_proba(X_test)\n",
    "y_=proba[:,1]\n",
    "treshold= 0.5\n",
    "y_pred = (y_ >= treshold).astype(int)\n",
    "print(f'Best hyperparameters: {grid_search_rf.best_params_}')\n",
    "print('Best score:', grid_search_rf.best_score_)"
   ]
  },
  {
   "cell_type": "code",
   "execution_count": 22,
   "id": "4d601e6e",
   "metadata": {},
   "outputs": [
    {
     "name": "stdout",
     "output_type": "stream",
     "text": [
      "AUC: 0.9472135007849294\n",
      "              precision    recall  f1-score   support\n",
      "\n",
      "           0       0.95      0.77      0.85        98\n",
      "           1       0.81      0.96      0.88       104\n",
      "\n",
      "    accuracy                           0.87       202\n",
      "   macro avg       0.88      0.86      0.86       202\n",
      "weighted avg       0.88      0.87      0.86       202\n",
      "\n"
     ]
    }
   ],
   "source": [
    "auc2 = roc_auc_score(y_test, proba[:,1], multi_class='auto')\n",
    "print('AUC:', auc2)\n",
    "target_names = [\"0\", \"1\"]\n",
    "print(classification_report(y_test, y_pred, target_names=target_names))"
   ]
  },
  {
   "cell_type": "code",
   "execution_count": 23,
   "id": "a9c4e7dc",
   "metadata": {},
   "outputs": [
    {
     "data": {
      "image/png": "[encoded data removed]",
      "text/plain": [
       "<Figure size 576x396 with 2 Axes>"
      ]
     },
     "metadata": {},
     "output_type": "display_data"
    }
   ],
   "source": [
    "cm2 = confusion_matrix(y_test, y_pred)\n",
    "sns.heatmap(cm2, annot=True, fmt='d', cmap=\"Reds\")\n",
    "\n",
    "plt.xlabel('Predicted labels')\n",
    "plt.ylabel('True labels')\n",
    "plt.show()"
   ]
  },
  {
   "cell_type": "code",
   "execution_count": 24,
   "id": "797bced4",
   "metadata": {},
   "outputs": [],
   "source": [
    "acc_2= accuracy_score(y_test, y_pred)\n",
    "pre_2= precision_score(y_test, y_pred)\n",
    "rec_2= recall_score(y_test, y_pred)\n",
    "f_1_2= f1_score(y_test, y_pred)"
   ]
  },
  {
   "cell_type": "code",
   "execution_count": 25,
   "id": "10eaca9e",
   "metadata": {},
   "outputs": [
    {
     "data": {
      "image/png": "[encoded data removed]",
      "text/plain": [
       "<Figure size 576x396 with 1 Axes>"
      ]
     },
     "metadata": {},
     "output_type": "display_data"
    }
   ],
   "source": [
    "fpr2, tpr2, thresholds = roc_curve(y_test, y_)\n",
    "\n",
    "# plot the ROC curve\n",
    "plt.plot(fpr1, tpr1, label='Logistic Regression')\n",
    "plt.plot(fpr2, tpr2, label='Random Forest')\n",
    "plt.plot([0, 1], [0, 1], linestyle='--', color= \"k\", label='Random guessing')\n",
    "plt.xlabel('False Positive Rate')\n",
    "plt.ylabel('True Positive Rate')\n",
    "plt.title('Receiver Operating Characteristic (ROC) Curve')\n",
    "plt.legend()\n",
    "plt.show()"
   ]
  },
  {
   "cell_type": "markdown",
   "id": "c9811edb",
   "metadata": {},
   "source": [
    "## XG Boost"
   ]
  },
  {
   "cell_type": "code",
   "execution_count": 26,
   "id": "732b4b50",
   "metadata": {},
   "outputs": [],
   "source": [
    "neg = y_train.value_counts()[0]\n",
    "pos = y_train.value_counts()[1]\n",
    "scale_pos_weight = neg / pos"
   ]
  },
  {
   "cell_type": "code",
   "execution_count": 27,
   "id": "c5744583",
   "metadata": {},
   "outputs": [
    {
     "name": "stdout",
     "output_type": "stream",
     "text": [
      "Fitting 5 folds for each of 1 candidates, totalling 5 fits\n",
      "Best hyperparameters:  {'colsample_bytree': 0.5, 'learning_rate': 0.1, 'max_depth': 10, 'n_estimators': 376, 'reg_alpha': 0.5, 'reg_lambda': 0.1, 'subsample': 0.5}\n",
      "Best F1 score:  0.9370099374386829\n"
     ]
    }
   ],
   "source": [
    "xgb = XGBClassifier(scale_pos_weight=scale_pos_weight)\n",
    "param_grid = {\n",
    "    'max_depth': [10],\n",
    "    'learning_rate': [.1],\n",
    "    'n_estimators': [376],\n",
    "    'subsample': [0.5],\n",
    "    'colsample_bytree': [0.5],\n",
    "    'reg_alpha': [0.5],\n",
    "    'reg_lambda': [0.1],\n",
    "}\n",
    "grid_search_xgb = GridSearchCV(estimator=xgb, \n",
    "                           param_grid=param_grid, \n",
    "                           cv= StratifiedKFold(), \n",
    "                           scoring='f1', \n",
    "                           n_jobs=-1,\n",
    "                           verbose=2).fit(X_train, y_train)\n",
    "print(\"Best hyperparameters: \", grid_search_xgb.best_params_)\n",
    "print(\"Best F1 score: \", grid_search_xgb.best_score_)"
   ]
  },
  {
   "cell_type": "code",
   "execution_count": 28,
   "id": "7fe3fb50",
   "metadata": {},
   "outputs": [],
   "source": [
    "best_xgb = XGBClassifier(**grid_search_xgb.best_params_)\n",
    "best_xgb.fit(X_train, y_train)\n",
    "y_pred = best_xgb.predict(X_test)\n",
    "proba = best_xgb.predict_proba(X_test)\n",
    "y_= proba[:,1]"
   ]
  },
  {
   "cell_type": "code",
   "execution_count": 29,
   "id": "3c0c48e4",
   "metadata": {},
   "outputs": [
    {
     "name": "stdout",
     "output_type": "stream",
     "text": [
      "AUC: 0.9552590266875981\n",
      "              precision    recall  f1-score   support\n",
      "\n",
      "           0       0.95      0.84      0.89        98\n",
      "           1       0.86      0.96      0.91       104\n",
      "\n",
      "    accuracy                           0.90       202\n",
      "   macro avg       0.91      0.90      0.90       202\n",
      "weighted avg       0.91      0.90      0.90       202\n",
      "\n"
     ]
    }
   ],
   "source": [
    "auc3 = roc_auc_score(y_test, y_, multi_class='auto')\n",
    "print('AUC:', auc3)\n",
    "target_names = [\"0\", \"1\"]\n",
    "print(classification_report(y_test, y_pred, target_names=target_names))"
   ]
  },
  {
   "cell_type": "code",
   "execution_count": 30,
   "id": "9db49371",
   "metadata": {},
   "outputs": [
    {
     "data": {
      "image/png": "[encoded data removed]",
      "text/plain": [
       "<Figure size 576x396 with 2 Axes>"
      ]
     },
     "metadata": {},
     "output_type": "display_data"
    }
   ],
   "source": [
    "cm3 = confusion_matrix(y_test, y_pred)\n",
    "sns.heatmap(cm3, annot=True, fmt='d', cmap=\"Reds\")\n",
    "\n",
    "plt.xlabel('Predicted labels')\n",
    "plt.ylabel('True labels')\n",
    "plt.show()"
   ]
  },
  {
   "cell_type": "code",
   "execution_count": 31,
   "id": "3730b328",
   "metadata": {},
   "outputs": [],
   "source": [
    "acc_3= accuracy_score(y_test, y_pred)\n",
    "pre_3= precision_score(y_test, y_pred)\n",
    "rec_3= recall_score(y_test, y_pred)\n",
    "f_1_3= f1_score(y_test, y_pred)"
   ]
  },
  {
   "cell_type": "code",
   "execution_count": 32,
   "id": "fe173a0b",
   "metadata": {},
   "outputs": [
    {
     "data": {
      "image/png": "[encoded data removed]",
      "text/plain": [
       "<Figure size 576x396 with 1 Axes>"
      ]
     },
     "metadata": {},
     "output_type": "display_data"
    }
   ],
   "source": [
    "fpr3, tpr3, thresholds = roc_curve(y_test, y_)\n",
    "\n",
    "# plot the ROC curve\n",
    "plt.plot(fpr1, tpr1, label='Logistic Regression')\n",
    "plt.plot(fpr2, tpr2, label='Random Forest')\n",
    "plt.plot(fpr3, tpr3, label='XG Boost')\n",
    "plt.plot([0, 1], [0, 1], linestyle='--', color= \"k\", label='Random guessing')\n",
    "plt.xlabel('False Positive Rate')\n",
    "plt.ylabel('True Positive Rate')\n",
    "plt.title('Receiver Operating Characteristic (ROC) Curve')\n",
    "plt.legend()\n",
    "plt.show()"
   ]
  },
  {
   "cell_type": "markdown",
   "id": "18b6c441",
   "metadata": {},
   "source": [
    "## Artificial Neural Network"
   ]
  },
  {
   "cell_type": "code",
   "execution_count": 33,
   "id": "5559b5c4",
   "metadata": {},
   "outputs": [],
   "source": [
    "ann = tf.keras.Sequential([\n",
    "    tf.keras.layers.Dense(64, activation='relu', input_shape=(X_train.shape[1],)),\n",
    "    tf.keras.layers.Dense(32, activation='relu'),\n",
    "    tf.keras.layers.Dense(1, activation='sigmoid')\n",
    "])"
   ]
  },
  {
   "cell_type": "code",
   "execution_count": 34,
   "id": "3d3de990",
   "metadata": {},
   "outputs": [],
   "source": [
    "ann.compile(optimizer='adam',\n",
    "              loss='binary_crossentropy',\n",
    "              metrics=[tf.keras.metrics.Precision(), tf.keras.metrics.Recall()])"
   ]
  },
  {
   "cell_type": "code",
   "execution_count": 35,
   "id": "ac9de334",
   "metadata": {
    "scrolled": true
   },
   "outputs": [
    {
     "name": "stdout",
     "output_type": "stream",
     "text": [
      "Epoch 1/50\n",
      "21/21 [==============================] - 2s 14ms/step - loss: 0.6884 - precision: 0.5640 - recall: 0.7090 - val_loss: 0.5942 - val_precision: 0.7255 - val_recall: 0.8409\n",
      "Epoch 2/50\n",
      "21/21 [==============================] - 0s 3ms/step - loss: 0.5592 - precision: 0.7358 - recall: 0.9124 - val_loss: 0.4930 - val_precision: 0.8537 - val_recall: 0.7955\n",
      "Epoch 3/50\n",
      "21/21 [==============================] - 0s 3ms/step - loss: 0.4779 - precision: 0.8256 - recall: 0.8023 - val_loss: 0.4355 - val_precision: 0.7788 - val_recall: 0.9205\n",
      "Epoch 4/50\n",
      "21/21 [==============================] - 0s 3ms/step - loss: 0.4217 - precision: 0.8123 - recall: 0.8927 - val_loss: 0.3744 - val_precision: 0.8478 - val_recall: 0.8864\n",
      "Epoch 5/50\n",
      "21/21 [==============================] - 0s 3ms/step - loss: 0.3738 - precision: 0.8431 - recall: 0.8955 - val_loss: 0.3544 - val_precision: 0.8137 - val_recall: 0.9432\n",
      "Epoch 6/50\n",
      "21/21 [==============================] - 0s 3ms/step - loss: 0.3394 - precision: 0.8571 - recall: 0.9153 - val_loss: 0.3077 - val_precision: 0.8723 - val_recall: 0.9318\n",
      "Epoch 7/50\n",
      "21/21 [==============================] - 0s 3ms/step - loss: 0.3028 - precision: 0.8892 - recall: 0.9294 - val_loss: 0.2814 - val_precision: 0.8737 - val_recall: 0.9432\n",
      "Epoch 8/50\n",
      "21/21 [==============================] - 0s 3ms/step - loss: 0.2726 - precision: 0.8814 - recall: 0.9661 - val_loss: 0.2561 - val_precision: 0.9310 - val_recall: 0.9205\n",
      "Epoch 9/50\n",
      "21/21 [==============================] - 0s 3ms/step - loss: 0.2465 - precision: 0.9176 - recall: 0.9746 - val_loss: 0.2396 - val_precision: 0.9326 - val_recall: 0.9432\n",
      "Epoch 10/50\n",
      "21/21 [==============================] - 0s 4ms/step - loss: 0.2220 - precision: 0.9229 - recall: 0.9802 - val_loss: 0.2204 - val_precision: 0.9326 - val_recall: 0.9432\n",
      "Epoch 11/50\n",
      "21/21 [==============================] - 0s 4ms/step - loss: 0.2033 - precision: 0.9257 - recall: 0.9859 - val_loss: 0.2173 - val_precision: 0.9318 - val_recall: 0.9318\n",
      "Epoch 12/50\n",
      "21/21 [==============================] - 0s 4ms/step - loss: 0.1886 - precision: 0.9280 - recall: 0.9831 - val_loss: 0.1997 - val_precision: 0.9355 - val_recall: 0.9886\n",
      "Epoch 13/50\n",
      "21/21 [==============================] - 0s 4ms/step - loss: 0.1778 - precision: 0.9259 - recall: 0.9887 - val_loss: 0.1928 - val_precision: 0.9355 - val_recall: 0.9886\n",
      "Epoch 14/50\n",
      "21/21 [==============================] - 0s 3ms/step - loss: 0.1721 - precision: 0.9284 - recall: 0.9887 - val_loss: 0.1857 - val_precision: 0.9348 - val_recall: 0.9773\n",
      "Epoch 15/50\n",
      "21/21 [==============================] - 0s 4ms/step - loss: 0.1706 - precision: 0.9259 - recall: 0.9887 - val_loss: 0.1805 - val_precision: 0.9348 - val_recall: 0.9773\n",
      "Epoch 16/50\n",
      "21/21 [==============================] - 0s 4ms/step - loss: 0.1628 - precision: 0.9259 - recall: 0.9887 - val_loss: 0.1861 - val_precision: 0.9341 - val_recall: 0.9659\n",
      "Epoch 17/50\n",
      "21/21 [==============================] - 0s 4ms/step - loss: 0.1537 - precision: 0.9307 - recall: 0.9859 - val_loss: 0.1894 - val_precision: 0.9355 - val_recall: 0.9886\n",
      "Epoch 18/50\n",
      "21/21 [==============================] - 0s 4ms/step - loss: 0.1530 - precision: 0.9328 - recall: 0.9802 - val_loss: 0.1806 - val_precision: 0.9348 - val_recall: 0.9773\n",
      "Epoch 19/50\n",
      "21/21 [==============================] - 0s 4ms/step - loss: 0.1524 - precision: 0.9286 - recall: 0.9915 - val_loss: 0.1854 - val_precision: 0.9341 - val_recall: 0.9659\n",
      "Epoch 20/50\n",
      "21/21 [==============================] - 0s 3ms/step - loss: 0.1441 - precision: 0.9286 - recall: 0.9915 - val_loss: 0.1854 - val_precision: 0.9341 - val_recall: 0.9659\n",
      "Epoch 21/50\n",
      "21/21 [==============================] - 0s 4ms/step - loss: 0.1370 - precision: 0.9333 - recall: 0.9887 - val_loss: 0.1794 - val_precision: 0.9341 - val_recall: 0.9659\n",
      "Epoch 22/50\n",
      "21/21 [==============================] - 0s 3ms/step - loss: 0.1379 - precision: 0.9309 - recall: 0.9887 - val_loss: 0.1856 - val_precision: 0.9348 - val_recall: 0.9773\n",
      "Epoch 23/50\n",
      "21/21 [==============================] - 0s 4ms/step - loss: 0.1380 - precision: 0.9288 - recall: 0.9944 - val_loss: 0.1833 - val_precision: 0.9341 - val_recall: 0.9659\n",
      "Epoch 24/50\n",
      "21/21 [==============================] - 0s 3ms/step - loss: 0.1330 - precision: 0.9291 - recall: 1.0000 - val_loss: 0.1937 - val_precision: 0.9341 - val_recall: 0.9659\n",
      "Epoch 25/50\n",
      "21/21 [==============================] - 0s 3ms/step - loss: 0.1373 - precision: 0.9385 - recall: 0.9915 - val_loss: 0.1803 - val_precision: 0.9341 - val_recall: 0.9659\n",
      "Epoch 26/50\n",
      "21/21 [==============================] - 0s 3ms/step - loss: 0.1285 - precision: 0.9388 - recall: 0.9972 - val_loss: 0.1860 - val_precision: 0.9348 - val_recall: 0.9773\n",
      "Epoch 27/50\n",
      "21/21 [==============================] - 0s 3ms/step - loss: 0.1330 - precision: 0.9385 - recall: 0.9915 - val_loss: 0.1850 - val_precision: 0.9341 - val_recall: 0.9659\n",
      "Epoch 28/50\n",
      "21/21 [==============================] - 0s 3ms/step - loss: 0.1267 - precision: 0.9267 - recall: 1.0000 - val_loss: 0.1957 - val_precision: 0.9341 - val_recall: 0.9659\n",
      "Epoch 29/50\n",
      "21/21 [==============================] - 0s 3ms/step - loss: 0.1232 - precision: 0.9337 - recall: 0.9944 - val_loss: 0.1843 - val_precision: 0.9341 - val_recall: 0.9659\n",
      "Epoch 30/50\n",
      "21/21 [==============================] - 0s 3ms/step - loss: 0.1181 - precision: 0.9390 - recall: 1.0000 - val_loss: 0.1865 - val_precision: 0.9341 - val_recall: 0.9659\n",
      "Epoch 31/50\n",
      "21/21 [==============================] - 0s 3ms/step - loss: 0.1150 - precision: 0.9365 - recall: 1.0000 - val_loss: 0.1907 - val_precision: 0.9341 - val_recall: 0.9659\n",
      "Epoch 32/50\n",
      "21/21 [==============================] - 0s 3ms/step - loss: 0.1147 - precision: 0.9388 - recall: 0.9972 - val_loss: 0.1874 - val_precision: 0.9341 - val_recall: 0.9659\n",
      "Epoch 33/50\n",
      "21/21 [==============================] - 0s 4ms/step - loss: 0.1136 - precision: 0.9415 - recall: 1.0000 - val_loss: 0.1935 - val_precision: 0.9341 - val_recall: 0.9659\n",
      "Epoch 34/50\n",
      "21/21 [==============================] - 0s 3ms/step - loss: 0.1140 - precision: 0.9388 - recall: 0.9972 - val_loss: 0.1947 - val_precision: 0.9341 - val_recall: 0.9659\n",
      "Epoch 35/50\n",
      "21/21 [==============================] - 0s 4ms/step - loss: 0.1208 - precision: 0.9358 - recall: 0.9887 - val_loss: 0.1869 - val_precision: 0.9341 - val_recall: 0.9659\n",
      "Epoch 36/50\n",
      "21/21 [==============================] - 0s 3ms/step - loss: 0.1163 - precision: 0.9388 - recall: 0.9972 - val_loss: 0.1962 - val_precision: 0.9341 - val_recall: 0.9659\n",
      "Epoch 37/50\n",
      "21/21 [==============================] - 0s 4ms/step - loss: 0.1184 - precision: 0.9387 - recall: 0.9944 - val_loss: 0.1973 - val_precision: 0.9341 - val_recall: 0.9659\n",
      "Epoch 38/50\n",
      "21/21 [==============================] - 0s 3ms/step - loss: 0.1099 - precision: 0.9435 - recall: 0.9915 - val_loss: 0.1984 - val_precision: 0.9348 - val_recall: 0.9773\n",
      "Epoch 39/50\n",
      "21/21 [==============================] - 0s 3ms/step - loss: 0.1053 - precision: 0.9464 - recall: 0.9972 - val_loss: 0.2080 - val_precision: 0.9333 - val_recall: 0.9545\n",
      "Epoch 40/50\n",
      "21/21 [==============================] - 0s 3ms/step - loss: 0.0994 - precision: 0.9465 - recall: 1.0000 - val_loss: 0.1937 - val_precision: 0.9341 - val_recall: 0.9659\n",
      "Epoch 41/50\n",
      "21/21 [==============================] - 0s 3ms/step - loss: 0.1077 - precision: 0.9440 - recall: 1.0000 - val_loss: 0.1934 - val_precision: 0.9341 - val_recall: 0.9659\n",
      "Epoch 42/50\n",
      "21/21 [==============================] - 0s 3ms/step - loss: 0.1008 - precision: 0.9491 - recall: 1.0000 - val_loss: 0.2046 - val_precision: 0.9333 - val_recall: 0.9545\n",
      "Epoch 43/50\n",
      "21/21 [==============================] - 0s 3ms/step - loss: 0.1038 - precision: 0.9539 - recall: 0.9944 - val_loss: 0.2010 - val_precision: 0.9341 - val_recall: 0.9659\n",
      "Epoch 44/50\n",
      "21/21 [==============================] - 0s 3ms/step - loss: 0.0984 - precision: 0.9489 - recall: 0.9972 - val_loss: 0.1995 - val_precision: 0.9341 - val_recall: 0.9659\n",
      "Epoch 45/50\n",
      "21/21 [==============================] - 0s 11ms/step - loss: 0.0959 - precision: 0.9465 - recall: 1.0000 - val_loss: 0.1966 - val_precision: 0.9341 - val_recall: 0.9659\n",
      "Epoch 46/50\n"
     ]
    },
    {
     "name": "stdout",
     "output_type": "stream",
     "text": [
      "21/21 [==============================] - 0s 3ms/step - loss: 0.0941 - precision: 0.9491 - recall: 1.0000 - val_loss: 0.2022 - val_precision: 0.9341 - val_recall: 0.9659\n",
      "Epoch 47/50\n",
      "21/21 [==============================] - 0s 3ms/step - loss: 0.0943 - precision: 0.9489 - recall: 0.9972 - val_loss: 0.2057 - val_precision: 0.9341 - val_recall: 0.9659\n",
      "Epoch 48/50\n",
      "21/21 [==============================] - 0s 4ms/step - loss: 0.0924 - precision: 0.9464 - recall: 0.9972 - val_loss: 0.2049 - val_precision: 0.9341 - val_recall: 0.9659\n",
      "Epoch 49/50\n",
      "21/21 [==============================] - 0s 3ms/step - loss: 0.0945 - precision: 0.9491 - recall: 1.0000 - val_loss: 0.2222 - val_precision: 0.9326 - val_recall: 0.9432\n",
      "Epoch 50/50\n",
      "21/21 [==============================] - 0s 4ms/step - loss: 0.0902 - precision: 0.9491 - recall: 1.0000 - val_loss: 0.2200 - val_precision: 0.9333 - val_recall: 0.9545\n"
     ]
    }
   ],
   "source": [
    "history = ann.fit(X_train, y_train,\n",
    "                    epochs=50,\n",
    "                    batch_size=32,\n",
    "                    validation_split=0.2)"
   ]
  },
  {
   "cell_type": "code",
   "execution_count": 36,
   "id": "a62e0d84",
   "metadata": {},
   "outputs": [
    {
     "name": "stdout",
     "output_type": "stream",
     "text": [
      "7/7 [==============================] - 0s 2ms/step\n"
     ]
    }
   ],
   "source": [
    "y_ = ann.predict(X_test)"
   ]
  },
  {
   "cell_type": "code",
   "execution_count": 37,
   "id": "402f23d5",
   "metadata": {},
   "outputs": [],
   "source": [
    "y_= y_.reshape(y_.shape[0],)"
   ]
  },
  {
   "cell_type": "code",
   "execution_count": 38,
   "id": "524866e1",
   "metadata": {},
   "outputs": [],
   "source": [
    "y_pred= np.array([round(i) for i in y_])"
   ]
  },
  {
   "cell_type": "code",
   "execution_count": 39,
   "id": "48f86382",
   "metadata": {},
   "outputs": [
    {
     "name": "stdout",
     "output_type": "stream",
     "text": [
      "AUC: 0.9322017268445839\n",
      "              precision    recall  f1-score   support\n",
      "\n",
      "           0       0.99      0.85      0.91        98\n",
      "           1       0.87      0.99      0.93       104\n",
      "\n",
      "    accuracy                           0.92       202\n",
      "   macro avg       0.93      0.92      0.92       202\n",
      "weighted avg       0.93      0.92      0.92       202\n",
      "\n"
     ]
    }
   ],
   "source": [
    "auc4 = roc_auc_score(y_test, y_, multi_class='auto')\n",
    "print('AUC:', auc4)\n",
    "target_names = [\"0\", \"1\"]\n",
    "print(classification_report(y_test, y_pred, target_names=target_names))"
   ]
  },
  {
   "cell_type": "code",
   "execution_count": 40,
   "id": "8c4eb8f7",
   "metadata": {},
   "outputs": [
    {
     "data": {
      "image/png": "[encoded data removed]",
      "text/plain": [
       "<Figure size 576x396 with 2 Axes>"
      ]
     },
     "metadata": {},
     "output_type": "display_data"
    }
   ],
   "source": [
    "cm4 = confusion_matrix(y_test, y_pred)\n",
    "sns.heatmap(cm4, annot=True, fmt='d', cmap=\"Reds\")\n",
    "\n",
    "plt.xlabel('Predicted labels')\n",
    "plt.ylabel('True labels')\n",
    "plt.show()"
   ]
  },
  {
   "cell_type": "code",
   "execution_count": 41,
   "id": "d9157d91",
   "metadata": {},
   "outputs": [],
   "source": [
    "acc_4= accuracy_score(y_test, y_pred)\n",
    "pre_4= precision_score(y_test, y_pred)\n",
    "rec_4= recall_score(y_test, y_pred)\n",
    "f_1_4= f1_score(y_test, y_pred)"
   ]
  },
  {
   "cell_type": "code",
   "execution_count": 42,
   "id": "c3ba0a19",
   "metadata": {},
   "outputs": [
    {
     "data": {
      "image/png": "[encoded data removed]",
      "text/plain": [
       "<Figure size 576x576 with 1 Axes>"
      ]
     },
     "metadata": {},
     "output_type": "display_data"
    }
   ],
   "source": [
    "fpr4, tpr4, thresholds = roc_curve(y_test, y_)\n",
    "\n",
    "# plot the ROC curve\n",
    "plt.figure(figsize=(8,8))\n",
    "plt.plot(fpr1, tpr1, label='Logistic Regression', color= \"#ff007f\")\n",
    "plt.plot(fpr2, tpr2, label='Random Forest', color= \"#ff7f00\")\n",
    "plt.plot(fpr3, tpr3, label='XG Boost', color= \"#007fff\")\n",
    "plt.plot(fpr4, tpr4, label='FFNN', color= \"#7f00ff\")\n",
    "plt.plot([0, 1], [0, 1], linestyle='--', color= \"#000000\", label='Random guessing')\n",
    "plt.xlabel('False Positive Rate')\n",
    "plt.ylabel('True Positive Rate')\n",
    "#plt.title('Receiver Operating Characteristic (ROC) Curve')\n",
    "plt.legend(fontsize=16)\n",
    "plt.savefig(\"../../images/roc_jap.png\")\n",
    "plt.show()"
   ]
  },
  {
   "cell_type": "markdown",
   "id": "90641fce",
   "metadata": {},
   "source": [
    "## Model Evaluations"
   ]
  },
  {
   "cell_type": "code",
   "execution_count": 43,
   "id": "5c0e4bb8",
   "metadata": {},
   "outputs": [
    {
     "name": "stdout",
     "output_type": "stream",
     "text": [
      "\\begin{tabular}{lrrrr}\n",
      "\\toprule\n",
      "  Metrics &     LR &     RF &    XGB &   FFNN \\\\\n",
      "\\midrule\n",
      " Accuracy & 0.9059 & 0.8663 & 0.9010 & 0.9208 \\\\\n",
      "   Recall & 1.0000 & 0.9615 & 0.9615 & 0.9904 \\\\\n",
      "Precision & 0.8455 & 0.8130 & 0.8621 & 0.8729 \\\\\n",
      " F1-Score & 0.9163 & 0.8811 & 0.9091 & 0.9279 \\\\\n",
      "      AUC & 0.9531 & 0.9472 & 0.9553 & 0.9322 \\\\\n",
      "\\bottomrule\n",
      "\\end{tabular}\n",
      "\n"
     ]
    },
    {
     "name": "stderr",
     "output_type": "stream",
     "text": [
      "In future versions `DataFrame.to_latex` is expected to utilise the base implementation of `Styler.to_latex` for formatting and rendering. The arguments signature may therefore change. It is recommended instead to use `DataFrame.style.to_latex` which also contains additional functionality.\n"
     ]
    }
   ],
   "source": [
    "data= {\"Metrics\":[\"Accuracy\", \"Recall\", \"Precision\", \"F1-Score\", \"AUC\"],\n",
    "       \"LR\":[round(acc_1,4), round(rec_1,4), round(pre_1,4), round(f_1_1,4), round(auc1,4)], \n",
    "       \"RF\":[round(acc_2,4), round(rec_2,4), round(pre_2,4), round(f_1_2,4), round(auc2,4)], \n",
    "       \"XGB\":[round(acc_3,4), round(rec_3,4), round(pre_3,4), round(f_1_3,4), round(auc3,4)], \n",
    "       \"FFNN\":[round(acc_4,4), round(rec_4,4), round(pre_4,4), round(f_1_4,4), round(auc4,4)]}\n",
    "df = pd.DataFrame(data)\n",
    "latex_code = df.to_latex(index=False)\n",
    "\n",
    "# Print the LaTeX code\n",
    "print(latex_code)"
   ]
  },
  {
   "cell_type": "markdown",
   "id": "94627aa2",
   "metadata": {},
   "source": [
    "## Build the index"
   ]
  },
  {
   "cell_type": "code",
   "execution_count": 44,
   "id": "182e67eb",
   "metadata": {},
   "outputs": [],
   "source": [
    "eig_a= mca_a.eigenvalues_\n",
    "IND_a_index[\"access\"]= sum([IND_a_index[IND_a_index.columns[i]]*eig_a[i] for i in range(len(eig_a))])\n",
    "eig_u= mca_u.eigenvalues_\n",
    "IND_u_index[\"usage\"]= sum([IND_u_index[IND_u_index.columns[i]]*eig_u[i] for i in range(len(eig_u)) ])"
   ]
  },
  {
   "cell_type": "code",
   "execution_count": 45,
   "id": "18d35418",
   "metadata": {},
   "outputs": [],
   "source": [
    "IND_fin= pd.concat([IND_a_index[\"access\"], IND_u_index[\"usage\"], sup, y], axis=1)"
   ]
  },
  {
   "cell_type": "code",
   "execution_count": 46,
   "id": "c75d386c",
   "metadata": {},
   "outputs": [
    {
     "data": {
      "text/plain": [
       "(-0.31973591688749975, 6.792812362976406, 0.027382413565785486)"
      ]
     },
     "execution_count": 46,
     "metadata": {},
     "output_type": "execute_result"
    }
   ],
   "source": [
    "IND_fin[\"access\"]= IND_fin[\"access\"]*w\n",
    "min(IND_fin[\"access\"]), max(IND_fin[\"access\"]), mean(IND_fin[\"access\"])"
   ]
  },
  {
   "cell_type": "code",
   "execution_count": 47,
   "id": "035e80c1",
   "metadata": {},
   "outputs": [],
   "source": [
    "IND_fin[\"access\"] -= min(IND_fin[\"access\"])\n",
    "IND_fin[\"access\"] /= max(IND_fin[\"access\"])"
   ]
  },
  {
   "cell_type": "code",
   "execution_count": 48,
   "id": "5e216f52",
   "metadata": {},
   "outputs": [
    {
     "data": {
      "text/plain": [
       "(0.0, 1.0, 0.048803651911369116)"
      ]
     },
     "execution_count": 48,
     "metadata": {},
     "output_type": "execute_result"
    }
   ],
   "source": [
    "min(IND_fin[\"access\"]), max(IND_fin[\"access\"]), mean(IND_fin[\"access\"])"
   ]
  },
  {
   "cell_type": "code",
   "execution_count": 49,
   "id": "4c56aa08",
   "metadata": {},
   "outputs": [
    {
     "data": {
      "text/plain": [
       "(-0.3101831664182642, 0.5915014005314202, -0.0009025639838140492)"
      ]
     },
     "execution_count": 49,
     "metadata": {},
     "output_type": "execute_result"
    }
   ],
   "source": [
    "IND_fin[\"usage\"]= IND_fin[\"usage\"]*w\n",
    "min(IND_fin[\"usage\"]), max(IND_fin[\"usage\"]), mean(IND_fin[\"usage\"])"
   ]
  },
  {
   "cell_type": "code",
   "execution_count": 50,
   "id": "4fd4a079",
   "metadata": {},
   "outputs": [],
   "source": [
    "IND_fin[\"usage\"] -= min(IND_fin[\"usage\"])\n",
    "IND_fin[\"usage\"] /= max(IND_fin[\"usage\"])"
   ]
  },
  {
   "cell_type": "code",
   "execution_count": 51,
   "id": "6ad5993f",
   "metadata": {},
   "outputs": [],
   "source": [
    "IND_fin[\"access\"] = 1- IND_fin[\"access\"]\n",
    "IND_fin[\"usage\"] = 1- IND_fin[\"usage\"]"
   ]
  },
  {
   "cell_type": "code",
   "execution_count": 52,
   "id": "118015a8",
   "metadata": {},
   "outputs": [],
   "source": [
    "IND_fin[\"index\"]= (IND_fin['access'] + IND_fin['usage'])/2"
   ]
  },
  {
   "cell_type": "code",
   "execution_count": 53,
   "id": "01e10df2",
   "metadata": {},
   "outputs": [],
   "source": [
    "fin_0= IND_fin[IND_fin[\"fin34a\"]==0].copy()\n",
    "fin_1= IND_fin[IND_fin[\"fin34a\"]==1].copy()"
   ]
  },
  {
   "cell_type": "code",
   "execution_count": 54,
   "id": "90315d63",
   "metadata": {},
   "outputs": [
    {
     "data": {
      "image/png": "[encoded data removed]",
      "text/plain": [
       "<Figure size 576x576 with 1 Axes>"
      ]
     },
     "metadata": {},
     "output_type": "display_data"
    }
   ],
   "source": [
    "plt.figure(figsize=(8,8))\n",
    "plt.scatter(fin_0[\"access\"], fin_0[\"usage\"], label= \"No digital wage\", s=32, color=\"#ff0000\",\n",
    "            marker='.')\n",
    "plt.scatter(fin_1[\"access\"], fin_1[\"usage\"], label= \"Digital wage\", s=32, color=\"#0000ff\",\n",
    "            marker='.')\n",
    "plt.xlabel(\"access\")\n",
    "plt.ylabel(\"usage\")\n",
    "plt.legend()\n",
    "#plt.xlim([0.25,1.05])\n",
    "#plt.ylim([-0.05,.75])\n",
    "plt.savefig('../../images/find_jap')\n",
    "plt.show()"
   ]
  },
  {
   "cell_type": "code",
   "execution_count": 55,
   "id": "4ad1b649",
   "metadata": {},
   "outputs": [
    {
     "data": {
      "text/plain": [
       "count    1010.000000\n",
       "mean        0.951196\n",
       "std         0.063998\n",
       "min         0.000000\n",
       "25%         0.960074\n",
       "50%         0.963459\n",
       "75%         0.968240\n",
       "max         1.000000\n",
       "Name: access, dtype: float64"
      ]
     },
     "execution_count": 55,
     "metadata": {},
     "output_type": "execute_result"
    }
   ],
   "source": [
    "IND_fin['access'].describe()"
   ]
  },
  {
   "cell_type": "code",
   "execution_count": 56,
   "id": "25a32950",
   "metadata": {},
   "outputs": [
    {
     "data": {
      "text/plain": [
       "count    1010.000000\n",
       "mean        0.656997\n",
       "std         0.096265\n",
       "min         0.000000\n",
       "25%         0.617376\n",
       "50%         0.656630\n",
       "75%         0.715641\n",
       "max         1.000000\n",
       "Name: usage, dtype: float64"
      ]
     },
     "execution_count": 56,
     "metadata": {},
     "output_type": "execute_result"
    }
   ],
   "source": [
    "IND_fin['usage'].describe()"
   ]
  },
  {
   "cell_type": "code",
   "execution_count": 57,
   "id": "3546ebd9",
   "metadata": {},
   "outputs": [
    {
     "data": {
      "image/png": "[encoded data removed]",
      "text/plain": [
       "<Figure size 576x576 with 1 Axes>"
      ]
     },
     "metadata": {},
     "output_type": "display_data"
    }
   ],
   "source": [
    "colors = [\"#ff0000\", \"#0000ff\"]\n",
    "plt.figure(figsize=(8, 8))\n",
    "sns.violinplot(x='fin34a', y='index', data=IND_fin, palette= colors)\n",
    "custom_category_names = ['No digital wages', 'Digital wages']\n",
    "plt.xticks(range(len(custom_category_names)), custom_category_names, fontsize=16)\n",
    "plt.xlabel('')\n",
    "plt.ylabel('Financial Inclusion Index', fontsize=16)\n",
    "\n",
    "plt.savefig('../../images/ind_jap')\n",
    "\n",
    "# Show the plot\n",
    "plt.show()"
   ]
  },
  {
   "cell_type": "code",
   "execution_count": 58,
   "id": "e1e70021",
   "metadata": {},
   "outputs": [
    {
     "data": {
      "image/png": "[encoded data removed]",
      "text/plain": [
       "<Figure size 576x576 with 4 Axes>"
      ]
     },
     "metadata": {},
     "output_type": "display_data"
    }
   ],
   "source": [
    "fig, axes = plt.subplots(nrows=2, ncols=2, figsize=(8, 8))\n",
    "cm= [cm1, cm2, cm3, cm4]\n",
    "mods= [\"Logistic Regression\", \"Random Forest\", \"XG Boost\", \"FFNN\"]\n",
    "# Compute and plot confusion matrices\n",
    "\n",
    "\n",
    "for i, ax in enumerate(axes.flatten()):\n",
    "    sns.heatmap(cm[i], annot=True, cmap=\"Purples\", fmt='d', ax=ax, cbar=False, \n",
    "                annot_kws={\"fontsize\": 32})\n",
    "    ax.set_title(f\"{mods[i]}\", fontsize=16)\n",
    "    ax.set_xlabel(\"Predicted Labels\", fontsize=16)\n",
    "    ax.set_ylabel(\"True Labels\", fontsize=16)\n",
    "\n",
    "# Adjust subplot spacing\n",
    "plt.tight_layout()\n",
    "plt.savefig('../../images/comat_jap.png')\n",
    "# Display the plot\n",
    "plt.show()"
   ]
  },
  {
   "cell_type": "markdown",
   "id": "93f488cb",
   "metadata": {},
   "source": [
    "## Feature Importance"
   ]
  },
  {
   "cell_type": "code",
   "execution_count": 67,
   "id": "0d724209",
   "metadata": {},
   "outputs": [
    {
     "data": {
      "image/png": "[encoded data removed]",
      "text/plain": [
       "<Figure size 576x684 with 2 Axes>"
      ]
     },
     "metadata": {},
     "output_type": "display_data"
    }
   ],
   "source": [
    "explainer = shap.Explainer(best_lr, X_train)\n",
    "\n",
    "# calculate shap values. This is what we will plot.\n",
    "# Calculate shap_values for all of val_X rather than a single row, to have more data for plot.\n",
    "shap_values = explainer.shap_values(X_test)\n",
    "\n",
    "# Make plot. Index of [1] is explained in text below.\n",
    "shap.summary_plot(shap_values, X_test, cmap= \"jet\")"
   ]
  },
  {
   "cell_type": "code",
   "execution_count": 60,
   "id": "2ec13d26",
   "metadata": {},
   "outputs": [],
   "source": [
    "u= mca_u.column_contributions_\n",
    "u= u.rename(columns=new_column_names_u)\n",
    "a= mca_a.column_contributions_\n",
    "a= a.rename(columns=new_column_names_a)"
   ]
  },
  {
   "cell_type": "code",
   "execution_count": 61,
   "id": "e288703f",
   "metadata": {},
   "outputs": [
    {
     "data": {
      "image/png": "[encoded data removed]",
      "text/plain": [
       "<Figure size 720x720 with 2 Axes>"
      ]
     },
     "metadata": {},
     "output_type": "display_data"
    }
   ],
   "source": [
    "plt.figure(figsize=(10,10))\n",
    "sns.heatmap(u, annot=False, cmap=\"viridis_r\", cbar=True)#, annot_kws={\"fontsize\": 32})\n",
    "plt.savefig('../../images/us_jap.png')\n",
    "plt.show()"
   ]
  },
  {
   "cell_type": "code",
   "execution_count": 62,
   "id": "7bdd73b0",
   "metadata": {},
   "outputs": [
    {
     "data": {
      "image/png": "[encoded data removed]",
      "text/plain": [
       "<Figure size 720x720 with 2 Axes>"
      ]
     },
     "metadata": {},
     "output_type": "display_data"
    }
   ],
   "source": [
    "plt.figure(figsize=(10,10))\n",
    "sns.heatmap(a, annot=False, cmap=\"plasma_r\", cbar=True)#, annot_kws={\"fontsize\": 32})\n",
    "plt.savefig('../../images/acc_jap.png')\n",
    "plt.show()"
   ]
  },
  {
   "cell_type": "code",
   "execution_count": 63,
   "id": "906cd30c",
   "metadata": {},
   "outputs": [
    {
     "data": {
      "image/png": "[encoded data removed]",
      "text/plain": [
       "<Figure size 576x576 with 2 Axes>"
      ]
     },
     "metadata": {},
     "output_type": "display_data"
    }
   ],
   "source": [
    "fig, ax= plt.subplots(figsize=(8,8))\n",
    "shap.dependence_plot('age', shap_values, X_test, interaction_index=\"uPC1\", ax=ax)\n",
    "plt.show()"
   ]
  },
  {
   "cell_type": "code",
   "execution_count": 64,
   "id": "ff224a71",
   "metadata": {},
   "outputs": [
    {
     "data": {
      "image/png": "[encoded data removed]",
      "text/plain": [
       "<Figure size 576x576 with 2 Axes>"
      ]
     },
     "metadata": {},
     "output_type": "display_data"
    }
   ],
   "source": [
    "fig, ax= plt.subplots(figsize=(8,8))\n",
    "shap.dependence_plot('educ', shap_values, X_test, interaction_index=\"uPC1\", ax=ax)\n",
    "plt.show()"
   ]
  },
  {
   "cell_type": "code",
   "execution_count": 65,
   "id": "d2445a30",
   "metadata": {},
   "outputs": [
    {
     "data": {
      "image/png": "[encoded data removed]",
      "text/plain": [
       "<Figure size 576x576 with 2 Axes>"
      ]
     },
     "metadata": {},
     "output_type": "display_data"
    }
   ],
   "source": [
    "fig, ax= plt.subplots(figsize=(8,8))\n",
    "shap.dependence_plot('female', shap_values, X_test, interaction_index=\"uPC1\", ax=ax)\n",
    "plt.show()"
   ]
  },
  {
   "cell_type": "code",
   "execution_count": 66,
   "id": "cfca2dc7",
   "metadata": {},
   "outputs": [
    {
     "data": {
      "image/png": "[encoded data removed]",
      "text/plain": [
       "<Figure size 576x576 with 2 Axes>"
      ]
     },
     "metadata": {},
     "output_type": "display_data"
    }
   ],
   "source": [
    "fig, ax= plt.subplots(figsize=(8,8))\n",
    "shap.dependence_plot('inc_q', shap_values, X_test, interaction_index=\"uPC1\", ax=ax)\n",
    "plt.show()"
   ]
  },
  {
   "cell_type": "code",
   "execution_count": null,
   "id": "8fd19ec4",
   "metadata": {},
   "outputs": [],
   "source": []
  }
 ],
 "metadata": {
  "kernelspec": {
   "display_name": "Python 3 (ipykernel)",
   "language": "python",
   "name": "python3"
  },
  "language_info": {
   "codemirror_mode": {
    "name": "ipython",
    "version": 3
   },
   "file_extension": ".py",
   "mimetype": "text/x-python",
   "name": "python",
   "nbconvert_exporter": "python",
   "pygments_lexer": "ipython3",
   "version": "3.9.13"
  }
 },
 "nbformat": 4,
 "nbformat_minor": 5
}
