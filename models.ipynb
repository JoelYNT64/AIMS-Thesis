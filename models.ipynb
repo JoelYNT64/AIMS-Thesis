{
 "cells": [
  {
   "cell_type": "code",
   "execution_count": 63,
   "id": "627bf089",
   "metadata": {},
   "outputs": [],
   "source": [
    "import pandas as pd\n",
    "import matplotlib.pyplot as plt\n",
    "import numpy as np\n",
    "import prince\n",
    "from sklearn.preprocessing import OneHotEncoder"
   ]
  },
  {
   "cell_type": "markdown",
   "id": "c8b239d8",
   "metadata": {},
   "source": [
    "## Import the data"
   ]
  },
  {
   "cell_type": "code",
   "execution_count": 47,
   "id": "2f335dfe",
   "metadata": {},
   "outputs": [],
   "source": [
    "df1a= pd.read_csv('../Datasets/2021_access.csv')\n",
    "df1u= pd.read_csv('../Datasets/2021_usage.csv')"
   ]
  },
  {
   "cell_type": "code",
   "execution_count": 72,
   "id": "66b9f0be",
   "metadata": {},
   "outputs": [
    {
     "data": {
      "text/plain": [
       "Index(['economy', 'account_fin', 'account_mob', 'fin2', 'fin7', 'fin1_1a',\n",
       "       'fin1_1b', 'mobileowner', 'internetaccess', 'fin24', 'fin34a'],\n",
       "      dtype='object')"
      ]
     },
     "execution_count": 72,
     "metadata": {},
     "output_type": "execute_result"
    }
   ],
   "source": [
    "cmr_a= df1a[df1a[\"economy\"]==\"Cameroon\"].copy()\n",
    "cmr_a.columns"
   ]
  },
  {
   "cell_type": "code",
   "execution_count": 73,
   "id": "54da2472",
   "metadata": {},
   "outputs": [],
   "source": [
    "X= cmr_a[cmr_a.columns[1:10]].copy()\n",
    "X = X.astype(int)"
   ]
  },
  {
   "cell_type": "markdown",
   "id": "23fc1128",
   "metadata": {},
   "source": [
    "## Implementing MCA"
   ]
  },
  {
   "cell_type": "code",
   "execution_count": 82,
   "id": "88d9337a",
   "metadata": {},
   "outputs": [
    {
     "data": {
      "text/html": [
       "<div>\n",
       "<style scoped>\n",
       "    .dataframe tbody tr th:only-of-type {\n",
       "        vertical-align: middle;\n",
       "    }\n",
       "\n",
       "    .dataframe tbody tr th {\n",
       "        vertical-align: top;\n",
       "    }\n",
       "\n",
       "    .dataframe thead th {\n",
       "        text-align: right;\n",
       "    }\n",
       "</style>\n",
       "<table border=\"1\" class=\"dataframe\">\n",
       "  <thead>\n",
       "    <tr style=\"text-align: right;\">\n",
       "      <th></th>\n",
       "      <th>0</th>\n",
       "      <th>1</th>\n",
       "    </tr>\n",
       "  </thead>\n",
       "  <tbody>\n",
       "    <tr>\n",
       "      <th>0</th>\n",
       "      <td>-0.522413</td>\n",
       "      <td>0.453395</td>\n",
       "    </tr>\n",
       "    <tr>\n",
       "      <th>1</th>\n",
       "      <td>1.452854</td>\n",
       "      <td>0.085575</td>\n",
       "    </tr>\n",
       "    <tr>\n",
       "      <th>2</th>\n",
       "      <td>-0.382056</td>\n",
       "      <td>-0.236741</td>\n",
       "    </tr>\n",
       "    <tr>\n",
       "      <th>3</th>\n",
       "      <td>-0.618739</td>\n",
       "      <td>0.418697</td>\n",
       "    </tr>\n",
       "    <tr>\n",
       "      <th>4</th>\n",
       "      <td>-0.662532</td>\n",
       "      <td>0.818978</td>\n",
       "    </tr>\n",
       "    <tr>\n",
       "      <th>...</th>\n",
       "      <td>...</td>\n",
       "      <td>...</td>\n",
       "    </tr>\n",
       "    <tr>\n",
       "      <th>995</th>\n",
       "      <td>1.414197</td>\n",
       "      <td>0.199188</td>\n",
       "    </tr>\n",
       "    <tr>\n",
       "      <th>996</th>\n",
       "      <td>1.242265</td>\n",
       "      <td>-0.224595</td>\n",
       "    </tr>\n",
       "    <tr>\n",
       "      <th>997</th>\n",
       "      <td>-0.166141</td>\n",
       "      <td>-0.559628</td>\n",
       "    </tr>\n",
       "    <tr>\n",
       "      <th>998</th>\n",
       "      <td>-0.618739</td>\n",
       "      <td>0.418697</td>\n",
       "    </tr>\n",
       "    <tr>\n",
       "      <th>999</th>\n",
       "      <td>-0.143574</td>\n",
       "      <td>-0.643536</td>\n",
       "    </tr>\n",
       "  </tbody>\n",
       "</table>\n",
       "<p>1000 rows × 2 columns</p>\n",
       "</div>"
      ],
      "text/plain": [
       "            0         1\n",
       "0   -0.522413  0.453395\n",
       "1    1.452854  0.085575\n",
       "2   -0.382056 -0.236741\n",
       "3   -0.618739  0.418697\n",
       "4   -0.662532  0.818978\n",
       "..        ...       ...\n",
       "995  1.414197  0.199188\n",
       "996  1.242265 -0.224595\n",
       "997 -0.166141 -0.559628\n",
       "998 -0.618739  0.418697\n",
       "999 -0.143574 -0.643536\n",
       "\n",
       "[1000 rows x 2 columns]"
      ]
     },
     "execution_count": 82,
     "metadata": {},
     "output_type": "execute_result"
    }
   ],
   "source": [
    "encoder = OneHotEncoder()\n",
    "\n",
    "# Fitting and transforming the data\n",
    "one_hot_encoded_data = encoder.fit_transform(X)\n",
    "\n",
    "# Converting the sparse matrix to a dense numpy array and adding the weight column\n",
    "final_data = pd.concat([pd.DataFrame(one_hot_encoded_data.toarray())], axis=1)\n",
    "\n",
    "# Printing the final one-hot encoded data\n",
    "mca = prince.MCA(n_components=2)\n",
    "mca.fit(final_data)\n",
    "transformed_data = mca.transform(final_data)\n",
    "transformed_data"
   ]
  }
 ],
 "metadata": {
  "kernelspec": {
   "display_name": "Python 3",
   "language": "python",
   "name": "python3"
  },
  "language_info": {
   "codemirror_mode": {
    "name": "ipython",
    "version": 3
   },
   "file_extension": ".py",
   "mimetype": "text/x-python",
   "name": "python",
   "nbconvert_exporter": "python",
   "pygments_lexer": "ipython3",
   "version": "3.9.2"
  }
 },
 "nbformat": 4,
 "nbformat_minor": 5
}
